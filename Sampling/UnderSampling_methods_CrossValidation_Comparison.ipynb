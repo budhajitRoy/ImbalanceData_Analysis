{
 "cells": [
  {
   "cell_type": "markdown",
   "id": "893b12b2",
   "metadata": {},
   "source": [
    "## Compare different Under Sampling using Different Datasets - II"
   ]
  },
  {
   "cell_type": "markdown",
   "id": "048d595d",
   "metadata": {},
   "source": [
    "- In this notebook, we will try to compare different under sampling methods on different datasets using a Random Forest Model with Cross Validation\n",
    "- The main take here is that whenever we perform under sampling technique to balance our dataset, we should train our model on the under sampled trained set BUT we should use the original test set for evaluation ( meaning the test set should not be under sampled)\n",
    "- When we train a classifier, we want it to predict an outcome in a real life dataset. The real datasets, most likely, also have a class imbalance. Thus, it is important to evaluate the performance of the classifier, on a data set with the same distribution of classes, as the one we expect in real life.\n",
    "\n",
    "This means, that the under-sampling methods should be performed on the dataset that we are going to use to train the classifier. But, **the performance of the model should be determined on a portion of the data, that was not re-sampled**.\n",
    "\n",
    "In this notebook, we will use the imbalanced-learn pipeline, to set up various under-sampling solutions, in a way that we train the model on re-sampled data, but we evaluate performance on non resampled data."
   ]
  },
  {
   "cell_type": "code",
   "execution_count": 102,
   "id": "b3ab0aac",
   "metadata": {},
   "outputs": [],
   "source": [
    "# import libraries\n",
    "import numpy as np\n",
    "import pandas as pd\n",
    "\n",
    "# for counting\n",
    "from collections import Counter\n",
    "\n",
    "# for plotting \n",
    "import matplotlib.pyplot as plt\n",
    "import seaborn as sns\n",
    "\n",
    "# from sklearn \n",
    "from sklearn.datasets import make_classification\n",
    "from sklearn.ensemble import RandomForestClassifier\n",
    "from sklearn.model_selection import train_test_split, cross_validate\n",
    "from sklearn.metrics import average_precision_score\n",
    "from sklearn.preprocessing import MinMaxScaler\n",
    "\n",
    "# from imblearn\n",
    "from imblearn.datasets import fetch_datasets\n",
    "from imblearn.pipeline import make_pipeline\n",
    "from imblearn.under_sampling import (\n",
    "    RandomUnderSampler,\n",
    "    CondensedNearestNeighbour,\n",
    "    EditedNearestNeighbours,\n",
    "    RepeatedEditedNearestNeighbours,\n",
    "    TomekLinks,\n",
    "    AllKNN,\n",
    "    NeighbourhoodCleaningRule,\n",
    "    NearMiss,\n",
    "    OneSidedSelection,\n",
    "    InstanceHardnessThreshold\n",
    ")"
   ]
  },
  {
   "cell_type": "markdown",
   "id": "32b1c78b",
   "metadata": {},
   "source": [
    "## Initialize under sampling methods\n",
    "\n",
    "- Lets create a dictionary that contains the initialization of all our Under Sampling methods"
   ]
  },
  {
   "cell_type": "code",
   "execution_count": 101,
   "id": "1e17a471",
   "metadata": {},
   "outputs": [],
   "source": [
    "undersampler_dict = {\n",
    "    \n",
    "    'random' : RandomUnderSampler(\n",
    "        sampling_strategy='auto',\n",
    "        random_state=0,\n",
    "        replacement=True),\n",
    "    \n",
    "    'cnn' : CondensedNearestNeighbour(\n",
    "        sampling_strategy='auto',\n",
    "        n_neighbors=1,\n",
    "        random_state=0,n_jobs=2),\n",
    "    \n",
    "    'enn' : EditedNearestNeighbours(\n",
    "        sampling_strategy='auto',\n",
    "        n_neighbors=3,\n",
    "        kind_sel='all',\n",
    "        n_jobs=2),\n",
    "  \n",
    "    'renn' : RepeatedEditedNearestNeighbours(\n",
    "        sampling_strategy='auto',\n",
    "        n_neighbors=3,\n",
    "        kind_sel='all',\n",
    "        n_jobs=2,\n",
    "        max_iter=100),\n",
    "  \n",
    "    'tomek' : TomekLinks(\n",
    "        sampling_strategy='auto',\n",
    "        n_jobs=2),\n",
    "    \n",
    "    'allknn' : AllKNN(\n",
    "        sampling_strategy='auto',\n",
    "        n_neighbors=3,\n",
    "        kind_sel='all',\n",
    "        n_jobs=2),\n",
    "    \n",
    "    'ncr' : NeighbourhoodCleaningRule(\n",
    "        sampling_strategy='auto',\n",
    "        n_neighbors=3,\n",
    "        kind_sel='all',\n",
    "        n_jobs=2,\n",
    "        threshold_cleaning=0.5),\n",
    "    \n",
    "    'oss' : OneSidedSelection(\n",
    "                            sampling_strategy='auto',\n",
    "                            random_state=0,\n",
    "                            n_neighbors=1,\n",
    "                            n_jobs=2),\n",
    "    \n",
    "    \n",
    "    'ncr' : NeighbourhoodCleaningRule(\n",
    "        sampling_strategy='auto',\n",
    "        n_neighbors=3,\n",
    "        kind_sel='all',\n",
    "        n_jobs=2,\n",
    "        threshold_cleaning=0.5),\n",
    "    \n",
    "    'oss' : OneSidedSelection(\n",
    "                            sampling_strategy='auto',\n",
    "                            random_state=0,\n",
    "                            n_neighbors=1,\n",
    "                            n_jobs=2),\n",
    "    \n",
    "    'nm1' : NearMiss(sampling_strategy='auto',\n",
    "                     version=1,\n",
    "                     n_neighbors=3,\n",
    "                     n_jobs=2),\n",
    "    \n",
    "    'nm2' : NearMiss(sampling_strategy='auto',\n",
    "                     version=2,\n",
    "                     n_neighbors=3,\n",
    "                     n_jobs=2),\n",
    "    \n",
    "\n",
    "    'iht' : InstanceHardnessThreshold(\n",
    "        estimator=RandomForestClassifier(n_estimators=100,max_depth=3, n_jobs=2,random_state=39), \n",
    "                                     sampling_strategy='auto',\n",
    "                                     cv=3,\n",
    "                                     random_state=0,\n",
    "                                     n_jobs=2)  \n",
    "}"
   ]
  },
  {
   "cell_type": "code",
   "execution_count": 103,
   "id": "e3b3b0dc",
   "metadata": {},
   "outputs": [],
   "source": [
    "# lets define the datasets to use - as a list of datasets names\n",
    "datasets_ls = [\n",
    "    'car_eval_34',\n",
    "    'ecoli',\n",
    "    'thyroid_sick',\n",
    "    'arrhythmia',\n",
    "    'ozone_level'\n",
    "]"
   ]
  },
  {
   "cell_type": "code",
   "execution_count": 104,
   "id": "b953d29c",
   "metadata": {},
   "outputs": [
    {
     "data": {
      "text/plain": [
       "{'data': array([[0.49, 0.29, 0.48, ..., 0.56, 0.24, 0.35],\n",
       "        [0.07, 0.4 , 0.48, ..., 0.54, 0.35, 0.44],\n",
       "        [0.56, 0.4 , 0.48, ..., 0.49, 0.37, 0.46],\n",
       "        ...,\n",
       "        [0.61, 0.6 , 0.48, ..., 0.44, 0.39, 0.38],\n",
       "        [0.59, 0.61, 0.48, ..., 0.42, 0.42, 0.37],\n",
       "        [0.74, 0.74, 0.48, ..., 0.31, 0.53, 0.52]]),\n",
       " 'target': array([-1, -1, -1, -1, -1, -1, -1, -1, -1, -1, -1, -1, -1, -1, -1, -1, -1,\n",
       "        -1, -1, -1, -1, -1, -1, -1, -1, -1, -1, -1, -1, -1, -1, -1, -1, -1,\n",
       "        -1, -1, -1, -1, -1, -1, -1, -1, -1, -1, -1, -1, -1, -1, -1, -1, -1,\n",
       "        -1, -1, -1, -1, -1, -1, -1, -1, -1, -1, -1, -1, -1, -1, -1, -1, -1,\n",
       "        -1, -1, -1, -1, -1, -1, -1, -1, -1, -1, -1, -1, -1, -1, -1, -1, -1,\n",
       "        -1, -1, -1, -1, -1, -1, -1, -1, -1, -1, -1, -1, -1, -1, -1, -1, -1,\n",
       "        -1, -1, -1, -1, -1, -1, -1, -1, -1, -1, -1, -1, -1, -1, -1, -1, -1,\n",
       "        -1, -1, -1, -1, -1, -1, -1, -1, -1, -1, -1, -1, -1, -1, -1, -1, -1,\n",
       "        -1, -1, -1, -1, -1, -1, -1, -1, -1, -1, -1, -1, -1, -1, -1, -1, -1,\n",
       "        -1, -1, -1, -1, -1, -1, -1, -1, -1, -1, -1, -1, -1, -1, -1, -1, -1,\n",
       "        -1, -1, -1, -1, -1, -1, -1, -1, -1, -1, -1, -1, -1, -1, -1, -1, -1,\n",
       "        -1, -1, -1, -1, -1, -1, -1, -1, -1, -1, -1, -1, -1, -1, -1, -1, -1,\n",
       "        -1, -1, -1, -1, -1, -1, -1, -1, -1, -1, -1, -1, -1, -1, -1, -1, -1,\n",
       "        -1, -1, -1,  1,  1,  1,  1,  1,  1,  1,  1,  1,  1,  1,  1,  1,  1,\n",
       "         1,  1,  1,  1,  1,  1,  1,  1,  1,  1,  1,  1,  1,  1,  1,  1,  1,\n",
       "         1,  1,  1,  1, -1, -1, -1, -1, -1, -1, -1, -1, -1, -1, -1, -1, -1,\n",
       "        -1, -1, -1, -1, -1, -1, -1, -1, -1, -1, -1, -1, -1, -1, -1, -1, -1,\n",
       "        -1, -1, -1, -1, -1, -1, -1, -1, -1, -1, -1, -1, -1, -1, -1, -1, -1,\n",
       "        -1, -1, -1, -1, -1, -1, -1, -1, -1, -1, -1, -1, -1, -1, -1, -1, -1,\n",
       "        -1, -1, -1, -1, -1, -1, -1, -1, -1, -1, -1, -1, -1], dtype=int64),\n",
       " 'DESCR': 'ecoli'}"
      ]
     },
     "execution_count": 104,
     "metadata": {},
     "output_type": "execute_result"
    }
   ],
   "source": [
    "# getting the datasets\n",
    "\n",
    "data = fetch_datasets()['ecoli']\n",
    "data"
   ]
  },
  {
   "cell_type": "code",
   "execution_count": 106,
   "id": "289840e3",
   "metadata": {},
   "outputs": [
    {
     "data": {
      "text/plain": [
       "array([0.49, 0.29, 0.48, 0.5 , 0.56, 0.24, 0.35])"
      ]
     },
     "execution_count": 106,
     "metadata": {},
     "output_type": "execute_result"
    }
   ],
   "source": [
    "data.data[0][:]"
   ]
  },
  {
   "cell_type": "code",
   "execution_count": 107,
   "id": "4a7c47e0",
   "metadata": {},
   "outputs": [
    {
     "data": {
      "text/plain": [
       "-1    301\n",
       " 1     35\n",
       "dtype: int64"
      ]
     },
     "execution_count": 107,
     "metadata": {},
     "output_type": "execute_result"
    }
   ],
   "source": [
    "pd.Series(data.target).value_counts()"
   ]
  },
  {
   "cell_type": "code",
   "execution_count": 108,
   "id": "37369009",
   "metadata": {},
   "outputs": [
    {
     "name": "stdout",
     "output_type": "stream",
     "text": [
      "car_eval_34\n",
      "-1    1594\n",
      " 1     134\n",
      "dtype: int64\n",
      "ecoli\n",
      "-1    301\n",
      " 1     35\n",
      "dtype: int64\n",
      "thyroid_sick\n",
      "-1    3541\n",
      " 1     231\n",
      "dtype: int64\n",
      "arrhythmia\n",
      "-1    427\n",
      " 1     25\n",
      "dtype: int64\n",
      "ozone_level\n",
      "-1    2463\n",
      " 1      73\n",
      "dtype: int64\n"
     ]
    }
   ],
   "source": [
    "# lets try to check the data imbalance for all the data in our dataset list\n",
    "\n",
    "for dataset in datasets_ls:\n",
    "    data = fetch_datasets()[dataset]\n",
    "    print(dataset)\n",
    "    data = pd.Series(data.target)\n",
    "    print(data.value_counts())"
   ]
  },
  {
   "cell_type": "code",
   "execution_count": 39,
   "id": "c975b055",
   "metadata": {},
   "outputs": [
    {
     "name": "stdout",
     "output_type": "stream",
     "text": [
      "car_eval_34\n",
      "Counter({-1: 1594, 1: 134})\n",
      "\n",
      "ecoli\n",
      "Counter({-1: 301, 1: 35})\n",
      "\n",
      "thyroid_sick\n",
      "Counter({-1: 3541, 1: 231})\n",
      "\n",
      "arrhythmia\n",
      "Counter({-1: 427, 1: 25})\n",
      "\n",
      "ozone_level\n",
      "Counter({-1: 2463, 1: 73})\n",
      "\n"
     ]
    }
   ],
   "source": [
    "# can do this way as well\n",
    "for dataset in datasets_ls:\n",
    "    data = fetch_datasets()[dataset]\n",
    "    print(dataset)\n",
    "    print(Counter(data.target))\n",
    "    print()"
   ]
  },
  {
   "cell_type": "code",
   "execution_count": 129,
   "id": "172317dc",
   "metadata": {},
   "outputs": [],
   "source": [
    "# lets create a function to train random forest model and evaluate the model with cross validation\n",
    "\n",
    "def run_model(X_train, y_train, undersampler=None):\n",
    "    \n",
    "    # set up the classifier\n",
    "    rf = RandomForestClassifier(n_estimators=100, n_jobs=2, max_depth=4, random_state=39)\n",
    "    \n",
    "    # set up a scaler \n",
    "    # (as many undersampling techniques use KNN\n",
    "    # we put the variables in the same scale)\n",
    "    scaler = MinMaxScaler()\n",
    "        \n",
    "    # without under sampling\n",
    "    if not undersampler:\n",
    "        model = rf\n",
    "        \n",
    "    # set up a pipeline with under-sampling\n",
    "    else:\n",
    "        # important to scale before the under-sampler\n",
    "        # as the many of methods require the variables in \n",
    "        # a similar scale\n",
    "        model = make_pipeline(\n",
    "            scaler,\n",
    "            undersampler,\n",
    "            rf\n",
    "        )\n",
    "        \n",
    "    \n",
    "    # now fit the model using cross validation and evaluate the performance metrics\n",
    "    # When we make a pipeline and then run the training of the model\n",
    "    # with cross-validation, the procedure works as follows:\n",
    "    \n",
    "    # 1) take 2 of the 3 fold as train set\n",
    "    # 2) resample the 2 fold (aka, the train set)\n",
    "    # 3) train the model on the resampled data from point 2\n",
    "    # 4) evaluate performance on the 3rd fold, that was not resampled\n",
    "    \n",
    "    # this way, we make sure that we are not evaluating the performance\n",
    "    # of our classifier on the under-sampled data\n",
    "    \n",
    "    cv_results = cross_validate(model,\n",
    "                                X_train,\n",
    "                                y_train,\n",
    "                                cv=3,\n",
    "                                scoring=\"average_precision\",\n",
    "                                n_jobs=2) \n",
    "    return cv_results"
   ]
  },
  {
   "cell_type": "code",
   "execution_count": 130,
   "id": "28c3d3f2",
   "metadata": {},
   "outputs": [],
   "source": [
    "data = fetch_datasets()['ecoli']\n",
    "X_train, X_test, y_train, y_test = train_test_split(data.data, data.target, test_size=0.3, random_state=1)\n",
    "for sampler in undersampler_dict.keys():\n",
    "    cv = run_model(X_train, y_train, undersampler_dict[sampler])\n",
    "    break"
   ]
  },
  {
   "cell_type": "code",
   "execution_count": 131,
   "id": "54964624",
   "metadata": {},
   "outputs": [
    {
     "data": {
      "text/plain": [
       "{'fit_time': array([0.13800144, 0.13699841, 0.1269567 ]),\n",
       " 'score_time': array([0.02399659, 0.02499962, 0.02596974]),\n",
       " 'test_score': array([0.6601443 , 0.38449085, 0.70502229])}"
      ]
     },
     "execution_count": 131,
     "metadata": {},
     "output_type": "execute_result"
    }
   ],
   "source": [
    "# we are getting 3 values each as we are performing 3 fold cross validation\n",
    "# each results for each fold\n",
    "cv"
   ]
  },
  {
   "cell_type": "code",
   "execution_count": 132,
   "id": "d17d1089",
   "metadata": {},
   "outputs": [
    {
     "name": "stdout",
     "output_type": "stream",
     "text": [
      "0.5832191480017567\n",
      "0.1417114685336051\n"
     ]
    }
   ],
   "source": [
    "print(cv['test_score'].mean())\n",
    "print(cv['test_score'].std())"
   ]
  },
  {
   "cell_type": "code",
   "execution_count": 136,
   "id": "31050bb9",
   "metadata": {},
   "outputs": [],
   "source": [
    "# rewriting the same function again for displaying and printing out all the results of each dataset and under sampler\n",
    "# lets create a function to train random forest model and evaluate the model with cross validation\n",
    "\n",
    "def run_model(X_train, y_train, undersampler=None):\n",
    "    \n",
    "    # set up the classifier\n",
    "    rf = RandomForestClassifier(n_estimators=100, n_jobs=2, max_depth=4, random_state=39)\n",
    "    \n",
    "    # set up a scaler \n",
    "    # (as many undersampling techniques use KNN\n",
    "    # we put the variables in the same scale)\n",
    "    scaler = MinMaxScaler()\n",
    "        \n",
    "    # without under sampling\n",
    "    if not undersampler:\n",
    "        model = rf\n",
    "        \n",
    "    # set up a pipeline with under-sampling\n",
    "    else:\n",
    "        # important to scale before the under-sampler\n",
    "        # as the many of methods require the variables in \n",
    "        # a similar scale\n",
    "        model = make_pipeline(\n",
    "            scaler,\n",
    "            undersampler,\n",
    "            rf\n",
    "        )\n",
    "        \n",
    "    \n",
    "    # now fit the model using cross validation and evaluate the performance metrics\n",
    "    # When we make a pipeline and then run the training of the model\n",
    "    # with cross-validation, the procedure works as follows:\n",
    "    \n",
    "    # 1) take 2 of the 3 fold as train set\n",
    "    # 2) resample the 2 fold (aka, the train set)\n",
    "    # 3) train the model on the resampled data from point 2\n",
    "    # 4) evaluate performance on the 3rd fold, that was not resampled\n",
    "    \n",
    "    # this way, we make sure that we are not evaluating the performance\n",
    "    # of our classifier on the under-sampled data\n",
    "    \n",
    "    cv_results = cross_validate(model,\n",
    "                                X_train,\n",
    "                                y_train,\n",
    "                                cv=3,\n",
    "                                scoring=\"average_precision\",\n",
    "                                n_jobs=2) \n",
    "    \n",
    "    # display the mean and std of the test scores given by the model\n",
    "    print('Random Forest Average Precision: {0} +/- {1}'.format(cv_results['test_score'].mean(), \n",
    "                                                                cv_results['test_score'].std()))\n",
    "    \n",
    "    # returnt the mean score and std\n",
    "    return cv_results['test_score'].mean(), cv_results['test_score'].std()"
   ]
  },
  {
   "cell_type": "markdown",
   "id": "41fa1033",
   "metadata": {},
   "source": [
    "### calling the function for all datasets and for all under sampler methods"
   ]
  },
  {
   "cell_type": "code",
   "execution_count": 137,
   "id": "eabc8e52",
   "metadata": {
    "scrolled": false
   },
   "outputs": [
    {
     "name": "stdout",
     "output_type": "stream",
     "text": [
      "car_eval_34\n",
      "Random Forest Average Precision: 0.8207287954705275 +/- 0.048666919598426686\n",
      "\n",
      "random\n",
      "Random Forest Average Precision: 0.8673082162588837 +/- 0.039970502151167035\n",
      "\n",
      "cnn\n",
      "Random Forest Average Precision: 0.8479860713595687 +/- 0.027333727660020454\n",
      "\n",
      "enn\n",
      "Random Forest Average Precision: 0.8094719390151046 +/- 0.05358211852730241\n",
      "\n",
      "renn\n",
      "Random Forest Average Precision: 0.8402520516970408 +/- 0.05779525074730297\n",
      "\n",
      "tomek\n",
      "Random Forest Average Precision: 0.8334875111835851 +/- 0.055999465675532066\n",
      "\n",
      "allknn\n",
      "Random Forest Average Precision: 0.8015232318537479 +/- 0.07321803076497946\n",
      "\n",
      "ncr\n",
      "Random Forest Average Precision: 0.8194933814408993 +/- 0.043880400318127726\n",
      "\n",
      "oss\n",
      "Random Forest Average Precision: 0.8134049044128328 +/- 0.049646043419862264\n",
      "\n",
      "nm1\n",
      "Random Forest Average Precision: 0.8943485093554805 +/- 0.04303328926658031\n",
      "\n",
      "nm2\n",
      "Random Forest Average Precision: 0.5035888371711364 +/- 0.05246871810636031\n",
      "\n",
      "iht\n",
      "Random Forest Average Precision: 0.620758292251503 +/- 0.03593956490924306\n",
      "\n",
      "\n",
      "ecoli\n",
      "Random Forest Average Precision: 0.6819187371270704 +/- 0.10314831915874136\n",
      "\n",
      "random\n",
      "Random Forest Average Precision: 0.5765479675844308 +/- 0.06861676016586615\n",
      "\n",
      "cnn\n",
      "Random Forest Average Precision: 0.6108002756100582 +/- 0.08175730090124846\n",
      "\n",
      "enn\n",
      "Random Forest Average Precision: 0.6610729941403422 +/- 0.10641693609696126\n",
      "\n",
      "renn\n",
      "Random Forest Average Precision: 0.6200148658303394 +/- 0.07397157683020256\n",
      "\n",
      "tomek\n",
      "Random Forest Average Precision: 0.688223553693755 +/- 0.11451401544097727\n",
      "\n",
      "allknn\n",
      "Random Forest Average Precision: 0.6473520666576222 +/- 0.07223051413107491\n",
      "\n",
      "ncr\n",
      "Random Forest Average Precision: 0.6535642842240065 +/- 0.11180096055939308\n",
      "\n",
      "oss\n",
      "Random Forest Average Precision: 0.6689947736580303 +/- 0.13173698791867025\n",
      "\n",
      "nm1\n",
      "Random Forest Average Precision: 0.18752944753317677 +/- 0.06551841805068333\n",
      "\n",
      "nm2\n",
      "Random Forest Average Precision: 0.268446641008622 +/- 0.047749955785672434\n",
      "\n",
      "iht\n",
      "Random Forest Average Precision: 0.30732100738905294 +/- 0.10612269246623426\n",
      "\n",
      "\n",
      "thyroid_sick\n",
      "Random Forest Average Precision: 0.791097012129098 +/- 0.0495063961998672\n",
      "\n",
      "random\n",
      "Random Forest Average Precision: 0.7933159147812163 +/- 0.07386942186671616\n",
      "\n",
      "cnn\n",
      "Random Forest Average Precision: 0.8458732088905455 +/- 0.040180197548018506\n",
      "\n",
      "enn\n",
      "Random Forest Average Precision: 0.7354791296900087 +/- 0.04027157771005991\n",
      "\n",
      "renn\n",
      "Random Forest Average Precision: 0.7295313376229249 +/- 0.054368850410329204\n",
      "\n",
      "tomek\n",
      "Random Forest Average Precision: 0.7952658664176688 +/- 0.038440453362106955\n",
      "\n",
      "allknn\n",
      "Random Forest Average Precision: 0.7434979147642403 +/- 0.04590368678989933\n",
      "\n",
      "ncr\n",
      "Random Forest Average Precision: 0.7821069189216766 +/- 0.052791279660643516\n",
      "\n",
      "oss\n",
      "Random Forest Average Precision: 0.7920573430086021 +/- 0.03525029916936101\n",
      "\n",
      "nm1\n",
      "Random Forest Average Precision: 0.24957029845223508 +/- 0.06140563894576926\n",
      "\n",
      "nm2\n",
      "Random Forest Average Precision: 0.26041722592943256 +/- 0.1537148760872943\n",
      "\n",
      "iht\n",
      "Random Forest Average Precision: 0.8227257027316273 +/- 0.02567070843996636\n",
      "\n",
      "\n",
      "arrhythmia\n",
      "Random Forest Average Precision: 0.3028170648242081 +/- 0.11072799408593603\n",
      "\n",
      "random\n",
      "Random Forest Average Precision: 0.27126835295175805 +/- 0.10033475686255287\n",
      "\n",
      "cnn\n",
      "Random Forest Average Precision: 0.3696124057145562 +/- 0.056775598248090114\n",
      "\n",
      "enn\n",
      "Random Forest Average Precision: 0.33639757537783854 +/- 0.10306859823251896\n",
      "\n",
      "renn\n",
      "Random Forest Average Precision: 0.33114503552003555 +/- 0.04323505827112224\n",
      "\n",
      "tomek\n",
      "Random Forest Average Precision: 0.28103981200900024 +/- 0.09389217399108861\n",
      "\n",
      "allknn\n",
      "Random Forest Average Precision: 0.2632715724820988 +/- 0.05157791983228748\n",
      "\n",
      "ncr\n",
      "Random Forest Average Precision: 0.299861944713052 +/- 0.1782765764065441\n",
      "\n",
      "oss\n",
      "Random Forest Average Precision: 0.37470559063696324 +/- 0.0706398003581244\n",
      "\n",
      "nm1\n",
      "Random Forest Average Precision: 0.10026591877261286 +/- 0.03600677772789912\n",
      "\n",
      "nm2\n",
      "Random Forest Average Precision: 0.16930451060975873 +/- 0.08516307377506854\n",
      "\n",
      "iht\n",
      "Random Forest Average Precision: 0.1883352155351413 +/- 0.072184247303744\n",
      "\n",
      "\n",
      "ozone_level\n",
      "Random Forest Average Precision: 0.3087636101906822 +/- 0.08353693141489042\n",
      "\n",
      "random\n",
      "Random Forest Average Precision: 0.28621835199602585 +/- 0.11673248140757599\n",
      "\n",
      "cnn\n",
      "Random Forest Average Precision: 0.2638665881583122 +/- 0.042537644898525025\n",
      "\n",
      "enn\n",
      "Random Forest Average Precision: 0.3015386995029498 +/- 0.0634228260969178\n",
      "\n",
      "renn\n",
      "Random Forest Average Precision: 0.31144509213760624 +/- 0.04432506869632117\n",
      "\n",
      "tomek\n",
      "Random Forest Average Precision: 0.2771774140051541 +/- 0.05866563297644058\n",
      "\n",
      "allknn\n",
      "Random Forest Average Precision: 0.2931104779293838 +/- 0.04135532273032324\n",
      "\n",
      "ncr\n",
      "Random Forest Average Precision: 0.289773280491088 +/- 0.0810946453094966\n",
      "\n",
      "oss\n",
      "Random Forest Average Precision: 0.30144569329100396 +/- 0.07969148761637089\n",
      "\n",
      "nm1\n",
      "Random Forest Average Precision: 0.04599994021156273 +/- 0.02505943406906737\n",
      "\n",
      "nm2\n",
      "Random Forest Average Precision: 0.22863520655391859 +/- 0.07237886920006235\n",
      "\n",
      "iht\n",
      "Random Forest Average Precision: 0.03516684491262849 +/- 0.009561768402220134\n",
      "\n",
      "\n"
     ]
    }
   ],
   "source": [
    "mean_dict = dict()\n",
    "std_dict = dict()\n",
    "\n",
    "for dataset in datasets_ls:\n",
    "    print(dataset)\n",
    "    \n",
    "    mean_dict[dataset] = {}\n",
    "    std_dict[dataset] = {}\n",
    "    \n",
    "    data = fetch_datasets()[dataset]\n",
    "    \n",
    "    # split into Train and Test data\n",
    "    X_train, X_test, y_train, y_test = train_test_split(data.data, data.target, test_size=0.3, random_state=0)\n",
    "    # print(X_train.shape, X_test.shape)\n",
    "\n",
    "    # run the RF model and get the ROC values for the original data set\n",
    "    mean, std = run_model(X_train, y_train)\n",
    "    \n",
    "    mean_dict[dataset]['full_data'] = mean\n",
    "    std_dict[dataset]['full_data'] = std\n",
    "    \n",
    "    print()\n",
    "    \n",
    "    # now test using different under sampling methods one at a time\n",
    "    for sampler in undersampler_dict.keys():\n",
    "\n",
    "        # display the under sampler name\n",
    "        print(sampler)        \n",
    "        \n",
    "        # run the function for each under sampler for the resampled data sets\n",
    "        mean, std = run_model(X_train, y_train, undersampler_dict[sampler])\n",
    "        \n",
    "        # store the results\n",
    "        mean_dict[dataset][sampler] = mean\n",
    "        std_dict[dataset][sampler] = std\n",
    "        \n",
    "        print()\n",
    "    print()\n"
   ]
  },
  {
   "cell_type": "code",
   "execution_count": 138,
   "id": "c2d15dcd",
   "metadata": {},
   "outputs": [
    {
     "name": "stdout",
     "output_type": "stream",
     "text": [
      "{'car_eval_34': {'full_data': 0.8207287954705275, 'random': 0.8673082162588837, 'cnn': 0.8479860713595687, 'enn': 0.8094719390151046, 'renn': 0.8402520516970408, 'tomek': 0.8334875111835851, 'allknn': 0.8015232318537479, 'ncr': 0.8194933814408993, 'oss': 0.8134049044128328, 'nm1': 0.8943485093554805, 'nm2': 0.5035888371711364, 'iht': 0.620758292251503}, 'ecoli': {'full_data': 0.6819187371270704, 'random': 0.5765479675844308, 'cnn': 0.6108002756100582, 'enn': 0.6610729941403422, 'renn': 0.6200148658303394, 'tomek': 0.688223553693755, 'allknn': 0.6473520666576222, 'ncr': 0.6535642842240065, 'oss': 0.6689947736580303, 'nm1': 0.18752944753317677, 'nm2': 0.268446641008622, 'iht': 0.30732100738905294}, 'thyroid_sick': {'full_data': 0.791097012129098, 'random': 0.7933159147812163, 'cnn': 0.8458732088905455, 'enn': 0.7354791296900087, 'renn': 0.7295313376229249, 'tomek': 0.7952658664176688, 'allknn': 0.7434979147642403, 'ncr': 0.7821069189216766, 'oss': 0.7920573430086021, 'nm1': 0.24957029845223508, 'nm2': 0.26041722592943256, 'iht': 0.8227257027316273}, 'arrhythmia': {'full_data': 0.3028170648242081, 'random': 0.27126835295175805, 'cnn': 0.3696124057145562, 'enn': 0.33639757537783854, 'renn': 0.33114503552003555, 'tomek': 0.28103981200900024, 'allknn': 0.2632715724820988, 'ncr': 0.299861944713052, 'oss': 0.37470559063696324, 'nm1': 0.10026591877261286, 'nm2': 0.16930451060975873, 'iht': 0.1883352155351413}, 'ozone_level': {'full_data': 0.3087636101906822, 'random': 0.28621835199602585, 'cnn': 0.2638665881583122, 'enn': 0.3015386995029498, 'renn': 0.31144509213760624, 'tomek': 0.2771774140051541, 'allknn': 0.2931104779293838, 'ncr': 0.289773280491088, 'oss': 0.30144569329100396, 'nm1': 0.04599994021156273, 'nm2': 0.22863520655391859, 'iht': 0.03516684491262849}}\n"
     ]
    }
   ],
   "source": [
    "# lets print the results_dict()\n",
    "print(mean_dict)"
   ]
  },
  {
   "cell_type": "code",
   "execution_count": 153,
   "id": "e329f2c8",
   "metadata": {},
   "outputs": [
    {
     "data": {
      "image/png": "[encoded data removed]",
      "text/plain": [
       "<Figure size 432x288 with 1 Axes>"
      ]
     },
     "metadata": {
      "needs_background": "light"
     },
     "output_type": "display_data"
    }
   ],
   "source": [
    "test = mean_dict['car_eval_34']\n",
    "pd.Series(test).plot.bar()\n",
    "plt.axhline(mean_dict['car_eval_34']['full_data'], c = 'red')\n",
    "plt.show()"
   ]
  },
  {
   "cell_type": "code",
   "execution_count": 155,
   "id": "4ca247aa",
   "metadata": {
    "scrolled": false
   },
   "outputs": [
    {
     "name": "stdout",
     "output_type": "stream",
     "text": [
      "full_data    0.048667\n",
      "random       0.039971\n",
      "cnn          0.027334\n",
      "enn          0.053582\n",
      "renn         0.057795\n",
      "tomek        0.055999\n",
      "allknn       0.073218\n",
      "ncr          0.043880\n",
      "oss          0.049646\n",
      "nm1          0.043033\n",
      "nm2          0.052469\n",
      "iht          0.035940\n",
      "dtype: float64\n"
     ]
    },
    {
     "data": {
      "image/png": "[encoded data removed]",
      "text/plain": [
       "<Figure size 432x288 with 1 Axes>"
      ]
     },
     "metadata": {
      "needs_background": "light"
     },
     "output_type": "display_data"
    },
    {
     "name": "stdout",
     "output_type": "stream",
     "text": [
      "full_data    0.103148\n",
      "random       0.068617\n",
      "cnn          0.081757\n",
      "enn          0.106417\n",
      "renn         0.073972\n",
      "tomek        0.114514\n",
      "allknn       0.072231\n",
      "ncr          0.111801\n",
      "oss          0.131737\n",
      "nm1          0.065518\n",
      "nm2          0.047750\n",
      "iht          0.106123\n",
      "dtype: float64\n"
     ]
    },
    {
     "data": {
      "image/png": "[encoded data removed]",
      "text/plain": [
       "<Figure size 432x288 with 1 Axes>"
      ]
     },
     "metadata": {
      "needs_background": "light"
     },
     "output_type": "display_data"
    },
    {
     "name": "stdout",
     "output_type": "stream",
     "text": [
      "full_data    0.049506\n",
      "random       0.073869\n",
      "cnn          0.040180\n",
      "enn          0.040272\n",
      "renn         0.054369\n",
      "tomek        0.038440\n",
      "allknn       0.045904\n",
      "ncr          0.052791\n",
      "oss          0.035250\n",
      "nm1          0.061406\n",
      "nm2          0.153715\n",
      "iht          0.025671\n",
      "dtype: float64\n"
     ]
    },
    {
     "data": {
      "image/png": "[encoded data removed]",
      "text/plain": [
       "<Figure size 432x288 with 1 Axes>"
      ]
     },
     "metadata": {
      "needs_background": "light"
     },
     "output_type": "display_data"
    },
    {
     "name": "stdout",
     "output_type": "stream",
     "text": [
      "full_data    0.110728\n",
      "random       0.100335\n",
      "cnn          0.056776\n",
      "enn          0.103069\n",
      "renn         0.043235\n",
      "tomek        0.093892\n",
      "allknn       0.051578\n",
      "ncr          0.178277\n",
      "oss          0.070640\n",
      "nm1          0.036007\n",
      "nm2          0.085163\n",
      "iht          0.072184\n",
      "dtype: float64\n"
     ]
    },
    {
     "data": {
      "image/png": "[encoded data removed]",
      "text/plain": [
       "<Figure size 432x288 with 1 Axes>"
      ]
     },
     "metadata": {
      "needs_background": "light"
     },
     "output_type": "display_data"
    },
    {
     "name": "stdout",
     "output_type": "stream",
     "text": [
      "full_data    0.083537\n",
      "random       0.116732\n",
      "cnn          0.042538\n",
      "enn          0.063423\n",
      "renn         0.044325\n",
      "tomek        0.058666\n",
      "allknn       0.041355\n",
      "ncr          0.081095\n",
      "oss          0.079691\n",
      "nm1          0.025059\n",
      "nm2          0.072379\n",
      "iht          0.009562\n",
      "dtype: float64\n"
     ]
    },
    {
     "data": {
      "image/png": "[encoded data removed]",
      "text/plain": [
       "<Figure size 432x288 with 1 Axes>"
      ]
     },
     "metadata": {
      "needs_background": "light"
     },
     "output_type": "display_data"
    }
   ],
   "source": [
    "# plotting for all the sampling methods agains the full data \n",
    "\n",
    "for dataset in datasets_ls:\n",
    "    \n",
    "    mean_vals = pd.Series(mean_dict[dataset])\n",
    "    std_vals = pd.Series(std_dict[dataset])\n",
    "    print(std_vals)\n",
    "    mean_vals.plot.bar(yerr=[std_vals,std_vals])\n",
    "    \n",
    "    plt.title('{}'.format(dataset))\n",
    "    plt.ylabel('Average precision score')\n",
    "    plt.xlabel('sampling methods')\n",
    "    \n",
    "    plt.axhline(mean_dict[dataset]['full_data'],c='red')\n",
    "    plt.show()"
   ]
  },
  {
   "cell_type": "markdown",
   "id": "1c7d6be8",
   "metadata": {},
   "source": [
    "- WE can conclude that different sampling methods works differently for different datasets\n",
    "- **Different under-sampling techniques work best for different datasets.**\n",
    "- ENN, RENN and AllKNN tend to produce similar results, so we may as well just choose one of the 3"
   ]
  }
 ],
 "metadata": {
  "kernelspec": {
   "display_name": "Python 3 (ipykernel)",
   "language": "python",
   "name": "python3"
  },
  "language_info": {
   "codemirror_mode": {
    "name": "ipython",
    "version": 3
   },
   "file_extension": ".py",
   "mimetype": "text/x-python",
   "name": "python",
   "nbconvert_exporter": "python",
   "pygments_lexer": "ipython3",
   "version": "3.9.5"
  }
 },
 "nbformat": 4,
 "nbformat_minor": 5
}
