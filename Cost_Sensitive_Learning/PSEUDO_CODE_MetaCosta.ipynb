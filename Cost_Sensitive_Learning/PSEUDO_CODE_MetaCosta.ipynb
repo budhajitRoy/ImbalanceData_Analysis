{
 "cells": [
  {
   "cell_type": "markdown",
   "id": "bddcedf4",
   "metadata": {},
   "source": [
    "## PSEUDO_CODE_MetaCost\n",
    "\n",
    "https://www.udemy.com/course/machine-learning-with-imbalanced-data/learn/lecture/23765586#overview\n",
    "\n",
    "Inputs:\n",
    "- S : the training set\n",
    "- L : the classification algorithm\n",
    "- C : the Cost matrix\n",
    "- m : number of samples to regenerate\n",
    "- n : number of examples in each resample\n",
    "- p : True iff L produces class probabilities\n",
    "- q : True iff all resamples are to be used for each example\n",
    "\n",
    "\n",
    "Procedure MetaCost(S,L,C,m,n,p,q)\n",
    "\n",
    "For i = 1 to m\n",
    "    Let Si be a resample of S with n examples\n",
    "    Let Mi = Model produced by applying L to Si\n",
    "\n",
    "For each example x in S\n",
    "    For each class j, Let $P(j|x) = (1/\\sum\\limits_{i})\\sum\\limits_{i}P(j|x,M_i)$\n",
    "    \n",
    "Where:\n",
    "If p then P(j|x, Mi) is produced by Mi\n",
    "Else P(j|x,Mi)=1 for the class predicted by Mi for x, and 0 for all others\n",
    "If q then i ranges over all Mi\n",
    "Else i ranges over all Mi such that x doesnt belong Si\n",
    "Let x's class = $argmin_{i}\\sum\\limits_{j}P(j|x)C(i,j)$"
   ]
  },
  {
   "cell_type": "code",
   "execution_count": null,
   "id": "15b145a3",
   "metadata": {},
   "outputs": [],
   "source": []
  }
 ],
 "metadata": {
  "kernelspec": {
   "display_name": "Python 3 (ipykernel)",
   "language": "python",
   "name": "python3"
  },
  "language_info": {
   "codemirror_mode": {
    "name": "ipython",
    "version": 3
   },
   "file_extension": ".py",
   "mimetype": "text/x-python",
   "name": "python",
   "nbconvert_exporter": "python",
   "pygments_lexer": "ipython3",
   "version": "3.9.5"
  }
 },
 "nbformat": 4,
 "nbformat_minor": 5
}
