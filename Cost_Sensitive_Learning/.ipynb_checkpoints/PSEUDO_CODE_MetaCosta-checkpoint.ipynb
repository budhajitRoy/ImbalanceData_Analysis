{
 "cells": [
  {
   "cell_type": "markdown",
   "id": "598001d7",
   "metadata": {},
   "source": [
    "## PSEUDO_CODE_MetaCost\n",
    "\n",
    "https://www.udemy.com/course/machine-learning-with-imbalanced-data/learn/lecture/23765586#overview\n",
    "\n",
    "Inputs:\n",
    "- S : the training set\n",
    "- L : the classification algorithm\n",
    "- C : the Cost matrix\n",
    "- m : number of samples to regenerate\n",
    "- n : number of examples in each resample\n",
    "- p : True iff L produces class probabilities\n",
    "- q : True iff all resamples are to be used for each example\n",
    "\n",
    "\n",
    "Procedure MetaCost(S,L,C,m,n,p,q)\n",
    "\n",
    "For i = 1 to m\n",
    "    Let Si be a resample of S with n examples\n",
    "    Let Mi = Model produced by applying L to Si\n",
    "\n",
    "For each example x in S\n",
    "    For each class j, Let $P(j|x) = (1/\\sum\\limits_{i})\\sum\\limits_{i}P(j|x,M_i)$\n",
    "    \n",
    "Where:\n",
    "If p then P(j|x, Mi) is produced by Mi\n",
    "Else P(j|x,Mi)=1 for the class predicted by Mi for x, and 0 for all others\n",
    "If q then i ranges over all Mi\n",
    "Else i ranges over all Mi such that x doesnt belong Si\n",
    "Let x's class = $argmin_{i}\\sum\\limits_{j}P(j|x)C(i,j)$"
   ]
  },
  {
   "cell_type": "markdown",
   "id": "b3758ef7",
   "metadata": {},
   "source": [
    "## Using MetaCost to find model performance using Logistic Regression"
   ]
  },
  {
   "cell_type": "code",
   "execution_count": 1,
   "id": "0f7c28a1",
   "metadata": {},
   "outputs": [],
   "source": [
    "# import libraries\n",
    "\n",
    "import numpy as np\n",
    "import pandas as pd\n",
    "\n",
    "from sklearn.model_selection import train_test_split\n",
    "from sklearn.metrics import roc_auc_score\n",
    "from sklearn.linear_model import LogisticRegression\n",
    "\n",
    "from metacost import MetaCost"
   ]
  },
  {
   "cell_type": "code",
   "execution_count": 4,
   "id": "8902d980",
   "metadata": {},
   "outputs": [
    {
     "data": {
      "text/html": [
       "<div>\n",
       "<style scoped>\n",
       "    .dataframe tbody tr th:only-of-type {\n",
       "        vertical-align: middle;\n",
       "    }\n",
       "\n",
       "    .dataframe tbody tr th {\n",
       "        vertical-align: top;\n",
       "    }\n",
       "\n",
       "    .dataframe thead th {\n",
       "        text-align: right;\n",
       "    }\n",
       "</style>\n",
       "<table border=\"1\" class=\"dataframe\">\n",
       "  <thead>\n",
       "    <tr style=\"text-align: right;\">\n",
       "      <th></th>\n",
       "      <th>0</th>\n",
       "      <th>1</th>\n",
       "      <th>2</th>\n",
       "      <th>3</th>\n",
       "      <th>4</th>\n",
       "      <th>5</th>\n",
       "      <th>6</th>\n",
       "      <th>7</th>\n",
       "      <th>8</th>\n",
       "      <th>9</th>\n",
       "      <th>...</th>\n",
       "      <th>65</th>\n",
       "      <th>66</th>\n",
       "      <th>67</th>\n",
       "      <th>68</th>\n",
       "      <th>69</th>\n",
       "      <th>70</th>\n",
       "      <th>71</th>\n",
       "      <th>72</th>\n",
       "      <th>73</th>\n",
       "      <th>target</th>\n",
       "    </tr>\n",
       "  </thead>\n",
       "  <tbody>\n",
       "    <tr>\n",
       "      <th>46233</th>\n",
       "      <td>51.02</td>\n",
       "      <td>22.08</td>\n",
       "      <td>0.92</td>\n",
       "      <td>31.5</td>\n",
       "      <td>10.5</td>\n",
       "      <td>1910.7</td>\n",
       "      <td>-1.47</td>\n",
       "      <td>-0.74</td>\n",
       "      <td>-8.0</td>\n",
       "      <td>-52.0</td>\n",
       "      <td>...</td>\n",
       "      <td>879.5</td>\n",
       "      <td>1.58</td>\n",
       "      <td>-0.45</td>\n",
       "      <td>-5.0</td>\n",
       "      <td>-30.0</td>\n",
       "      <td>291.7</td>\n",
       "      <td>-0.12</td>\n",
       "      <td>0.47</td>\n",
       "      <td>0.96</td>\n",
       "      <td>-1</td>\n",
       "    </tr>\n",
       "    <tr>\n",
       "      <th>58625</th>\n",
       "      <td>64.17</td>\n",
       "      <td>24.60</td>\n",
       "      <td>-0.21</td>\n",
       "      <td>-35.5</td>\n",
       "      <td>26.0</td>\n",
       "      <td>4585.3</td>\n",
       "      <td>-1.10</td>\n",
       "      <td>1.17</td>\n",
       "      <td>-27.5</td>\n",
       "      <td>-121.5</td>\n",
       "      <td>...</td>\n",
       "      <td>4815.7</td>\n",
       "      <td>-1.09</td>\n",
       "      <td>5.09</td>\n",
       "      <td>25.0</td>\n",
       "      <td>-220.0</td>\n",
       "      <td>475.4</td>\n",
       "      <td>2.32</td>\n",
       "      <td>0.42</td>\n",
       "      <td>0.46</td>\n",
       "      <td>-1</td>\n",
       "    </tr>\n",
       "    <tr>\n",
       "      <th>5231</th>\n",
       "      <td>86.09</td>\n",
       "      <td>29.63</td>\n",
       "      <td>3.24</td>\n",
       "      <td>78.5</td>\n",
       "      <td>-89.0</td>\n",
       "      <td>453.2</td>\n",
       "      <td>1.87</td>\n",
       "      <td>4.58</td>\n",
       "      <td>63.0</td>\n",
       "      <td>-119.5</td>\n",
       "      <td>...</td>\n",
       "      <td>144.9</td>\n",
       "      <td>1.25</td>\n",
       "      <td>2.50</td>\n",
       "      <td>3.0</td>\n",
       "      <td>-24.0</td>\n",
       "      <td>64.8</td>\n",
       "      <td>-0.85</td>\n",
       "      <td>0.59</td>\n",
       "      <td>0.94</td>\n",
       "      <td>1</td>\n",
       "    </tr>\n",
       "    <tr>\n",
       "      <th>58042</th>\n",
       "      <td>78.57</td>\n",
       "      <td>21.37</td>\n",
       "      <td>0.36</td>\n",
       "      <td>-7.0</td>\n",
       "      <td>38.5</td>\n",
       "      <td>1779.1</td>\n",
       "      <td>-0.25</td>\n",
       "      <td>-0.03</td>\n",
       "      <td>-3.5</td>\n",
       "      <td>-62.5</td>\n",
       "      <td>...</td>\n",
       "      <td>1471.3</td>\n",
       "      <td>-0.12</td>\n",
       "      <td>1.48</td>\n",
       "      <td>-5.0</td>\n",
       "      <td>-62.0</td>\n",
       "      <td>406.9</td>\n",
       "      <td>0.18</td>\n",
       "      <td>0.41</td>\n",
       "      <td>0.68</td>\n",
       "      <td>-1</td>\n",
       "    </tr>\n",
       "    <tr>\n",
       "      <th>128067</th>\n",
       "      <td>79.13</td>\n",
       "      <td>24.18</td>\n",
       "      <td>0.78</td>\n",
       "      <td>-3.0</td>\n",
       "      <td>-16.0</td>\n",
       "      <td>844.1</td>\n",
       "      <td>0.48</td>\n",
       "      <td>-0.56</td>\n",
       "      <td>-6.5</td>\n",
       "      <td>-52.0</td>\n",
       "      <td>...</td>\n",
       "      <td>633.8</td>\n",
       "      <td>0.43</td>\n",
       "      <td>1.30</td>\n",
       "      <td>5.0</td>\n",
       "      <td>-29.0</td>\n",
       "      <td>165.0</td>\n",
       "      <td>-0.10</td>\n",
       "      <td>0.09</td>\n",
       "      <td>-0.41</td>\n",
       "      <td>-1</td>\n",
       "    </tr>\n",
       "  </tbody>\n",
       "</table>\n",
       "<p>5 rows × 75 columns</p>\n",
       "</div>"
      ],
      "text/plain": [
       "            0      1     2     3     4       5     6     7     8      9  ...  \\\n",
       "46233   51.02  22.08  0.92  31.5  10.5  1910.7 -1.47 -0.74  -8.0  -52.0  ...   \n",
       "58625   64.17  24.60 -0.21 -35.5  26.0  4585.3 -1.10  1.17 -27.5 -121.5  ...   \n",
       "5231    86.09  29.63  3.24  78.5 -89.0   453.2  1.87  4.58  63.0 -119.5  ...   \n",
       "58042   78.57  21.37  0.36  -7.0  38.5  1779.1 -0.25 -0.03  -3.5  -62.5  ...   \n",
       "128067  79.13  24.18  0.78  -3.0 -16.0   844.1  0.48 -0.56  -6.5  -52.0  ...   \n",
       "\n",
       "            65    66    67    68     69     70    71    72    73  target  \n",
       "46233    879.5  1.58 -0.45  -5.0  -30.0  291.7 -0.12  0.47  0.96      -1  \n",
       "58625   4815.7 -1.09  5.09  25.0 -220.0  475.4  2.32  0.42  0.46      -1  \n",
       "5231     144.9  1.25  2.50   3.0  -24.0   64.8 -0.85  0.59  0.94       1  \n",
       "58042   1471.3 -0.12  1.48  -5.0  -62.0  406.9  0.18  0.41  0.68      -1  \n",
       "128067   633.8  0.43  1.30   5.0  -29.0  165.0 -0.10  0.09 -0.41      -1  \n",
       "\n",
       "[5 rows x 75 columns]"
      ]
     },
     "execution_count": 4,
     "metadata": {},
     "output_type": "execute_result"
    }
   ],
   "source": [
    "# import data\n",
    "\n",
    "df = pd.read_csv('..\\kdd2004.csv').sample(10000, random_state = 0)\n",
    "df.head()"
   ]
  },
  {
   "cell_type": "code",
   "execution_count": 5,
   "id": "754e85d1",
   "metadata": {},
   "outputs": [
    {
     "data": {
      "text/plain": [
       "-1    9904\n",
       " 1      96\n",
       "Name: target, dtype: int64"
      ]
     },
     "execution_count": 5,
     "metadata": {},
     "output_type": "execute_result"
    }
   ],
   "source": [
    "X = df.drop('target', axis = 1)\n",
    "y = df['target']\n",
    "\n",
    "y.value_counts()"
   ]
  },
  {
   "cell_type": "code",
   "execution_count": 7,
   "id": "af5400af",
   "metadata": {},
   "outputs": [
    {
     "data": {
      "text/plain": [
       "0    9904\n",
       "1      96\n",
       "Name: target, dtype: int64"
      ]
     },
     "execution_count": 7,
     "metadata": {},
     "output_type": "execute_result"
    }
   ],
   "source": [
    "y = y.map({-1:0, 1:1})\n",
    "y.value_counts()"
   ]
  },
  {
   "cell_type": "code",
   "execution_count": 8,
   "id": "17d44128",
   "metadata": {},
   "outputs": [
    {
     "data": {
      "text/plain": [
       "((7000, 74), (3000, 74))"
      ]
     },
     "execution_count": 8,
     "metadata": {},
     "output_type": "execute_result"
    }
   ],
   "source": [
    "# split the data into train and test set\n",
    "\n",
    "X_train, X_test, y_train, y_test = train_test_split(X,y, test_size=0.3,random_state=0)\n",
    "\n",
    "X_train.shape, X_test.shape"
   ]
  },
  {
   "cell_type": "markdown",
   "id": "cb4600e9",
   "metadata": {},
   "source": [
    "## Set up Logistic Regression model`"
   ]
  },
  {
   "cell_type": "code",
   "execution_count": 9,
   "id": "b5e8d1b4",
   "metadata": {},
   "outputs": [],
   "source": [
    "# set up the estimator that we would like to ensemble\n",
    "\n",
    "log = LogisticRegression(penalty='l2'\n",
    "                         ,max_iter=10,\n",
    "                         solver='newton-cg',\n",
    "                         random_state=0,\n",
    "                         n_jobs=2)"
   ]
  },
  {
   "cell_type": "markdown",
   "id": "a355613f",
   "metadata": {},
   "source": [
    "## Metacost\n",
    "\n",
    "- With no Cost"
   ]
  },
  {
   "cell_type": "code",
   "execution_count": 10,
   "id": "c017a1ee",
   "metadata": {},
   "outputs": [
    {
     "data": {
      "text/plain": [
       "array([[0, 1],\n",
       "       [1, 0]])"
      ]
     },
     "execution_count": 10,
     "metadata": {},
     "output_type": "execute_result"
    }
   ],
   "source": [
    "cost_matrix = np.array([[0,1],[1,0]])\n",
    "cost_matrix"
   ]
  },
  {
   "cell_type": "code",
   "execution_count": 11,
   "id": "3200cc55",
   "metadata": {},
   "outputs": [],
   "source": [
    "# see parameter description here\n",
    "# https://www.udemy.com/course/machine-learning-with-imbalanced-data/learn/lecture/23765586#overview\n",
    "\n",
    "metacost_ = MetaCost(estimator=log,\n",
    "                     cost_matrix=cost_matrix,\n",
    "                     n_estimators=50,\n",
    "                     n_samples=None,\n",
    "                     p=True,\n",
    "                     q=True)"
   ]
  },
  {
   "cell_type": "code",
   "execution_count": 12,
   "id": "2ddd6388",
   "metadata": {},
   "outputs": [
    {
     "name": "stdout",
     "output_type": "stream",
     "text": [
      "resampling data and training ensemble\n",
      "Finished training ensemble\n",
      "evaluating optimal class per observation\n",
      "Finished re-assigning labels\n",
      "Training model on new data\n",
      "Finished training model on data with new labels\n"
     ]
    }
   ],
   "source": [
    "# this is fitted on re-labelled final model\n",
    "metacost_.fit(X_train, y_train)"
   ]
  },
  {
   "cell_type": "code",
   "execution_count": 14,
   "id": "8ca08b7f",
   "metadata": {},
   "outputs": [
    {
     "name": "stderr",
     "output_type": "stream",
     "text": [
      "C:\\Users\\budha\\AppData\\Local\\Programs\\Python\\Python39\\lib\\site-packages\\sklearn\\base.py:443: UserWarning: X has feature names, but LogisticRegression was fitted without feature names\n",
      "  warnings.warn(\n"
     ]
    },
    {
     "data": {
      "text/plain": [
       "array([[9.99888503e-01, 1.11497252e-04],\n",
       "       [9.90811298e-01, 9.18870208e-03],\n",
       "       [1.00000000e+00, 8.05627179e-11],\n",
       "       ...,\n",
       "       [9.99999965e-01, 3.45265000e-08],\n",
       "       [9.96681354e-01, 3.31864637e-03],\n",
       "       [1.00000000e+00, 8.44431700e-11]])"
      ]
     },
     "execution_count": 14,
     "metadata": {},
     "output_type": "execute_result"
    }
   ],
   "source": [
    "metacost_.predict_proba(X_train)"
   ]
  },
  {
   "cell_type": "code",
   "execution_count": 15,
   "id": "2dd6cedb",
   "metadata": {},
   "outputs": [
    {
     "name": "stdout",
     "output_type": "stream",
     "text": [
      "Train set\n",
      "MetaCost roc-auc: 0.9023866090910255\n",
      "Test set\n",
      "MetaCost roc-auc: 0.9149888584330816\n"
     ]
    },
    {
     "name": "stderr",
     "output_type": "stream",
     "text": [
      "C:\\Users\\budha\\AppData\\Local\\Programs\\Python\\Python39\\lib\\site-packages\\sklearn\\base.py:443: UserWarning: X has feature names, but LogisticRegression was fitted without feature names\n",
      "  warnings.warn(\n",
      "C:\\Users\\budha\\AppData\\Local\\Programs\\Python\\Python39\\lib\\site-packages\\sklearn\\base.py:443: UserWarning: X has feature names, but LogisticRegression was fitted without feature names\n",
      "  warnings.warn(\n"
     ]
    }
   ],
   "source": [
    "print('Train set')\n",
    "pred = metacost_.predict_proba(X_train)\n",
    "print(\n",
    "    'MetaCost roc-auc: {}'.format(roc_auc_score(y_train, pred[:, 1])))\n",
    "\n",
    "print('Test set')\n",
    "pred = metacost_.predict_proba(X_test)\n",
    "print(\n",
    "    'MetaCost roc-auc: {}'.format(roc_auc_score(y_test, pred[:, 1])))"
   ]
  },
  {
   "cell_type": "markdown",
   "id": "7ca47d0a",
   "metadata": {},
   "source": [
    "## Meta Cost\n",
    "\n",
    "- With cost\n",
    "\n",
    "TP | FN\n",
    "\n",
    "FP | TN"
   ]
  },
  {
   "cell_type": "code",
   "execution_count": 17,
   "id": "474a652c",
   "metadata": {},
   "outputs": [
    {
     "data": {
      "text/plain": [
       "array([[  0, 100],\n",
       "       [  1,   0]])"
      ]
     },
     "execution_count": 17,
     "metadata": {},
     "output_type": "execute_result"
    }
   ],
   "source": [
    "cost_matrix = np.array([[0,100],[1,0]])\n",
    "cost_matrix"
   ]
  },
  {
   "cell_type": "code",
   "execution_count": 19,
   "id": "ceceaced",
   "metadata": {},
   "outputs": [],
   "source": [
    "metacost2 = MetaCost(estimator=log,\n",
    "                     cost_matrix=cost_matrix,\n",
    "                     n_estimators=50,\n",
    "                     n_samples=None, # None means we will use all the obseravations to create the samples\n",
    "                     p=True, # will use the probability as the intermediate output and not class\n",
    "                     q=True) # will include all the samples"
   ]
  },
  {
   "cell_type": "code",
   "execution_count": 20,
   "id": "4b357927",
   "metadata": {},
   "outputs": [
    {
     "name": "stdout",
     "output_type": "stream",
     "text": [
      "resampling data and training ensemble\n",
      "Finished training ensemble\n",
      "evaluating optimal class per observation\n",
      "Finished re-assigning labels\n",
      "Training model on new data\n",
      "Finished training model on data with new labels\n"
     ]
    }
   ],
   "source": [
    "metacost2.fit(X_train,y_train)"
   ]
  },
  {
   "cell_type": "code",
   "execution_count": 21,
   "id": "2f7d532b",
   "metadata": {},
   "outputs": [
    {
     "name": "stderr",
     "output_type": "stream",
     "text": [
      "C:\\Users\\budha\\AppData\\Local\\Programs\\Python\\Python39\\lib\\site-packages\\sklearn\\base.py:443: UserWarning: X has feature names, but LogisticRegression was fitted without feature names\n",
      "  warnings.warn(\n"
     ]
    },
    {
     "data": {
      "text/plain": [
       "array([[9.27143717e-01, 7.28562827e-02],\n",
       "       [1.94790832e-01, 8.05209168e-01],\n",
       "       [9.99994104e-01, 5.89550172e-06],\n",
       "       ...,\n",
       "       [9.98786173e-01, 1.21382728e-03],\n",
       "       [7.49275305e-01, 2.50724695e-01],\n",
       "       [9.99998374e-01, 1.62632331e-06]])"
      ]
     },
     "execution_count": 21,
     "metadata": {},
     "output_type": "execute_result"
    }
   ],
   "source": [
    "metacost2.predict_proba(X_train)"
   ]
  },
  {
   "cell_type": "code",
   "execution_count": 22,
   "id": "ea3ce6e2",
   "metadata": {},
   "outputs": [
    {
     "name": "stdout",
     "output_type": "stream",
     "text": [
      "Train set\n",
      "MetaCost roc-auc: 0.9342964633412528\n",
      "Test set\n",
      "MetaCost roc-auc: 0.928555934609848\n"
     ]
    },
    {
     "name": "stderr",
     "output_type": "stream",
     "text": [
      "C:\\Users\\budha\\AppData\\Local\\Programs\\Python\\Python39\\lib\\site-packages\\sklearn\\base.py:443: UserWarning: X has feature names, but LogisticRegression was fitted without feature names\n",
      "  warnings.warn(\n",
      "C:\\Users\\budha\\AppData\\Local\\Programs\\Python\\Python39\\lib\\site-packages\\sklearn\\base.py:443: UserWarning: X has feature names, but LogisticRegression was fitted without feature names\n",
      "  warnings.warn(\n"
     ]
    }
   ],
   "source": [
    "print('Train set')\n",
    "pred = metacost2.predict_proba(X_train)\n",
    "print(\n",
    "    'MetaCost roc-auc: {}'.format(roc_auc_score(y_train, pred[:, 1])))\n",
    "\n",
    "print('Test set')\n",
    "pred = metacost2.predict_proba(X_test)\n",
    "print(\n",
    "    'MetaCost roc-auc: {}'.format(roc_auc_score(y_test, pred[:, 1])))"
   ]
  },
  {
   "cell_type": "code",
   "execution_count": 23,
   "id": "9e19116b",
   "metadata": {},
   "outputs": [
    {
     "data": {
      "text/plain": [
       "0       0\n",
       "1       0\n",
       "2       0\n",
       "3       0\n",
       "4       0\n",
       "       ..\n",
       "6995    0\n",
       "6996    0\n",
       "6997    0\n",
       "6998    0\n",
       "6999    0\n",
       "Name: target, Length: 7000, dtype: int64"
      ]
     },
     "execution_count": 23,
     "metadata": {},
     "output_type": "execute_result"
    }
   ],
   "source": [
    "y_train"
   ]
  },
  {
   "cell_type": "code",
   "execution_count": 24,
   "id": "41f970d7",
   "metadata": {},
   "outputs": [
    {
     "data": {
      "text/plain": [
       "0       0\n",
       "1       0\n",
       "2       0\n",
       "3       0\n",
       "4       0\n",
       "       ..\n",
       "6995    0\n",
       "6996    0\n",
       "6997    0\n",
       "6998    0\n",
       "6999    0\n",
       "Name: target, Length: 7000, dtype: int64"
      ]
     },
     "execution_count": 24,
     "metadata": {},
     "output_type": "execute_result"
    }
   ],
   "source": [
    "y_train.reset_index(drop = True)"
   ]
  },
  {
   "cell_type": "code",
   "execution_count": 25,
   "id": "c3399be0",
   "metadata": {},
   "outputs": [
    {
     "data": {
      "text/plain": [
       "0       0\n",
       "1       1\n",
       "2       0\n",
       "3       0\n",
       "4       0\n",
       "       ..\n",
       "6995    0\n",
       "6996    1\n",
       "6997    0\n",
       "6998    1\n",
       "6999    0\n",
       "Length: 7000, dtype: int64"
      ]
     },
     "execution_count": 25,
     "metadata": {},
     "output_type": "execute_result"
    }
   ],
   "source": [
    "metacost2.y_"
   ]
  },
  {
   "cell_type": "code",
   "execution_count": 26,
   "id": "53b45ac4",
   "metadata": {},
   "outputs": [
    {
     "data": {
      "text/html": [
       "<div>\n",
       "<style scoped>\n",
       "    .dataframe tbody tr th:only-of-type {\n",
       "        vertical-align: middle;\n",
       "    }\n",
       "\n",
       "    .dataframe tbody tr th {\n",
       "        vertical-align: top;\n",
       "    }\n",
       "\n",
       "    .dataframe thead th {\n",
       "        text-align: right;\n",
       "    }\n",
       "</style>\n",
       "<table border=\"1\" class=\"dataframe\">\n",
       "  <thead>\n",
       "    <tr style=\"text-align: right;\">\n",
       "      <th></th>\n",
       "      <th>0</th>\n",
       "      <th>target</th>\n",
       "    </tr>\n",
       "  </thead>\n",
       "  <tbody>\n",
       "    <tr>\n",
       "      <th>0</th>\n",
       "      <td>0</td>\n",
       "      <td>0</td>\n",
       "    </tr>\n",
       "    <tr>\n",
       "      <th>1</th>\n",
       "      <td>1</td>\n",
       "      <td>0</td>\n",
       "    </tr>\n",
       "    <tr>\n",
       "      <th>2</th>\n",
       "      <td>0</td>\n",
       "      <td>0</td>\n",
       "    </tr>\n",
       "    <tr>\n",
       "      <th>3</th>\n",
       "      <td>0</td>\n",
       "      <td>0</td>\n",
       "    </tr>\n",
       "    <tr>\n",
       "      <th>4</th>\n",
       "      <td>0</td>\n",
       "      <td>0</td>\n",
       "    </tr>\n",
       "  </tbody>\n",
       "</table>\n",
       "</div>"
      ],
      "text/plain": [
       "   0  target\n",
       "0  0       0\n",
       "1  1       0\n",
       "2  0       0\n",
       "3  0       0\n",
       "4  0       0"
      ]
     },
     "execution_count": 26,
     "metadata": {},
     "output_type": "execute_result"
    }
   ],
   "source": [
    "tmp = pd.concat([metacost2.y_, y_train.reset_index(drop=True)], axis=1)\n",
    "\n",
    "tmp.head()"
   ]
  },
  {
   "cell_type": "code",
   "execution_count": 27,
   "id": "68e9260a",
   "metadata": {},
   "outputs": [
    {
     "data": {
      "text/html": [
       "<div>\n",
       "<style scoped>\n",
       "    .dataframe tbody tr th:only-of-type {\n",
       "        vertical-align: middle;\n",
       "    }\n",
       "\n",
       "    .dataframe tbody tr th {\n",
       "        vertical-align: top;\n",
       "    }\n",
       "\n",
       "    .dataframe thead th {\n",
       "        text-align: right;\n",
       "    }\n",
       "</style>\n",
       "<table border=\"1\" class=\"dataframe\">\n",
       "  <thead>\n",
       "    <tr style=\"text-align: right;\">\n",
       "      <th></th>\n",
       "      <th>target</th>\n",
       "      <th>0</th>\n",
       "    </tr>\n",
       "  </thead>\n",
       "  <tbody>\n",
       "    <tr>\n",
       "      <th>1</th>\n",
       "      <td>0</td>\n",
       "      <td>1</td>\n",
       "    </tr>\n",
       "    <tr>\n",
       "      <th>9</th>\n",
       "      <td>0</td>\n",
       "      <td>1</td>\n",
       "    </tr>\n",
       "    <tr>\n",
       "      <th>10</th>\n",
       "      <td>0</td>\n",
       "      <td>1</td>\n",
       "    </tr>\n",
       "    <tr>\n",
       "      <th>13</th>\n",
       "      <td>0</td>\n",
       "      <td>1</td>\n",
       "    </tr>\n",
       "    <tr>\n",
       "      <th>14</th>\n",
       "      <td>0</td>\n",
       "      <td>1</td>\n",
       "    </tr>\n",
       "    <tr>\n",
       "      <th>...</th>\n",
       "      <td>...</td>\n",
       "      <td>...</td>\n",
       "    </tr>\n",
       "    <tr>\n",
       "      <th>6975</th>\n",
       "      <td>0</td>\n",
       "      <td>1</td>\n",
       "    </tr>\n",
       "    <tr>\n",
       "      <th>6978</th>\n",
       "      <td>0</td>\n",
       "      <td>1</td>\n",
       "    </tr>\n",
       "    <tr>\n",
       "      <th>6979</th>\n",
       "      <td>0</td>\n",
       "      <td>1</td>\n",
       "    </tr>\n",
       "    <tr>\n",
       "      <th>6996</th>\n",
       "      <td>0</td>\n",
       "      <td>1</td>\n",
       "    </tr>\n",
       "    <tr>\n",
       "      <th>6998</th>\n",
       "      <td>0</td>\n",
       "      <td>1</td>\n",
       "    </tr>\n",
       "  </tbody>\n",
       "</table>\n",
       "<p>1338 rows × 2 columns</p>\n",
       "</div>"
      ],
      "text/plain": [
       "      target  0\n",
       "1          0  1\n",
       "9          0  1\n",
       "10         0  1\n",
       "13         0  1\n",
       "14         0  1\n",
       "...      ... ..\n",
       "6975       0  1\n",
       "6978       0  1\n",
       "6979       0  1\n",
       "6996       0  1\n",
       "6998       0  1\n",
       "\n",
       "[1338 rows x 2 columns]"
      ]
     },
     "execution_count": 27,
     "metadata": {},
     "output_type": "execute_result"
    }
   ],
   "source": [
    "tmp[tmp[0]!=tmp['target']][['target', 0]]"
   ]
  },
  {
   "cell_type": "markdown",
   "id": "6b231111",
   "metadata": {},
   "source": [
    "In theory, we should only be re-labeling observations from class 0 to class 1, but in practice that does not happen."
   ]
  },
  {
   "cell_type": "code",
   "execution_count": 28,
   "id": "1506b2c6",
   "metadata": {},
   "outputs": [
    {
     "data": {
      "text/plain": [
       "1338"
      ]
     },
     "execution_count": 28,
     "metadata": {},
     "output_type": "execute_result"
    }
   ],
   "source": [
    "np.sum( np.where(metacost2.y_ != y_train.reset_index(drop=True),1,0) )"
   ]
  },
  {
   "cell_type": "code",
   "execution_count": 29,
   "id": "8c5160cf",
   "metadata": {},
   "outputs": [
    {
     "data": {
      "text/plain": [
       "5662"
      ]
     },
     "execution_count": 29,
     "metadata": {},
     "output_type": "execute_result"
    }
   ],
   "source": [
    "np.sum( np.where(metacost2.y_ == y_train.reset_index(drop=True),1,0) )"
   ]
  },
  {
   "cell_type": "markdown",
   "id": "00cf2788",
   "metadata": {},
   "source": [
    "- So, basically 1338 number of observations labelled are updated due the meta cost learning"
   ]
  },
  {
   "cell_type": "markdown",
   "id": "49767ef0",
   "metadata": {},
   "source": [
    "## Conclusion\n",
    "\n",
    "We can wrap a model to make it cost-sensitive utilizing metacost.\n",
    "\n",
    "### Important\n",
    "\n",
    "The code here, does not allow reproducible results, because at the moment the class MetaCost does not incorporate a seed when re-sampling the data.\n",
    "\n",
    "MetaCost might be incorporated to Sklearn, there is a PR open:\n",
    "https://github.com/scikit-learn/scikit-learn/pull/16525 \n"
   ]
  },
  {
   "cell_type": "code",
   "execution_count": null,
   "id": "6cf5c06e",
   "metadata": {},
   "outputs": [],
   "source": []
  }
 ],
 "metadata": {
  "kernelspec": {
   "display_name": "Python 3 (ipykernel)",
   "language": "python",
   "name": "python3"
  },
  "language_info": {
   "codemirror_mode": {
    "name": "ipython",
    "version": 3
   },
   "file_extension": ".py",
   "mimetype": "text/x-python",
   "name": "python",
   "nbconvert_exporter": "python",
   "pygments_lexer": "ipython3",
   "version": "3.9.5"
  }
 },
 "nbformat": 4,
 "nbformat_minor": 5
}
