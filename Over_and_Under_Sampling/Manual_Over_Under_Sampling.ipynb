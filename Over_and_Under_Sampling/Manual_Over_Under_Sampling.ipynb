{
 "cells": [
  {
   "cell_type": "markdown",
   "id": "f83119d0",
   "metadata": {},
   "source": [
    "## Manually Combining Over and Under Sampling Techniques\n",
    "\n",
    "- We will try to manually combine over and under sampling techniques and check if the new resampled data can give better performance to our model"
   ]
  },
  {
   "cell_type": "code",
   "execution_count": 1,
   "id": "6b04b2c0",
   "metadata": {},
   "outputs": [],
   "source": [
    "# import libraries\n",
    "\n",
    "import numpy as np\n",
    "import pandas as pd\n",
    "\n",
    "import matplotlib.pyplot as plt\n",
    "import seaborn as sns\n",
    "\n",
    "from sklearn.model_selection import train_test_split\n",
    "from sklearn.ensemble import RandomForestClassifier\n",
    "from sklearn.metrics import roc_auc_score\n",
    "from sklearn.preprocessing import MinMaxScaler\n",
    "\n",
    "from imblearn.under_sampling import NeighbourhoodCleaningRule\n",
    "from imblearn.over_sampling import ADASYN\n",
    "from imblearn.pipeline import make_pipeline"
   ]
  },
  {
   "cell_type": "code",
   "execution_count": 9,
   "id": "edeb2d76",
   "metadata": {},
   "outputs": [
    {
     "data": {
      "text/html": [
       "<div>\n",
       "<style scoped>\n",
       "    .dataframe tbody tr th:only-of-type {\n",
       "        vertical-align: middle;\n",
       "    }\n",
       "\n",
       "    .dataframe tbody tr th {\n",
       "        vertical-align: top;\n",
       "    }\n",
       "\n",
       "    .dataframe thead th {\n",
       "        text-align: right;\n",
       "    }\n",
       "</style>\n",
       "<table border=\"1\" class=\"dataframe\">\n",
       "  <thead>\n",
       "    <tr style=\"text-align: right;\">\n",
       "      <th></th>\n",
       "      <th>0</th>\n",
       "      <th>1</th>\n",
       "      <th>2</th>\n",
       "      <th>3</th>\n",
       "      <th>4</th>\n",
       "      <th>5</th>\n",
       "      <th>6</th>\n",
       "      <th>7</th>\n",
       "      <th>8</th>\n",
       "      <th>9</th>\n",
       "      <th>...</th>\n",
       "      <th>65</th>\n",
       "      <th>66</th>\n",
       "      <th>67</th>\n",
       "      <th>68</th>\n",
       "      <th>69</th>\n",
       "      <th>70</th>\n",
       "      <th>71</th>\n",
       "      <th>72</th>\n",
       "      <th>73</th>\n",
       "      <th>target</th>\n",
       "    </tr>\n",
       "  </thead>\n",
       "  <tbody>\n",
       "    <tr>\n",
       "      <th>46233</th>\n",
       "      <td>51.02</td>\n",
       "      <td>22.08</td>\n",
       "      <td>0.92</td>\n",
       "      <td>31.5</td>\n",
       "      <td>10.5</td>\n",
       "      <td>1910.7</td>\n",
       "      <td>-1.47</td>\n",
       "      <td>-0.74</td>\n",
       "      <td>-8.0</td>\n",
       "      <td>-52.0</td>\n",
       "      <td>...</td>\n",
       "      <td>879.5</td>\n",
       "      <td>1.58</td>\n",
       "      <td>-0.45</td>\n",
       "      <td>-5.0</td>\n",
       "      <td>-30.0</td>\n",
       "      <td>291.7</td>\n",
       "      <td>-0.12</td>\n",
       "      <td>0.47</td>\n",
       "      <td>0.96</td>\n",
       "      <td>-1</td>\n",
       "    </tr>\n",
       "    <tr>\n",
       "      <th>58625</th>\n",
       "      <td>64.17</td>\n",
       "      <td>24.60</td>\n",
       "      <td>-0.21</td>\n",
       "      <td>-35.5</td>\n",
       "      <td>26.0</td>\n",
       "      <td>4585.3</td>\n",
       "      <td>-1.10</td>\n",
       "      <td>1.17</td>\n",
       "      <td>-27.5</td>\n",
       "      <td>-121.5</td>\n",
       "      <td>...</td>\n",
       "      <td>4815.7</td>\n",
       "      <td>-1.09</td>\n",
       "      <td>5.09</td>\n",
       "      <td>25.0</td>\n",
       "      <td>-220.0</td>\n",
       "      <td>475.4</td>\n",
       "      <td>2.32</td>\n",
       "      <td>0.42</td>\n",
       "      <td>0.46</td>\n",
       "      <td>-1</td>\n",
       "    </tr>\n",
       "    <tr>\n",
       "      <th>5231</th>\n",
       "      <td>86.09</td>\n",
       "      <td>29.63</td>\n",
       "      <td>3.24</td>\n",
       "      <td>78.5</td>\n",
       "      <td>-89.0</td>\n",
       "      <td>453.2</td>\n",
       "      <td>1.87</td>\n",
       "      <td>4.58</td>\n",
       "      <td>63.0</td>\n",
       "      <td>-119.5</td>\n",
       "      <td>...</td>\n",
       "      <td>144.9</td>\n",
       "      <td>1.25</td>\n",
       "      <td>2.50</td>\n",
       "      <td>3.0</td>\n",
       "      <td>-24.0</td>\n",
       "      <td>64.8</td>\n",
       "      <td>-0.85</td>\n",
       "      <td>0.59</td>\n",
       "      <td>0.94</td>\n",
       "      <td>1</td>\n",
       "    </tr>\n",
       "    <tr>\n",
       "      <th>58042</th>\n",
       "      <td>78.57</td>\n",
       "      <td>21.37</td>\n",
       "      <td>0.36</td>\n",
       "      <td>-7.0</td>\n",
       "      <td>38.5</td>\n",
       "      <td>1779.1</td>\n",
       "      <td>-0.25</td>\n",
       "      <td>-0.03</td>\n",
       "      <td>-3.5</td>\n",
       "      <td>-62.5</td>\n",
       "      <td>...</td>\n",
       "      <td>1471.3</td>\n",
       "      <td>-0.12</td>\n",
       "      <td>1.48</td>\n",
       "      <td>-5.0</td>\n",
       "      <td>-62.0</td>\n",
       "      <td>406.9</td>\n",
       "      <td>0.18</td>\n",
       "      <td>0.41</td>\n",
       "      <td>0.68</td>\n",
       "      <td>-1</td>\n",
       "    </tr>\n",
       "    <tr>\n",
       "      <th>128067</th>\n",
       "      <td>79.13</td>\n",
       "      <td>24.18</td>\n",
       "      <td>0.78</td>\n",
       "      <td>-3.0</td>\n",
       "      <td>-16.0</td>\n",
       "      <td>844.1</td>\n",
       "      <td>0.48</td>\n",
       "      <td>-0.56</td>\n",
       "      <td>-6.5</td>\n",
       "      <td>-52.0</td>\n",
       "      <td>...</td>\n",
       "      <td>633.8</td>\n",
       "      <td>0.43</td>\n",
       "      <td>1.30</td>\n",
       "      <td>5.0</td>\n",
       "      <td>-29.0</td>\n",
       "      <td>165.0</td>\n",
       "      <td>-0.10</td>\n",
       "      <td>0.09</td>\n",
       "      <td>-0.41</td>\n",
       "      <td>-1</td>\n",
       "    </tr>\n",
       "  </tbody>\n",
       "</table>\n",
       "<p>5 rows × 75 columns</p>\n",
       "</div>"
      ],
      "text/plain": [
       "            0      1     2     3     4       5     6     7     8      9  ...  \\\n",
       "46233   51.02  22.08  0.92  31.5  10.5  1910.7 -1.47 -0.74  -8.0  -52.0  ...   \n",
       "58625   64.17  24.60 -0.21 -35.5  26.0  4585.3 -1.10  1.17 -27.5 -121.5  ...   \n",
       "5231    86.09  29.63  3.24  78.5 -89.0   453.2  1.87  4.58  63.0 -119.5  ...   \n",
       "58042   78.57  21.37  0.36  -7.0  38.5  1779.1 -0.25 -0.03  -3.5  -62.5  ...   \n",
       "128067  79.13  24.18  0.78  -3.0 -16.0   844.1  0.48 -0.56  -6.5  -52.0  ...   \n",
       "\n",
       "            65    66    67    68     69     70    71    72    73  target  \n",
       "46233    879.5  1.58 -0.45  -5.0  -30.0  291.7 -0.12  0.47  0.96      -1  \n",
       "58625   4815.7 -1.09  5.09  25.0 -220.0  475.4  2.32  0.42  0.46      -1  \n",
       "5231     144.9  1.25  2.50   3.0  -24.0   64.8 -0.85  0.59  0.94       1  \n",
       "58042   1471.3 -0.12  1.48  -5.0  -62.0  406.9  0.18  0.41  0.68      -1  \n",
       "128067   633.8  0.43  1.30   5.0  -29.0  165.0 -0.10  0.09 -0.41      -1  \n",
       "\n",
       "[5 rows x 75 columns]"
      ]
     },
     "execution_count": 9,
     "metadata": {},
     "output_type": "execute_result"
    }
   ],
   "source": [
    "# get data\n",
    "\n",
    "data = pd.read_csv('kdd2004.csv').sample(50000, random_state=0)\n",
    "data.head()"
   ]
  },
  {
   "cell_type": "code",
   "execution_count": 10,
   "id": "355cc788",
   "metadata": {},
   "outputs": [
    {
     "data": {
      "text/plain": [
       "-1    49528\n",
       " 1      472\n",
       "Name: target, dtype: int64"
      ]
     },
     "execution_count": 10,
     "metadata": {},
     "output_type": "execute_result"
    }
   ],
   "source": [
    "data.target.value_counts()"
   ]
  },
  {
   "cell_type": "code",
   "execution_count": 11,
   "id": "6e268f38",
   "metadata": {},
   "outputs": [
    {
     "data": {
      "image/png": "[encoded data removed]",
      "text/plain": [
       "<Figure size 432x288 with 1 Axes>"
      ]
     },
     "metadata": {
      "needs_background": "light"
     },
     "output_type": "display_data"
    }
   ],
   "source": [
    "# plotting columns 0 and 1 of the original data\n",
    "\n",
    "sns.scatterplot(data = data, x = '0', y = '1', hue = data['target'], alpha = 0.5)\n",
    "plt.show()"
   ]
  },
  {
   "cell_type": "code",
   "execution_count": 12,
   "id": "39ea8bb3",
   "metadata": {},
   "outputs": [
    {
     "data": {
      "image/png": "[encoded data removed]",
      "text/plain": [
       "<Figure size 432x288 with 1 Axes>"
      ]
     },
     "metadata": {
      "needs_background": "light"
     },
     "output_type": "display_data"
    }
   ],
   "source": [
    "# plotting columns 0 and 1 of the original data\n",
    "\n",
    "sns.scatterplot(data = data, x = '4', y = '5', hue = data['target'], alpha = 0.5)\n",
    "plt.show()"
   ]
  },
  {
   "cell_type": "code",
   "execution_count": 13,
   "id": "b266e884",
   "metadata": {},
   "outputs": [
    {
     "data": {
      "text/plain": [
       "((35000, 74), (35000,))"
      ]
     },
     "execution_count": 13,
     "metadata": {},
     "output_type": "execute_result"
    }
   ],
   "source": [
    "# split into train and test data\n",
    "\n",
    "X_train, X_test, y_train, y_test = train_test_split(data.drop('target', axis = 1),\n",
    "                                                   data['target'],\n",
    "                                                   test_size=0.3,\n",
    "                                                   random_state=0)\n",
    "\n",
    "X_train.shape, y_train.shape"
   ]
  },
  {
   "cell_type": "code",
   "execution_count": 14,
   "id": "50d3cf04",
   "metadata": {},
   "outputs": [],
   "source": [
    "# initialize our under and over sampling objects\n",
    "\n",
    "ada = ADASYN(sampling_strategy='auto',\n",
    "             n_neighbors=5,\n",
    "             n_jobs=2,\n",
    "             random_state=0)\n",
    "\n",
    "\n",
    "# The sampling strategy needs to be set to all, or with\n",
    "# a specific dictionary, because after ADASYN, our\n",
    "# previous minority class is no longer minority!!\n",
    "ncr = NeighbourhoodCleaningRule(sampling_strategy='all',\n",
    "                                n_neighbors=3,\n",
    "                                kind_sel='mode',\n",
    "                                threshold_cleaning=0.1) # the threshold to evaluate a class for cleaning (used only for clearning step)"
   ]
  },
  {
   "cell_type": "code",
   "execution_count": 16,
   "id": "d05d9ce4",
   "metadata": {},
   "outputs": [],
   "source": [
    "# initialize the scaler object and the Random Forest Classifier\n",
    "scaler = MinMaxScaler()\n",
    "\n",
    "rf = RandomForestClassifier(n_estimators=100,n_jobs=2,max_depth=3,random_state=39)"
   ]
  },
  {
   "cell_type": "code",
   "execution_count": 17,
   "id": "29043775",
   "metadata": {},
   "outputs": [],
   "source": [
    "# create pipeline to run the model\n",
    "model = make_pipeline(scaler,\n",
    "                      ada,\n",
    "                      ncr,\n",
    "                      rf\n",
    "                     )"
   ]
  },
  {
   "cell_type": "code",
   "execution_count": 18,
   "id": "8a697370",
   "metadata": {},
   "outputs": [
    {
     "data": {
      "text/plain": [
       "Pipeline(steps=[('minmaxscaler', MinMaxScaler()),\n",
       "                ('adasyn', ADASYN(n_jobs=2, random_state=0)),\n",
       "                ('neighbourhoodcleaningrule',\n",
       "                 NeighbourhoodCleaningRule(kind_sel='mode',\n",
       "                                           sampling_strategy='all',\n",
       "                                           threshold_cleaning=0.1)),\n",
       "                ('randomforestclassifier',\n",
       "                 RandomForestClassifier(max_depth=3, n_jobs=2,\n",
       "                                        random_state=39))])"
      ]
     },
     "execution_count": 18,
     "metadata": {},
     "output_type": "execute_result"
    }
   ],
   "source": [
    "# fitting the pipeline to our dataset\n",
    "model.fit(X_train,y_train)"
   ]
  },
  {
   "cell_type": "code",
   "execution_count": 19,
   "id": "9d95a5de",
   "metadata": {},
   "outputs": [],
   "source": [
    "pred_train = model.predict_proba(X_train)[:,1]\n",
    "pred_test = model.predict_proba(X_test)[:,1]"
   ]
  },
  {
   "cell_type": "code",
   "execution_count": 20,
   "id": "d22d6dc0",
   "metadata": {},
   "outputs": [
    {
     "name": "stdout",
     "output_type": "stream",
     "text": [
      "roc score for training set : 0.9917936513257711\n"
     ]
    }
   ],
   "source": [
    "print('roc score for training set : {}'.format(roc_auc_score(y_train, pred_train)))"
   ]
  },
  {
   "cell_type": "code",
   "execution_count": 21,
   "id": "e96ee2d8",
   "metadata": {},
   "outputs": [
    {
     "name": "stdout",
     "output_type": "stream",
     "text": [
      "roc score for training set : 0.9891783766984125\n"
     ]
    }
   ],
   "source": [
    "print('roc score for training set : {}'.format(roc_auc_score(y_test, pred_test)))"
   ]
  },
  {
   "cell_type": "code",
   "execution_count": null,
   "id": "4c4b31fd",
   "metadata": {},
   "outputs": [],
   "source": []
  }
 ],
 "metadata": {
  "kernelspec": {
   "display_name": "Python 3 (ipykernel)",
   "language": "python",
   "name": "python3"
  },
  "language_info": {
   "codemirror_mode": {
    "name": "ipython",
    "version": 3
   },
   "file_extension": ".py",
   "mimetype": "text/x-python",
   "name": "python",
   "nbconvert_exporter": "python",
   "pygments_lexer": "ipython3",
   "version": "3.9.5"
  }
 },
 "nbformat": 4,
 "nbformat_minor": 5
}
