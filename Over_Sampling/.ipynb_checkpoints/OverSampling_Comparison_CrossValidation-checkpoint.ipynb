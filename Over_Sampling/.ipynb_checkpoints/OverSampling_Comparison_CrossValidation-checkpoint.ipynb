{
 "cells": [
  {
   "cell_type": "markdown",
   "id": "ae7d2fc9",
   "metadata": {},
   "source": [
    "## Over Sampling Methods comparison with cross validation\n",
    "\n",
    "- We will try to compare various over sampling methods with different datasets using cross validation technique\n",
    "- We will be using a random forest model to fit and evaluate the performance based on the Original and Resampled Data"
   ]
  },
  {
   "cell_type": "code",
   "execution_count": 50,
   "id": "59890a90",
   "metadata": {},
   "outputs": [],
   "source": [
    "# import libraries\n",
    "\n",
    "import numpy as np\n",
    "import pandas as pd\n",
    "\n",
    "import matplotlib.pyplot as plt\n",
    "import seaborn as sns\n",
    "\n",
    "from sklearn.model_selection import train_test_split, cross_validate\n",
    "from sklearn.preprocessing import MinMaxScaler\n",
    "from sklearn.ensemble import RandomForestClassifier\n",
    "from sklearn.svm import SVC\n",
    "from sklearn.metrics import roc_auc_score\n",
    "\n",
    "from imblearn.datasets import fetch_datasets\n",
    "from imblearn.over_sampling import (\n",
    "    RandomOverSampler,\n",
    "    SMOTE,\n",
    "    ADASYN,\n",
    "    SVMSMOTE,\n",
    "    BorderlineSMOTE\n",
    ")\n",
    "\n",
    "# pipeline -- this is needed in case of cross validation\n",
    "from imblearn.pipeline import make_pipeline"
   ]
  },
  {
   "cell_type": "code",
   "execution_count": 51,
   "id": "7e94ac7d",
   "metadata": {},
   "outputs": [],
   "source": [
    "# first lets set up a dictionary that contains all the over samplers\n",
    "\n",
    "oversampler_dict = {\n",
    "    \n",
    "    'random' : RandomOverSampler(sampling_strategy='auto',\n",
    "                                 random_state=0),\n",
    "    \n",
    "    'smote' : SMOTE(sampling_strategy='auto',\n",
    "                    k_neighbors=5,\n",
    "                    random_state=0,\n",
    "                    n_jobs=2),\n",
    "    \n",
    "    'ada' : ADASYN(sampling_strategy='auto',\n",
    "                   n_neighbors=5,\n",
    "                   n_jobs=2,\n",
    "                   random_state=0),\n",
    "    \n",
    "    'bd_smote_1' : BorderlineSMOTE(sampling_strategy='auto',\n",
    "                                   k_neighbors=5,\n",
    "                                   m_neighbors=10,\n",
    "                                   kind='borderline-1',\n",
    "                                   random_state=0),\n",
    "    \n",
    "    'bd_smote_2' : BorderlineSMOTE(sampling_strategy='auto',\n",
    "                                   k_neighbors=5,\n",
    "                                   m_neighbors=10,\n",
    "                                   kind='borderline-2',\n",
    "                                   random_state=0),\n",
    "    \n",
    "    'svm' : SVMSMOTE(sampling_strategy='auto',\n",
    "                     svm_estimator=SVC(kernel='linear', random_state=0),\n",
    "                     m_neighbors=10,\n",
    "                     n_jobs=2,\n",
    "                     k_neighbors=5,\n",
    "                     random_state=0)\n",
    "}"
   ]
  },
  {
   "cell_type": "code",
   "execution_count": 52,
   "id": "23bbd14c",
   "metadata": {},
   "outputs": [],
   "source": [
    "# lets define the datasets in a list\n",
    "datasets_ls = [\n",
    "    'car_eval_34',\n",
    "    'ecoli',\n",
    "    'thyroid_sick',\n",
    "    'arrhythmia',\n",
    "    'ozone_level'\n",
    "]"
   ]
  },
  {
   "cell_type": "code",
   "execution_count": 53,
   "id": "190aec9b",
   "metadata": {},
   "outputs": [
    {
     "name": "stdout",
     "output_type": "stream",
     "text": [
      "car_eval_34\n",
      "Counter({-1: 1594, 1: 134})\n",
      "ecoli\n",
      "Counter({-1: 301, 1: 35})\n",
      "thyroid_sick\n",
      "Counter({-1: 3541, 1: 231})\n",
      "arrhythmia\n",
      "Counter({-1: 427, 1: 25})\n",
      "ozone_level\n",
      "Counter({-1: 2463, 1: 73})\n"
     ]
    }
   ],
   "source": [
    "# lets get the datasets and see the balance ratio of each one of them\n",
    "\n",
    "from collections import Counter\n",
    "\n",
    "for dataset in datasets_ls:\n",
    "    print(dataset)\n",
    "    data = fetch_datasets()[dataset]\n",
    "    print(Counter(data.target))"
   ]
  },
  {
   "cell_type": "markdown",
   "id": "eafb2138",
   "metadata": {},
   "source": [
    "## RF Training and evaluation"
   ]
  },
  {
   "cell_type": "code",
   "execution_count": 54,
   "id": "bad1f164",
   "metadata": {},
   "outputs": [],
   "source": [
    "# lets create a function to run our Model\n",
    "# this returns the roc auc score of the test data\n",
    "def run_model(X_train, y_train, oversampler = None):\n",
    "    \n",
    "    rf = RandomForestClassifier(n_estimators=100, max_depth=4, random_state=39)\n",
    "    \n",
    "    # initialize the scaler\n",
    "    # many of the over sampling methods are based on KNN, so its better to scale the data before it gets trained\n",
    "    scaler = MinMaxScaler()\n",
    "    \n",
    "    if not oversampler:\n",
    "        model = rf\n",
    "    else:        \n",
    "        model = make_pipeline(scaler,\n",
    "                              oversampler,\n",
    "                              rf)\n",
    "       \n",
    "    # When we make a pipeline and then run the training of the model\n",
    "    # with cross-validation, the procedure works as follows:\n",
    "    \n",
    "    # 1) take 2 of the 3 fold as train set\n",
    "    # 2) resample the 2 fold (aka, the train set)\n",
    "    # 3) train the model on the resampled data from point 2\n",
    "    # 4) evaluate performance on the 3rd fold, that was not resampled\n",
    "    \n",
    "    # this way, we make sure that we are not evaluating the performance\n",
    "    # of our classifier on the over-sampled data\n",
    "    \n",
    "    cv_results = cross_validate(\n",
    "        model, # the random forest or the pipeline\n",
    "        X_train, # the data that will be used in the cross-validation\n",
    "        y_train, # the target\n",
    "        scoring=\"average_precision\", # the metric that we want to evaluate\n",
    "        cv=3, # the cross-validation fold\n",
    "    )\n",
    "\n",
    "    print(\n",
    "        'Random Forests average precision: {0} +/- {1}'.format(\n",
    "        cv_results['test_score'].mean(), cv_results['test_score'].std()\n",
    "        )\n",
    "    )\n",
    "\n",
    "    return cv_results['test_score'].mean(), cv_results['test_score'].std()"
   ]
  },
  {
   "cell_type": "code",
   "execution_count": 58,
   "id": "dfb93d34",
   "metadata": {
    "scrolled": false
   },
   "outputs": [
    {
     "name": "stdout",
     "output_type": "stream",
     "text": [
      "car_eval_34\n",
      "Random Forests average precision: 0.852649335624109 +/- 0.03381037051446577\n",
      "Random Forests average precision: 0.9283074760346116 +/- 0.020093694816677776\n",
      "\n",
      "Random Forests average precision: 0.893897487778657 +/- 0.01581857204732849\n",
      "\n",
      "Random Forests average precision: 0.9142068971378311 +/- 0.0274770890207196\n",
      "\n",
      "Random Forests average precision: 0.8974371000932173 +/- 0.006776238541757153\n",
      "\n",
      "Random Forests average precision: 0.90211065362779 +/- 0.022577108432998795\n",
      "\n",
      "Random Forests average precision: 0.7886737955817207 +/- 0.057357940887597464\n",
      "\n",
      "\n",
      "ecoli\n",
      "Random Forests average precision: 0.6586727648410655 +/- 0.07636990486714056\n",
      "Random Forests average precision: 0.5544557954982592 +/- 0.10912536643070848\n",
      "\n",
      "Random Forests average precision: 0.5608708954189691 +/- 0.1356602580868982\n",
      "\n",
      "Random Forests average precision: 0.5093353815524392 +/- 0.11517209735403067\n",
      "\n",
      "Random Forests average precision: 0.5607901405669516 +/- 0.13870840689381736\n",
      "\n",
      "Random Forests average precision: 0.5719979553175242 +/- 0.20536250875757806\n",
      "\n",
      "Random Forests average precision: 0.5557066679599574 +/- 0.15607567091780997\n",
      "\n",
      "\n",
      "thyroid_sick\n",
      "Random Forests average precision: 0.8184841588903532 +/- 0.0021095131017572944\n",
      "Random Forests average precision: 0.8018483891049565 +/- 0.026608102467403083\n",
      "\n",
      "Random Forests average precision: 0.8019654942808115 +/- 0.055054879193353584\n",
      "\n",
      "Random Forests average precision: 0.7929158632420297 +/- 0.05237932123491754\n",
      "\n",
      "Random Forests average precision: 0.7985918627685215 +/- 0.038120338063870614\n",
      "\n",
      "Random Forests average precision: 0.7199350068801197 +/- 0.0625892076164315\n",
      "\n",
      "Random Forests average precision: 0.7364738088155737 +/- 0.03940515265867523\n",
      "\n",
      "\n",
      "arrhythmia\n",
      "Random Forests average precision: 0.6067100951052358 +/- 0.24517279402111142\n",
      "Random Forests average precision: 0.36507558258339756 +/- 0.18950603068554062\n",
      "\n",
      "Random Forests average precision: 0.4390613491342616 +/- 0.08602564236428299\n",
      "\n",
      "Random Forests average precision: 0.4668473804439568 +/- 0.12379123636506811\n",
      "\n",
      "Random Forests average precision: 0.40460220908092775 +/- 0.2298119859480583\n",
      "\n",
      "Random Forests average precision: 0.28059645761535473 +/- 0.13572465068729064\n",
      "\n",
      "Random Forests average precision: 0.4173343046586018 +/- 0.23330003113771414\n",
      "\n",
      "\n",
      "ozone_level\n",
      "Random Forests average precision: 0.28046933867383994 +/- 0.11625812146602162\n",
      "Random Forests average precision: 0.3368030937245147 +/- 0.12579724807869802\n",
      "\n",
      "Random Forests average precision: 0.30937729835657723 +/- 0.0834536741782453\n",
      "\n",
      "Random Forests average precision: 0.3392241185530871 +/- 0.12129675569227483\n",
      "\n",
      "Random Forests average precision: 0.31612919505071563 +/- 0.04608252738328861\n",
      "\n",
      "Random Forests average precision: 0.3078680565153211 +/- 0.08598247923871438\n",
      "\n",
      "Random Forests average precision: 0.31405363629107946 +/- 0.06246391762599451\n",
      "\n",
      "\n"
     ]
    }
   ],
   "source": [
    "# for all datasets including the original data\n",
    "# lets call the function for all over samplers.\n",
    "# store the results in a dictionary so that we can use to plot them to analyze\n",
    "\n",
    "\n",
    "# first initialize dictionary to store the results and the size of the resampled or original data\n",
    "mean_dict = dict()\n",
    "std_dict = dict()\n",
    "\n",
    "for dataset in datasets_ls:\n",
    "    print(dataset)\n",
    "    mean_dict[dataset] = {}\n",
    "    std_dict[dataset] = {}\n",
    "    \n",
    "    data = fetch_datasets()[dataset]\n",
    "    X = data.data\n",
    "    y = data.target\n",
    "    \n",
    "    # split the data into train and test set\n",
    "    X_train, X_test, y_train, y_test = train_test_split(X,y, test_size=0.3, random_state=39)\n",
    "    \n",
    "    mean_val, std_val = run_model(X_train,y_train)\n",
    "    mean_dict[dataset]['full_data'] = mean_val\n",
    "    std_dict[dataset]['full_data'] = std_val\n",
    "    \n",
    "    for sampler in oversampler_dict.keys():\n",
    "        # fit and resample using the oversampler\n",
    "        mean_val, std_val = run_model(X_train, y_train,oversampler_dict[sampler])\n",
    "        \n",
    "        mean_dict[dataset][sampler] = mean_val\n",
    "        std_dict[dataset][sampler] = std_val\n",
    "        print()\n",
    "    print()\n"
   ]
  },
  {
   "cell_type": "code",
   "execution_count": 59,
   "id": "59e30c2c",
   "metadata": {},
   "outputs": [
    {
     "data": {
      "text/plain": [
       "{'car_eval_34': {'full_data': 0.852649335624109,\n",
       "  'random': 0.9283074760346116,\n",
       "  'smote': 0.893897487778657,\n",
       "  'ada': 0.9142068971378311,\n",
       "  'bd_smote_1': 0.8974371000932173,\n",
       "  'bd_smote_2': 0.90211065362779,\n",
       "  'svm': 0.7886737955817207},\n",
       " 'ecoli': {'full_data': 0.6586727648410655,\n",
       "  'random': 0.5544557954982592,\n",
       "  'smote': 0.5608708954189691,\n",
       "  'ada': 0.5093353815524392,\n",
       "  'bd_smote_1': 0.5607901405669516,\n",
       "  'bd_smote_2': 0.5719979553175242,\n",
       "  'svm': 0.5557066679599574},\n",
       " 'thyroid_sick': {'full_data': 0.8184841588903532,\n",
       "  'random': 0.8018483891049565,\n",
       "  'smote': 0.8019654942808115,\n",
       "  'ada': 0.7929158632420297,\n",
       "  'bd_smote_1': 0.7985918627685215,\n",
       "  'bd_smote_2': 0.7199350068801197,\n",
       "  'svm': 0.7364738088155737},\n",
       " 'arrhythmia': {'full_data': 0.6067100951052358,\n",
       "  'random': 0.36507558258339756,\n",
       "  'smote': 0.4390613491342616,\n",
       "  'ada': 0.4668473804439568,\n",
       "  'bd_smote_1': 0.40460220908092775,\n",
       "  'bd_smote_2': 0.28059645761535473,\n",
       "  'svm': 0.4173343046586018},\n",
       " 'ozone_level': {'full_data': 0.28046933867383994,\n",
       "  'random': 0.3368030937245147,\n",
       "  'smote': 0.30937729835657723,\n",
       "  'ada': 0.3392241185530871,\n",
       "  'bd_smote_1': 0.31612919505071563,\n",
       "  'bd_smote_2': 0.3078680565153211,\n",
       "  'svm': 0.31405363629107946}}"
      ]
     },
     "execution_count": 59,
     "metadata": {},
     "output_type": "execute_result"
    }
   ],
   "source": [
    "mean_dict"
   ]
  },
  {
   "cell_type": "code",
   "execution_count": 62,
   "id": "f9277556",
   "metadata": {},
   "outputs": [
    {
     "data": {
      "image/png": "[encoded data removed]",
      "text/plain": [
       "<Figure size 432x288 with 1 Axes>"
      ]
     },
     "metadata": {
      "needs_background": "light"
     },
     "output_type": "display_data"
    },
    {
     "data": {
      "image/png": "[encoded data removed]",
      "text/plain": [
       "<Figure size 432x288 with 1 Axes>"
      ]
     },
     "metadata": {
      "needs_background": "light"
     },
     "output_type": "display_data"
    },
    {
     "data": {
      "image/png": "[encoded data removed]",
      "text/plain": [
       "<Figure size 432x288 with 1 Axes>"
      ]
     },
     "metadata": {
      "needs_background": "light"
     },
     "output_type": "display_data"
    },
    {
     "data": {
      "image/png": "[encoded data removed]",
      "text/plain": [
       "<Figure size 432x288 with 1 Axes>"
      ]
     },
     "metadata": {
      "needs_background": "light"
     },
     "output_type": "display_data"
    },
    {
     "data": {
      "image/png": "[encoded data removed]",
      "text/plain": [
       "<Figure size 432x288 with 1 Axes>"
      ]
     },
     "metadata": {
      "needs_background": "light"
     },
     "output_type": "display_data"
    }
   ],
   "source": [
    "# now lets plot these results_dict using a bar plot\n",
    "\n",
    "for dataset in datasets_ls:\n",
    "    \n",
    "    pr_mean = pd.Series(mean_dict[dataset])\n",
    "    pr_std = pd.Series(std_dict[dataset])\n",
    "    pr_mean.plot.bar(yerr = [pr_std,pr_std])    \n",
    "    \n",
    "    plt.axhline(mean_dict[dataset]['full_data'], c = 'red')\n",
    "    plt.title(dataset)\n",
    "    plt.ylabel('mean test score')\n",
    "    plt.show()"
   ]
  },
  {
   "cell_type": "markdown",
   "id": "c66a5458",
   "metadata": {},
   "source": [
    "**So, we can see that different over sampling techniques work better and different in different datasets**\n",
    "- So, probably we might need to try few techniques based on the nature of the dataset and will need to find the best one that our model best performs with"
   ]
  }
 ],
 "metadata": {
  "kernelspec": {
   "display_name": "Python 3 (ipykernel)",
   "language": "python",
   "name": "python3"
  },
  "language_info": {
   "codemirror_mode": {
    "name": "ipython",
    "version": 3
   },
   "file_extension": ".py",
   "mimetype": "text/x-python",
   "name": "python",
   "nbconvert_exporter": "python",
   "pygments_lexer": "ipython3",
   "version": "3.9.5"
  }
 },
 "nbformat": 4,
 "nbformat_minor": 5
}
