{
 "cells": [
  {
   "cell_type": "markdown",
   "id": "346495a9",
   "metadata": {},
   "source": [
    "## SMOTE-N\n",
    "\n",
    "In this notebook, we will cover the essentials of SMOTE-N and the Value Difference Metric.\n",
    "\n",
    "- First, we will calculate the difference between values and observations using the VDM\n",
    "- Second, we will implement SMOTE-N with imbalanced learn."
   ]
  },
  {
   "cell_type": "code",
   "execution_count": 1,
   "id": "d9a613fe",
   "metadata": {},
   "outputs": [],
   "source": [
    "# import libraries\n",
    "\n",
    "import numpy as np\n",
    "import pandas as pd\n",
    "import matplotlib.pyplot as plt\n",
    "import seaborn as sns\n",
    "\n",
    "from sklearn.datasets import make_blobs\n",
    "from sklearn.preprocessing import OrdinalEncoder\n",
    "\n",
    "# from imblearn\n",
    "from imblearn.over_sampling import SMOTEN\n",
    "from imblearn.metrics.pairwise import ValueDifferenceMetric"
   ]
  },
  {
   "cell_type": "markdown",
   "id": "e5b080bf",
   "metadata": {},
   "source": [
    "## Distance between Values"
   ]
  },
  {
   "cell_type": "code",
   "execution_count": 6,
   "id": "75e17973",
   "metadata": {},
   "outputs": [
    {
     "name": "stdout",
     "output_type": "stream",
     "text": [
      "['green' 'green' 'green' 'green' 'green' 'green' 'green' 'green' 'green'\n",
      " 'green' 'red' 'red' 'red' 'red' 'red' 'red' 'red' 'red' 'red' 'red'\n",
      " 'blue' 'blue' 'blue' 'blue' 'blue' 'blue' 'blue' 'blue' 'blue' 'blue']\n",
      "[1, 1, 1, 1, 1, 1, 1, 1, 0, 0, 0, 0, 0, 1, 1, 1, 1, 1, 1, 1, 0, 0, 0, 0, 0, 0, 0, 0, 0, 1]\n"
     ]
    }
   ],
   "source": [
    "# lets create a dataset with just 1 feature\n",
    "\n",
    "X = np.array(['green'] * 10 + ['red']* 10 + ['blue'] * 10)\n",
    "y = [1] * 8 + [0] * 5 + [1] * 7 + [0] * 9 + [1]\n",
    "\n",
    "print(X)\n",
    "print(y)"
   ]
  },
  {
   "cell_type": "code",
   "execution_count": 8,
   "id": "e59272ea",
   "metadata": {},
   "outputs": [
    {
     "data": {
      "text/plain": [
       "numpy.str_"
      ]
     },
     "execution_count": 8,
     "metadata": {},
     "output_type": "execute_result"
    }
   ],
   "source": [
    "type(X[0])"
   ]
  },
  {
   "cell_type": "code",
   "execution_count": 11,
   "id": "041621a9",
   "metadata": {},
   "outputs": [
    {
     "data": {
      "text/plain": [
       "array([['green'],\n",
       "       ['green'],\n",
       "       ['green'],\n",
       "       ['green'],\n",
       "       ['green'],\n",
       "       ['green'],\n",
       "       ['green'],\n",
       "       ['green'],\n",
       "       ['green'],\n",
       "       ['green'],\n",
       "       ['red'],\n",
       "       ['red'],\n",
       "       ['red'],\n",
       "       ['red'],\n",
       "       ['red'],\n",
       "       ['red'],\n",
       "       ['red'],\n",
       "       ['red'],\n",
       "       ['red'],\n",
       "       ['red'],\n",
       "       ['blue'],\n",
       "       ['blue'],\n",
       "       ['blue'],\n",
       "       ['blue'],\n",
       "       ['blue'],\n",
       "       ['blue'],\n",
       "       ['blue'],\n",
       "       ['blue'],\n",
       "       ['blue'],\n",
       "       ['blue']], dtype='<U5')"
      ]
     },
     "execution_count": 11,
     "metadata": {},
     "output_type": "execute_result"
    }
   ],
   "source": [
    "# also we need to reshape our X so that we can passed into the Encoder function\n",
    "X = X.reshape(-1,1)\n",
    "X"
   ]
  },
  {
   "cell_type": "code",
   "execution_count": 12,
   "id": "cb0aa3e9",
   "metadata": {},
   "outputs": [],
   "source": [
    "# the function \"ValueDifferenceMetric\" works\n",
    "# only with encoded variables, so we need to transform\n",
    "# the strings into numbers first\n",
    "\n",
    "encoder = OrdinalEncoder(dtype=np.int32)\n",
    "X_enc = encoder.fit_transform(X)"
   ]
  },
  {
   "cell_type": "code",
   "execution_count": 13,
   "id": "ba69dc3a",
   "metadata": {},
   "outputs": [],
   "source": [
    "# Now, we can learn the distances\n",
    "# we are putting r=1 \n",
    "vdm = ValueDifferenceMetric(r=1).fit(X_enc, y)"
   ]
  },
  {
   "cell_type": "code",
   "execution_count": 14,
   "id": "bf3b1074",
   "metadata": {},
   "outputs": [
    {
     "data": {
      "text/plain": [
       "[array([[0.9, 0.1],\n",
       "        [0.2, 0.8],\n",
       "        [0.3, 0.7]])]"
      ]
     },
     "execution_count": 14,
     "metadata": {},
     "output_type": "execute_result"
    }
   ],
   "source": [
    "# the conditional probabilities of a value given the\n",
    "# class are stored, for each value\n",
    "vdm.proba_per_class_"
   ]
  },
  {
   "cell_type": "code",
   "execution_count": 21,
   "id": "73917eef",
   "metadata": {},
   "outputs": [
    {
     "data": {
      "text/plain": [
       "[array(['blue', 'green', 'red'], dtype='<U5')]"
      ]
     },
     "execution_count": 21,
     "metadata": {},
     "output_type": "execute_result"
    }
   ],
   "source": [
    "# which class is displayed first\n",
    "# they come as stored in the categories_ attribute of the encoder\n",
    "\n",
    "encoder.categories_"
   ]
  },
  {
   "cell_type": "markdown",
   "id": "9c7d6071",
   "metadata": {},
   "source": [
    "- So, the above probabilities proba_per_class_ means (for the first line). If its blue, the probability of belonging to class 0 is 0.9 and that to class 1 is 0.1. Similar for other values."
   ]
  },
  {
   "cell_type": "code",
   "execution_count": 23,
   "id": "c0505c0c",
   "metadata": {},
   "outputs": [
    {
     "data": {
      "text/plain": [
       "array([[0. , 0.2, 1.2],\n",
       "       [0.2, 0. , 1.4],\n",
       "       [1.2, 1.4, 0. ]])"
      ]
     },
     "execution_count": 23,
     "metadata": {},
     "output_type": "execute_result"
    }
   ],
   "source": [
    "# lets try to find distance between these 3 values blue, green and red\n",
    "# create a test array\n",
    "\n",
    "test_arr = np.array([\"red\", \"green\", \"blue\"]).reshape(-1,1)\n",
    "\n",
    "# transform the test data using our encoder\n",
    "X_test_enc = encoder.transform(test_arr)\n",
    "\n",
    "# calculate the distances\n",
    "vdm.pairwise(X_test_enc)"
   ]
  },
  {
   "cell_type": "markdown",
   "id": "aef22d4f",
   "metadata": {},
   "source": [
    "- In the above matrix, the diagonal values are the distance between itself\n",
    "- 0.2 is the distance between red and gree\n",
    "- 1.2 is the distance between red and blue and so on\n",
    "- So, basically this is the distance matrix"
   ]
  },
  {
   "cell_type": "markdown",
   "id": "5c436929",
   "metadata": {},
   "source": [
    "## Distance between vectors\n",
    "\n",
    "Now, instead of having a single value, we will determine distances in vectors"
   ]
  },
  {
   "cell_type": "code",
   "execution_count": 24,
   "id": "e05f629a",
   "metadata": {},
   "outputs": [
    {
     "data": {
      "text/html": [
       "<div>\n",
       "<style scoped>\n",
       "    .dataframe tbody tr th:only-of-type {\n",
       "        vertical-align: middle;\n",
       "    }\n",
       "\n",
       "    .dataframe tbody tr th {\n",
       "        vertical-align: top;\n",
       "    }\n",
       "\n",
       "    .dataframe thead th {\n",
       "        text-align: right;\n",
       "    }\n",
       "</style>\n",
       "<table border=\"1\" class=\"dataframe\">\n",
       "  <thead>\n",
       "    <tr style=\"text-align: right;\">\n",
       "      <th></th>\n",
       "      <th>colour</th>\n",
       "      <th>condition</th>\n",
       "    </tr>\n",
       "  </thead>\n",
       "  <tbody>\n",
       "    <tr>\n",
       "      <th>0</th>\n",
       "      <td>green</td>\n",
       "      <td>used</td>\n",
       "    </tr>\n",
       "    <tr>\n",
       "      <th>1</th>\n",
       "      <td>green</td>\n",
       "      <td>new</td>\n",
       "    </tr>\n",
       "    <tr>\n",
       "      <th>2</th>\n",
       "      <td>green</td>\n",
       "      <td>used</td>\n",
       "    </tr>\n",
       "    <tr>\n",
       "      <th>3</th>\n",
       "      <td>green</td>\n",
       "      <td>new</td>\n",
       "    </tr>\n",
       "    <tr>\n",
       "      <th>4</th>\n",
       "      <td>green</td>\n",
       "      <td>new</td>\n",
       "    </tr>\n",
       "  </tbody>\n",
       "</table>\n",
       "</div>"
      ],
      "text/plain": [
       "  colour condition\n",
       "0  green      used\n",
       "1  green       new\n",
       "2  green      used\n",
       "3  green       new\n",
       "4  green       new"
      ]
     },
     "execution_count": 24,
     "metadata": {},
     "output_type": "execute_result"
    }
   ],
   "source": [
    "# We create a dataframe that contains 2 features\n",
    "\n",
    "# 2 features\n",
    "X = pd.concat([\n",
    "    pd.Series(np.array([\"green\"] * 10 + [\"red\"] * 10 + [\"blue\"] * 10)),\n",
    "    \n",
    "    pd.Series(np.array([\"used\"] + [\"new\"] + [\"used\"] + [\"new\"] * 2 +\n",
    "                       [\"used\"] * 2 + [\"new\"] * 3 + [\"used\"] * 4 + \n",
    "                       [\"new\"] * 6 + [\"used\"] * 6 + [\"new\"] * 4)),\n",
    "    ], axis=1)\n",
    "\n",
    "X.columns = ['colour', 'condition']\n",
    "\n",
    "# target\n",
    "y = [1] * 8 + [0] * 5 + [1] * 7 + [0] * 9 + [1]\n",
    "\n",
    "X.head()"
   ]
  },
  {
   "cell_type": "code",
   "execution_count": 25,
   "id": "93a0ff59",
   "metadata": {},
   "outputs": [],
   "source": [
    "# the function \"ValueDifferenceMetric\" works\n",
    "# only with encoded variables, so we need to transform\n",
    "# the strings into numbers first\n",
    "\n",
    "encoder = OrdinalEncoder(dtype=np.int32)\n",
    "X_enc = encoder.fit_transform(X)"
   ]
  },
  {
   "cell_type": "code",
   "execution_count": 31,
   "id": "4e9d9145",
   "metadata": {},
   "outputs": [
    {
     "data": {
      "text/plain": [
       "array([[1, 1],\n",
       "       [1, 0],\n",
       "       [1, 1],\n",
       "       [1, 0],\n",
       "       [1, 0],\n",
       "       [1, 1],\n",
       "       [1, 1],\n",
       "       [1, 0],\n",
       "       [1, 0],\n",
       "       [1, 0],\n",
       "       [2, 1],\n",
       "       [2, 1],\n",
       "       [2, 1],\n",
       "       [2, 1],\n",
       "       [2, 0],\n",
       "       [2, 0],\n",
       "       [2, 0],\n",
       "       [2, 0],\n",
       "       [2, 0],\n",
       "       [2, 0],\n",
       "       [0, 1],\n",
       "       [0, 1],\n",
       "       [0, 1],\n",
       "       [0, 1],\n",
       "       [0, 1],\n",
       "       [0, 1],\n",
       "       [0, 0],\n",
       "       [0, 0],\n",
       "       [0, 0],\n",
       "       [0, 0]])"
      ]
     },
     "execution_count": 31,
     "metadata": {},
     "output_type": "execute_result"
    }
   ],
   "source": [
    "X_enc"
   ]
  },
  {
   "cell_type": "code",
   "execution_count": 33,
   "id": "3e0599be",
   "metadata": {},
   "outputs": [
    {
     "data": {
      "text/plain": [
       "ValueDifferenceMetric()"
      ]
     },
     "execution_count": 33,
     "metadata": {},
     "output_type": "execute_result"
    }
   ],
   "source": [
    "# now we can learn the distance using VDM,\n",
    "# we will use r = 2\n",
    "#first instantiate\n",
    "vdm = ValueDifferenceMetric(r=2)\n",
    "\n",
    "# fit it using the encoded variable data\n",
    "vdm.fit(X_enc, y)\n",
    "vdm"
   ]
  },
  {
   "cell_type": "code",
   "execution_count": 34,
   "id": "3b4d9036",
   "metadata": {},
   "outputs": [
    {
     "data": {
      "text/plain": [
       "[array([[0.9, 0.1],\n",
       "        [0.2, 0.8],\n",
       "        [0.3, 0.7]]),\n",
       " array([[0.3125    , 0.6875    ],\n",
       "        [0.64285714, 0.35714286]])]"
      ]
     },
     "execution_count": 34,
     "metadata": {},
     "output_type": "execute_result"
    }
   ],
   "source": [
    "# we can find the probabilities per class as before\n",
    "\n",
    "vdm.proba_per_class_"
   ]
  },
  {
   "cell_type": "code",
   "execution_count": 35,
   "id": "123c8dd1",
   "metadata": {},
   "outputs": [
    {
     "data": {
      "text/plain": [
       "[array(['blue', 'green', 'red'], dtype=object),\n",
       " array(['new', 'used'], dtype=object)]"
      ]
     },
     "execution_count": 35,
     "metadata": {},
     "output_type": "execute_result"
    }
   ],
   "source": [
    "# we can see the order of the values for the two features\n",
    "encoder.categories_"
   ]
  },
  {
   "cell_type": "code",
   "execution_count": 36,
   "id": "7a3bc173",
   "metadata": {},
   "outputs": [
    {
     "data": {
      "text/html": [
       "<div>\n",
       "<style scoped>\n",
       "    .dataframe tbody tr th:only-of-type {\n",
       "        vertical-align: middle;\n",
       "    }\n",
       "\n",
       "    .dataframe tbody tr th {\n",
       "        vertical-align: top;\n",
       "    }\n",
       "\n",
       "    .dataframe thead th {\n",
       "        text-align: right;\n",
       "    }\n",
       "</style>\n",
       "<table border=\"1\" class=\"dataframe\">\n",
       "  <thead>\n",
       "    <tr style=\"text-align: right;\">\n",
       "      <th></th>\n",
       "      <th>colour</th>\n",
       "      <th>condition</th>\n",
       "    </tr>\n",
       "  </thead>\n",
       "  <tbody>\n",
       "    <tr>\n",
       "      <th>0</th>\n",
       "      <td>green</td>\n",
       "      <td>used</td>\n",
       "    </tr>\n",
       "    <tr>\n",
       "      <th>1</th>\n",
       "      <td>green</td>\n",
       "      <td>new</td>\n",
       "    </tr>\n",
       "    <tr>\n",
       "      <th>2</th>\n",
       "      <td>red</td>\n",
       "      <td>used</td>\n",
       "    </tr>\n",
       "    <tr>\n",
       "      <th>3</th>\n",
       "      <td>red</td>\n",
       "      <td>new</td>\n",
       "    </tr>\n",
       "  </tbody>\n",
       "</table>\n",
       "</div>"
      ],
      "text/plain": [
       "  colour condition\n",
       "0  green      used\n",
       "1  green       new\n",
       "2    red      used\n",
       "3    red       new"
      ]
     },
     "execution_count": 36,
     "metadata": {},
     "output_type": "execute_result"
    }
   ],
   "source": [
    "# Now we create some new data with some vector\n",
    "# combinations of the 2 variables\n",
    "\n",
    "X_test = pd.concat([\n",
    "    pd.Series(np.array([\"green\"]+[\"green\"]+[\"red\"]+[\"red\"])),\n",
    "    pd.Series(np.array([\"used\"] + [\"new\"] + [\"used\"] + [\"new\"])),\n",
    "], axis=1)\n",
    "\n",
    "\n",
    "X_test.columns = ['colour', 'condition']\n",
    "\n",
    "X_test"
   ]
  },
  {
   "cell_type": "code",
   "execution_count": 40,
   "id": "be5bea9c",
   "metadata": {},
   "outputs": [
    {
     "data": {
      "text/plain": [
       "array([[1, 1],\n",
       "       [1, 0],\n",
       "       [2, 1],\n",
       "       [2, 0]])"
      ]
     },
     "execution_count": 40,
     "metadata": {},
     "output_type": "execute_result"
    }
   ],
   "source": [
    "# now before we calculate the distance between these vectors, we will need to encode the categorical variables first\n",
    "\n",
    "X_test_enc = encoder.transform(X_test)\n",
    "\n",
    "X_test_enc"
   ]
  },
  {
   "cell_type": "code",
   "execution_count": 41,
   "id": "017d4039",
   "metadata": {},
   "outputs": [
    {
     "data": {
      "text/plain": [
       "array([[0.        , 0.43654337, 0.04      , 0.47654337],\n",
       "       [0.43654337, 0.        , 0.47654337, 0.04      ],\n",
       "       [0.04      , 0.47654337, 0.        , 0.43654337],\n",
       "       [0.47654337, 0.04      , 0.43654337, 0.        ]])"
      ]
     },
     "execution_count": 41,
     "metadata": {},
     "output_type": "execute_result"
    }
   ],
   "source": [
    "# so now we can calculate the distance\n",
    "vdm.pairwise(X_test_enc)"
   ]
  },
  {
   "cell_type": "code",
   "execution_count": 43,
   "id": "90aae828",
   "metadata": {},
   "outputs": [
    {
     "data": {
      "text/html": [
       "<div>\n",
       "<style scoped>\n",
       "    .dataframe tbody tr th:only-of-type {\n",
       "        vertical-align: middle;\n",
       "    }\n",
       "\n",
       "    .dataframe tbody tr th {\n",
       "        vertical-align: top;\n",
       "    }\n",
       "\n",
       "    .dataframe thead th {\n",
       "        text-align: right;\n",
       "    }\n",
       "</style>\n",
       "<table border=\"1\" class=\"dataframe\">\n",
       "  <thead>\n",
       "    <tr style=\"text-align: right;\">\n",
       "      <th></th>\n",
       "      <th>colour</th>\n",
       "      <th>condition</th>\n",
       "    </tr>\n",
       "  </thead>\n",
       "  <tbody>\n",
       "    <tr>\n",
       "      <th>0</th>\n",
       "      <td>green</td>\n",
       "      <td>used</td>\n",
       "    </tr>\n",
       "    <tr>\n",
       "      <th>1</th>\n",
       "      <td>green</td>\n",
       "      <td>new</td>\n",
       "    </tr>\n",
       "    <tr>\n",
       "      <th>2</th>\n",
       "      <td>blue</td>\n",
       "      <td>used</td>\n",
       "    </tr>\n",
       "    <tr>\n",
       "      <th>3</th>\n",
       "      <td>red</td>\n",
       "      <td>new</td>\n",
       "    </tr>\n",
       "    <tr>\n",
       "      <th>4</th>\n",
       "      <td>blue</td>\n",
       "      <td>used</td>\n",
       "    </tr>\n",
       "  </tbody>\n",
       "</table>\n",
       "</div>"
      ],
      "text/plain": [
       "  colour condition\n",
       "0  green      used\n",
       "1  green       new\n",
       "2   blue      used\n",
       "3    red       new\n",
       "4   blue      used"
      ]
     },
     "execution_count": 43,
     "metadata": {},
     "output_type": "execute_result"
    }
   ],
   "source": [
    "# for another test data\n",
    "# Now we create some new data with some vector\n",
    "# combinations of the 2 variables\n",
    "\n",
    "X_test = pd.concat([\n",
    "    pd.Series(np.array([\"green\"]+[\"green\"]+[\"blue\"]+[\"red\"] + [\"blue\"])),\n",
    "    pd.Series(np.array([\"used\"] + [\"new\"] + [\"used\"] + [\"new\"] + [\"used\"])),\n",
    "], axis=1)\n",
    "\n",
    "\n",
    "X_test.columns = ['colour', 'condition']\n",
    "\n",
    "X_test"
   ]
  },
  {
   "cell_type": "code",
   "execution_count": 44,
   "id": "86f01ea7",
   "metadata": {},
   "outputs": [],
   "source": [
    "# encode\n",
    "X_test_enc = encoder.transform(X_test)"
   ]
  },
  {
   "cell_type": "code",
   "execution_count": 45,
   "id": "10b7a340",
   "metadata": {},
   "outputs": [
    {
     "data": {
      "text/plain": [
       "array([[0.        , 0.43654337, 1.96      , 0.47654337, 1.96      ],\n",
       "       [0.43654337, 0.        , 2.39654337, 0.04      , 2.39654337],\n",
       "       [1.96      , 2.39654337, 0.        , 1.87654337, 0.        ],\n",
       "       [0.47654337, 0.04      , 1.87654337, 0.        , 1.87654337],\n",
       "       [1.96      , 2.39654337, 0.        , 1.87654337, 0.        ]])"
      ]
     },
     "execution_count": 45,
     "metadata": {},
     "output_type": "execute_result"
    }
   ],
   "source": [
    "# calculate distance\n",
    "vdm.pairwise(X_test_enc)"
   ]
  },
  {
   "cell_type": "markdown",
   "id": "414ccd2f",
   "metadata": {},
   "source": [
    "- The above results corresponds to the different combinations in our test data\n",
    "- [green,used],[green, new],[blue,used],[[red,new] and [blue used]"
   ]
  },
  {
   "cell_type": "markdown",
   "id": "447aa5f5",
   "metadata": {},
   "source": [
    "## SMOTE-N\n",
    "\n",
    "[SMOTE-N](https://imbalanced-learn.org/stable/references/generated/imblearn.over_sampling.SMOTEN.html)"
   ]
  },
  {
   "cell_type": "code",
   "execution_count": 48,
   "id": "f07c0e5b",
   "metadata": {},
   "outputs": [
    {
     "data": {
      "text/plain": [
       "array(['c', 'a', 'c', 'c', 'a', 'a', 'c', 'b', 'c', 'c'], dtype=object)"
      ]
     },
     "execution_count": 48,
     "metadata": {},
     "output_type": "execute_result"
    }
   ],
   "source": [
    "rng = np.random.RandomState(42)\n",
    "\n",
    "rng.choice(['a','b','c'], size = 10).astype(object)"
   ]
  },
  {
   "cell_type": "code",
   "execution_count": 77,
   "id": "c2438ff3",
   "metadata": {},
   "outputs": [
    {
     "data": {
      "text/plain": [
       "array([0, 1, 0, 1, 0, 0, 1, 0, 0, 1])"
      ]
     },
     "execution_count": 77,
     "metadata": {},
     "output_type": "execute_result"
    }
   ],
   "source": [
    "rng.binomial(p=0.2, n=3, size=10)"
   ]
  },
  {
   "cell_type": "code",
   "execution_count": 78,
   "id": "07233d81",
   "metadata": {},
   "outputs": [
    {
     "data": {
      "text/plain": [
       "((1600, 3), (1600,))"
      ]
     },
     "execution_count": 78,
     "metadata": {},
     "output_type": "execute_result"
    }
   ],
   "source": [
    "# Create some data\n",
    "\n",
    "rng = np.random.RandomState(42)\n",
    "num_samples = 1600\n",
    "\n",
    "X = pd.concat([\n",
    "    pd.Series(rng.choice(['Blue', 'Green', 'Red'], size=num_samples).astype(object)),\n",
    "    pd.Series(rng.choice(['New', 'Used'], size=num_samples).astype(object)),\n",
    "    pd.Series(rng.choice(['Classic', 'Luxus', 'Smart', 'Small'], size=num_samples).astype(object)),\n",
    "], axis=1)\n",
    "\n",
    "X.columns = ['Colour', 'Condition', 'Model']\n",
    "\n",
    "y = pd.Series(rng.binomial(p=0.1, n=1, size=num_samples))\n",
    "\n",
    "# display size\n",
    "X.shape, y.shape"
   ]
  },
  {
   "cell_type": "code",
   "execution_count": 79,
   "id": "9f7f6f50",
   "metadata": {},
   "outputs": [
    {
     "data": {
      "text/html": [
       "<div>\n",
       "<style scoped>\n",
       "    .dataframe tbody tr th:only-of-type {\n",
       "        vertical-align: middle;\n",
       "    }\n",
       "\n",
       "    .dataframe tbody tr th {\n",
       "        vertical-align: top;\n",
       "    }\n",
       "\n",
       "    .dataframe thead th {\n",
       "        text-align: right;\n",
       "    }\n",
       "</style>\n",
       "<table border=\"1\" class=\"dataframe\">\n",
       "  <thead>\n",
       "    <tr style=\"text-align: right;\">\n",
       "      <th></th>\n",
       "      <th>Colour</th>\n",
       "      <th>Condition</th>\n",
       "      <th>Model</th>\n",
       "    </tr>\n",
       "  </thead>\n",
       "  <tbody>\n",
       "    <tr>\n",
       "      <th>0</th>\n",
       "      <td>Red</td>\n",
       "      <td>Used</td>\n",
       "      <td>Luxus</td>\n",
       "    </tr>\n",
       "    <tr>\n",
       "      <th>1</th>\n",
       "      <td>Blue</td>\n",
       "      <td>New</td>\n",
       "      <td>Small</td>\n",
       "    </tr>\n",
       "    <tr>\n",
       "      <th>2</th>\n",
       "      <td>Red</td>\n",
       "      <td>Used</td>\n",
       "      <td>Luxus</td>\n",
       "    </tr>\n",
       "    <tr>\n",
       "      <th>3</th>\n",
       "      <td>Red</td>\n",
       "      <td>New</td>\n",
       "      <td>Small</td>\n",
       "    </tr>\n",
       "    <tr>\n",
       "      <th>4</th>\n",
       "      <td>Blue</td>\n",
       "      <td>Used</td>\n",
       "      <td>Luxus</td>\n",
       "    </tr>\n",
       "  </tbody>\n",
       "</table>\n",
       "</div>"
      ],
      "text/plain": [
       "  Colour Condition  Model\n",
       "0    Red      Used  Luxus\n",
       "1   Blue       New  Small\n",
       "2    Red      Used  Luxus\n",
       "3    Red       New  Small\n",
       "4   Blue      Used  Luxus"
      ]
     },
     "execution_count": 79,
     "metadata": {},
     "output_type": "execute_result"
    }
   ],
   "source": [
    "X.head()"
   ]
  },
  {
   "cell_type": "code",
   "execution_count": 80,
   "id": "21175abf",
   "metadata": {},
   "outputs": [
    {
     "data": {
      "text/plain": [
       "0    1443\n",
       "1     157\n",
       "dtype: int64"
      ]
     },
     "execution_count": 80,
     "metadata": {},
     "output_type": "execute_result"
    }
   ],
   "source": [
    "y.value_counts()"
   ]
  },
  {
   "cell_type": "code",
   "execution_count": 83,
   "id": "043c6f41",
   "metadata": {},
   "outputs": [
    {
     "data": {
      "text/plain": [
       "0    0.901875\n",
       "1    0.098125\n",
       "dtype: float64"
      ]
     },
     "execution_count": 83,
     "metadata": {},
     "output_type": "execute_result"
    }
   ],
   "source": [
    "y.value_counts(normalize=True)"
   ]
  },
  {
   "cell_type": "code",
   "execution_count": 84,
   "id": "6f3d057e",
   "metadata": {},
   "outputs": [
    {
     "data": {
      "text/plain": [
       "0    0.901875\n",
       "1    0.098125\n",
       "dtype: float64"
      ]
     },
     "execution_count": 84,
     "metadata": {},
     "output_type": "execute_result"
    }
   ],
   "source": [
    "y.value_counts()/len(y)"
   ]
  },
  {
   "cell_type": "code",
   "execution_count": 82,
   "id": "172781b3",
   "metadata": {},
   "outputs": [
    {
     "name": "stdout",
     "output_type": "stream",
     "text": [
      "Blue     0.344375\n",
      "Red      0.328750\n",
      "Green    0.326875\n",
      "Name: Colour, dtype: float64\n",
      "Used    0.51125\n",
      "New     0.48875\n",
      "Name: Condition, dtype: float64\n",
      "Small      0.256250\n",
      "Classic    0.255625\n",
      "Smart      0.251875\n",
      "Luxus      0.236250\n",
      "Name: Model, dtype: float64\n"
     ]
    }
   ],
   "source": [
    "# to calculate the probability per features as per the given data, we can do this as follows\n",
    "\n",
    "for var in X.columns:\n",
    "    print(X[var].value_counts(normalize=True))\n",
    "    #print(var)"
   ]
  },
  {
   "cell_type": "code",
   "execution_count": 85,
   "id": "38ecbe38",
   "metadata": {},
   "outputs": [
    {
     "data": {
      "text/plain": [
       "((2886, 3), (2886,))"
      ]
     },
     "execution_count": 85,
     "metadata": {},
     "output_type": "execute_result"
    }
   ],
   "source": [
    "# setting up SMOTE\n",
    "\n",
    "smote = SMOTEN(sampling_strategy='auto',  # to over sample minority class\n",
    "               k_neighbors=5,             # knn values\n",
    "               n_jobs=2,\n",
    "               random_state=0)\n",
    "\n",
    "X_res, y_res = smote.fit_resample(X,y)\n",
    "X_res.shape, y_res.shape"
   ]
  },
  {
   "cell_type": "code",
   "execution_count": 87,
   "id": "52042f37",
   "metadata": {},
   "outputs": [
    {
     "name": "stdout",
     "output_type": "stream",
     "text": [
      "Blue     0.343728\n",
      "Green    0.331254\n",
      "Red      0.325017\n",
      "Name: Colour, dtype: float64\n",
      "Used    0.517325\n",
      "New     0.482675\n",
      "Name: Condition, dtype: float64\n",
      "Smart      0.273042\n",
      "Classic    0.258143\n",
      "Small      0.241511\n",
      "Luxus      0.227304\n",
      "Name: Model, dtype: float64\n"
     ]
    }
   ],
   "source": [
    "# lets check the value counts\n",
    "\n",
    "for var in X.columns:\n",
    "    print(X_res[var].value_counts(normalize=True))"
   ]
  },
  {
   "cell_type": "code",
   "execution_count": 90,
   "id": "3a051100",
   "metadata": {},
   "outputs": [
    {
     "data": {
      "text/plain": [
       "0    1443\n",
       "1    1443\n",
       "dtype: int64"
      ]
     },
     "execution_count": 90,
     "metadata": {},
     "output_type": "execute_result"
    }
   ],
   "source": [
    "# check the balance ratio for y_res \n",
    "y_res.value_counts()"
   ]
  },
  {
   "cell_type": "code",
   "execution_count": null,
   "id": "e7de02f5",
   "metadata": {},
   "outputs": [],
   "source": []
  }
 ],
 "metadata": {
  "kernelspec": {
   "display_name": "Python 3 (ipykernel)",
   "language": "python",
   "name": "python3"
  },
  "language_info": {
   "codemirror_mode": {
    "name": "ipython",
    "version": 3
   },
   "file_extension": ".py",
   "mimetype": "text/x-python",
   "name": "python",
   "nbconvert_exporter": "python",
   "pygments_lexer": "ipython3",
   "version": "3.9.5"
  }
 },
 "nbformat": 4,
 "nbformat_minor": 5
}
