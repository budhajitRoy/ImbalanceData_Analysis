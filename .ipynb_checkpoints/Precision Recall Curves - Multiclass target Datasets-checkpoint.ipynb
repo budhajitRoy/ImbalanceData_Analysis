{
 "cells": [
  {
   "cell_type": "markdown",
   "id": "9afaf2fb",
   "metadata": {},
   "source": [
    "## Precision Recall Curves - Multiclass target Datasets\n",
    "- Analyzing how Precision and Recall Curves Plots can be drawn for different classes in a multiclass targets datasets\n",
    "- How these plots can be use to compare performances between models "
   ]
  },
  {
   "cell_type": "code",
   "execution_count": 57,
   "id": "7d259828",
   "metadata": {},
   "outputs": [],
   "source": [
    "# import libraries\n",
    "import numpy as np\n",
    "import pandas as pd\n",
    "\n",
    "# for plotting\n",
    "import matplotlib.pyplot as plt\n",
    "\n",
    "# from sklearn\n",
    "from sklearn.datasets import load_wine\n",
    "from sklearn.ensemble import RandomForestClassifier\n",
    "from sklearn.linear_model import LogisticRegression\n",
    "from sklearn.model_selection import train_test_split\n",
    "\n",
    "# for one-vs Rest\n",
    "from sklearn.multiclass import OneVsRestClassifier\n",
    "\n",
    "# for converting 1-D target vector into a matrix\n",
    "from sklearn.preprocessing import label_binarize\n",
    "\n",
    "# metrics\n",
    "from sklearn.metrics import (\n",
    "    precision_recall_curve\n",
    ")\n",
    "\n",
    "# from yellowbrick\n",
    "from yellowbrick.classifier import PrecisionRecallCurve"
   ]
  },
  {
   "cell_type": "code",
   "execution_count": 2,
   "id": "01718d32",
   "metadata": {},
   "outputs": [
    {
     "data": {
      "text/plain": [
       "{'data': array([[1.423e+01, 1.710e+00, 2.430e+00, ..., 1.040e+00, 3.920e+00,\n",
       "         1.065e+03],\n",
       "        [1.320e+01, 1.780e+00, 2.140e+00, ..., 1.050e+00, 3.400e+00,\n",
       "         1.050e+03],\n",
       "        [1.316e+01, 2.360e+00, 2.670e+00, ..., 1.030e+00, 3.170e+00,\n",
       "         1.185e+03],\n",
       "        ...,\n",
       "        [1.327e+01, 4.280e+00, 2.260e+00, ..., 5.900e-01, 1.560e+00,\n",
       "         8.350e+02],\n",
       "        [1.317e+01, 2.590e+00, 2.370e+00, ..., 6.000e-01, 1.620e+00,\n",
       "         8.400e+02],\n",
       "        [1.413e+01, 4.100e+00, 2.740e+00, ..., 6.100e-01, 1.600e+00,\n",
       "         5.600e+02]]),\n",
       " 'target': array([0, 0, 0, 0, 0, 0, 0, 0, 0, 0, 0, 0, 0, 0, 0, 0, 0, 0, 0, 0, 0, 0,\n",
       "        0, 0, 0, 0, 0, 0, 0, 0, 0, 0, 0, 0, 0, 0, 0, 0, 0, 0, 0, 0, 0, 0,\n",
       "        0, 0, 0, 0, 0, 0, 0, 0, 0, 0, 0, 0, 0, 0, 0, 1, 1, 1, 1, 1, 1, 1,\n",
       "        1, 1, 1, 1, 1, 1, 1, 1, 1, 1, 1, 1, 1, 1, 1, 1, 1, 1, 1, 1, 1, 1,\n",
       "        1, 1, 1, 1, 1, 1, 1, 1, 1, 1, 1, 1, 1, 1, 1, 1, 1, 1, 1, 1, 1, 1,\n",
       "        1, 1, 1, 1, 1, 1, 1, 1, 1, 1, 1, 1, 1, 1, 1, 1, 1, 1, 1, 1, 2, 2,\n",
       "        2, 2, 2, 2, 2, 2, 2, 2, 2, 2, 2, 2, 2, 2, 2, 2, 2, 2, 2, 2, 2, 2,\n",
       "        2, 2, 2, 2, 2, 2, 2, 2, 2, 2, 2, 2, 2, 2, 2, 2, 2, 2, 2, 2, 2, 2,\n",
       "        2, 2]),\n",
       " 'frame': None,\n",
       " 'target_names': array(['class_0', 'class_1', 'class_2'], dtype='<U7'),\n",
       " 'DESCR': '.. _wine_dataset:\\n\\nWine recognition dataset\\n------------------------\\n\\n**Data Set Characteristics:**\\n\\n    :Number of Instances: 178 (50 in each of three classes)\\n    :Number of Attributes: 13 numeric, predictive attributes and the class\\n    :Attribute Information:\\n \\t\\t- Alcohol\\n \\t\\t- Malic acid\\n \\t\\t- Ash\\n\\t\\t- Alcalinity of ash  \\n \\t\\t- Magnesium\\n\\t\\t- Total phenols\\n \\t\\t- Flavanoids\\n \\t\\t- Nonflavanoid phenols\\n \\t\\t- Proanthocyanins\\n\\t\\t- Color intensity\\n \\t\\t- Hue\\n \\t\\t- OD280/OD315 of diluted wines\\n \\t\\t- Proline\\n\\n    - class:\\n            - class_0\\n            - class_1\\n            - class_2\\n\\t\\t\\n    :Summary Statistics:\\n    \\n    ============================= ==== ===== ======= =====\\n                                   Min   Max   Mean     SD\\n    ============================= ==== ===== ======= =====\\n    Alcohol:                      11.0  14.8    13.0   0.8\\n    Malic Acid:                   0.74  5.80    2.34  1.12\\n    Ash:                          1.36  3.23    2.36  0.27\\n    Alcalinity of Ash:            10.6  30.0    19.5   3.3\\n    Magnesium:                    70.0 162.0    99.7  14.3\\n    Total Phenols:                0.98  3.88    2.29  0.63\\n    Flavanoids:                   0.34  5.08    2.03  1.00\\n    Nonflavanoid Phenols:         0.13  0.66    0.36  0.12\\n    Proanthocyanins:              0.41  3.58    1.59  0.57\\n    Colour Intensity:              1.3  13.0     5.1   2.3\\n    Hue:                          0.48  1.71    0.96  0.23\\n    OD280/OD315 of diluted wines: 1.27  4.00    2.61  0.71\\n    Proline:                       278  1680     746   315\\n    ============================= ==== ===== ======= =====\\n\\n    :Missing Attribute Values: None\\n    :Class Distribution: class_0 (59), class_1 (71), class_2 (48)\\n    :Creator: R.A. Fisher\\n    :Donor: Michael Marshall (MARSHALL%PLU@io.arc.nasa.gov)\\n    :Date: July, 1988\\n\\nThis is a copy of UCI ML Wine recognition datasets.\\nhttps://archive.ics.uci.edu/ml/machine-learning-databases/wine/wine.data\\n\\nThe data is the results of a chemical analysis of wines grown in the same\\nregion in Italy by three different cultivators. There are thirteen different\\nmeasurements taken for different constituents found in the three types of\\nwine.\\n\\nOriginal Owners: \\n\\nForina, M. et al, PARVUS - \\nAn Extendible Package for Data Exploration, Classification and Correlation. \\nInstitute of Pharmaceutical and Food Analysis and Technologies,\\nVia Brigata Salerno, 16147 Genoa, Italy.\\n\\nCitation:\\n\\nLichman, M. (2013). UCI Machine Learning Repository\\n[https://archive.ics.uci.edu/ml]. Irvine, CA: University of California,\\nSchool of Information and Computer Science. \\n\\n.. topic:: References\\n\\n  (1) S. Aeberhard, D. Coomans and O. de Vel, \\n  Comparison of Classifiers in High Dimensional Settings, \\n  Tech. Rep. no. 92-02, (1992), Dept. of Computer Science and Dept. of  \\n  Mathematics and Statistics, James Cook University of North Queensland. \\n  (Also submitted to Technometrics). \\n\\n  The data was used with many others for comparing various \\n  classifiers. The classes are separable, though only RDA \\n  has achieved 100% correct classification. \\n  (RDA : 100%, QDA 99.4%, LDA 98.9%, 1NN 96.1% (z-transformed data)) \\n  (All results using the leave-one-out technique) \\n\\n  (2) S. Aeberhard, D. Coomans and O. de Vel, \\n  \"THE CLASSIFICATION PERFORMANCE OF RDA\" \\n  Tech. Rep. no. 92-01, (1992), Dept. of Computer Science and Dept. of \\n  Mathematics and Statistics, James Cook University of North Queensland. \\n  (Also submitted to Journal of Chemometrics).\\n',\n",
       " 'feature_names': ['alcohol',\n",
       "  'malic_acid',\n",
       "  'ash',\n",
       "  'alcalinity_of_ash',\n",
       "  'magnesium',\n",
       "  'total_phenols',\n",
       "  'flavanoids',\n",
       "  'nonflavanoid_phenols',\n",
       "  'proanthocyanins',\n",
       "  'color_intensity',\n",
       "  'hue',\n",
       "  'od280/od315_of_diluted_wines',\n",
       "  'proline']}"
      ]
     },
     "execution_count": 2,
     "metadata": {},
     "output_type": "execute_result"
    }
   ],
   "source": [
    "# load data\n",
    "data = load_wine()\n",
    "data"
   ]
  },
  {
   "cell_type": "code",
   "execution_count": 8,
   "id": "83fc6ac8",
   "metadata": {},
   "outputs": [
    {
     "data": {
      "text/html": [
       "<div>\n",
       "<style scoped>\n",
       "    .dataframe tbody tr th:only-of-type {\n",
       "        vertical-align: middle;\n",
       "    }\n",
       "\n",
       "    .dataframe tbody tr th {\n",
       "        vertical-align: top;\n",
       "    }\n",
       "\n",
       "    .dataframe thead th {\n",
       "        text-align: right;\n",
       "    }\n",
       "</style>\n",
       "<table border=\"1\" class=\"dataframe\">\n",
       "  <thead>\n",
       "    <tr style=\"text-align: right;\">\n",
       "      <th></th>\n",
       "      <th>alcohol</th>\n",
       "      <th>malic_acid</th>\n",
       "      <th>ash</th>\n",
       "      <th>alcalinity_of_ash</th>\n",
       "      <th>magnesium</th>\n",
       "      <th>total_phenols</th>\n",
       "      <th>flavanoids</th>\n",
       "      <th>nonflavanoid_phenols</th>\n",
       "      <th>proanthocyanins</th>\n",
       "      <th>color_intensity</th>\n",
       "      <th>hue</th>\n",
       "      <th>od280/od315_of_diluted_wines</th>\n",
       "      <th>proline</th>\n",
       "      <th>target</th>\n",
       "    </tr>\n",
       "  </thead>\n",
       "  <tbody>\n",
       "    <tr>\n",
       "      <th>0</th>\n",
       "      <td>14.23</td>\n",
       "      <td>1.71</td>\n",
       "      <td>2.43</td>\n",
       "      <td>15.6</td>\n",
       "      <td>127.0</td>\n",
       "      <td>2.80</td>\n",
       "      <td>3.06</td>\n",
       "      <td>0.28</td>\n",
       "      <td>2.29</td>\n",
       "      <td>5.64</td>\n",
       "      <td>1.04</td>\n",
       "      <td>3.92</td>\n",
       "      <td>1065.0</td>\n",
       "      <td>0</td>\n",
       "    </tr>\n",
       "    <tr>\n",
       "      <th>1</th>\n",
       "      <td>13.20</td>\n",
       "      <td>1.78</td>\n",
       "      <td>2.14</td>\n",
       "      <td>11.2</td>\n",
       "      <td>100.0</td>\n",
       "      <td>2.65</td>\n",
       "      <td>2.76</td>\n",
       "      <td>0.26</td>\n",
       "      <td>1.28</td>\n",
       "      <td>4.38</td>\n",
       "      <td>1.05</td>\n",
       "      <td>3.40</td>\n",
       "      <td>1050.0</td>\n",
       "      <td>0</td>\n",
       "    </tr>\n",
       "    <tr>\n",
       "      <th>2</th>\n",
       "      <td>13.16</td>\n",
       "      <td>2.36</td>\n",
       "      <td>2.67</td>\n",
       "      <td>18.6</td>\n",
       "      <td>101.0</td>\n",
       "      <td>2.80</td>\n",
       "      <td>3.24</td>\n",
       "      <td>0.30</td>\n",
       "      <td>2.81</td>\n",
       "      <td>5.68</td>\n",
       "      <td>1.03</td>\n",
       "      <td>3.17</td>\n",
       "      <td>1185.0</td>\n",
       "      <td>0</td>\n",
       "    </tr>\n",
       "    <tr>\n",
       "      <th>3</th>\n",
       "      <td>14.37</td>\n",
       "      <td>1.95</td>\n",
       "      <td>2.50</td>\n",
       "      <td>16.8</td>\n",
       "      <td>113.0</td>\n",
       "      <td>3.85</td>\n",
       "      <td>3.49</td>\n",
       "      <td>0.24</td>\n",
       "      <td>2.18</td>\n",
       "      <td>7.80</td>\n",
       "      <td>0.86</td>\n",
       "      <td>3.45</td>\n",
       "      <td>1480.0</td>\n",
       "      <td>0</td>\n",
       "    </tr>\n",
       "    <tr>\n",
       "      <th>4</th>\n",
       "      <td>13.24</td>\n",
       "      <td>2.59</td>\n",
       "      <td>2.87</td>\n",
       "      <td>21.0</td>\n",
       "      <td>118.0</td>\n",
       "      <td>2.80</td>\n",
       "      <td>2.69</td>\n",
       "      <td>0.39</td>\n",
       "      <td>1.82</td>\n",
       "      <td>4.32</td>\n",
       "      <td>1.04</td>\n",
       "      <td>2.93</td>\n",
       "      <td>735.0</td>\n",
       "      <td>0</td>\n",
       "    </tr>\n",
       "  </tbody>\n",
       "</table>\n",
       "</div>"
      ],
      "text/plain": [
       "   alcohol  malic_acid   ash  alcalinity_of_ash  magnesium  total_phenols  \\\n",
       "0    14.23        1.71  2.43               15.6      127.0           2.80   \n",
       "1    13.20        1.78  2.14               11.2      100.0           2.65   \n",
       "2    13.16        2.36  2.67               18.6      101.0           2.80   \n",
       "3    14.37        1.95  2.50               16.8      113.0           3.85   \n",
       "4    13.24        2.59  2.87               21.0      118.0           2.80   \n",
       "\n",
       "   flavanoids  nonflavanoid_phenols  proanthocyanins  color_intensity   hue  \\\n",
       "0        3.06                  0.28             2.29             5.64  1.04   \n",
       "1        2.76                  0.26             1.28             4.38  1.05   \n",
       "2        3.24                  0.30             2.81             5.68  1.03   \n",
       "3        3.49                  0.24             2.18             7.80  0.86   \n",
       "4        2.69                  0.39             1.82             4.32  1.04   \n",
       "\n",
       "   od280/od315_of_diluted_wines  proline  target  \n",
       "0                          3.92   1065.0       0  \n",
       "1                          3.40   1050.0       0  \n",
       "2                          3.17   1185.0       0  \n",
       "3                          3.45   1480.0       0  \n",
       "4                          2.93    735.0       0  "
      ]
     },
     "execution_count": 8,
     "metadata": {},
     "output_type": "execute_result"
    }
   ],
   "source": [
    "# prepare dataframes\n",
    "\n",
    "df = pd.concat([pd.DataFrame(data.data, columns=data.feature_names),\n",
    "              pd.DataFrame(data.target, columns=['target'])], axis = 1)\n",
    "df.head()"
   ]
  },
  {
   "cell_type": "code",
   "execution_count": 12,
   "id": "7956dd01",
   "metadata": {},
   "outputs": [
    {
     "data": {
      "text/plain": [
       "1    0.398876\n",
       "0    0.331461\n",
       "2    0.269663\n",
       "Name: target, dtype: float64"
      ]
     },
     "execution_count": 12,
     "metadata": {},
     "output_type": "execute_result"
    }
   ],
   "source": [
    "# check the ratio of the target class\n",
    "df.target.value_counts(normalize=True)"
   ]
  },
  {
   "cell_type": "code",
   "execution_count": 14,
   "id": "a2c60571",
   "metadata": {},
   "outputs": [
    {
     "data": {
      "text/plain": [
       "((124, 13), (54, 13))"
      ]
     },
     "execution_count": 14,
     "metadata": {},
     "output_type": "execute_result"
    }
   ],
   "source": [
    "# split data into train and test sets\n",
    "X_train, X_test, y_train, y_test = train_test_split(df.drop('target', axis = 1),\n",
    "                                                   df['target'],\n",
    "                                                   test_size=0.3,\n",
    "                                                   random_state=0)\n",
    "\n",
    "X_train.shape, X_test.shape"
   ]
  },
  {
   "cell_type": "markdown",
   "id": "d23a2299",
   "metadata": {},
   "source": [
    "## Train Models"
   ]
  },
  {
   "cell_type": "markdown",
   "id": "6ce73b59",
   "metadata": {},
   "source": [
    "### Random Forest\n",
    "- RF model needs to be wrapped under OneVsRestClassifier"
   ]
  },
  {
   "cell_type": "code",
   "execution_count": 66,
   "id": "a9ecc055",
   "metadata": {},
   "outputs": [
    {
     "data": {
      "text/plain": [
       "OneVsRestClassifier(estimator=RandomForestClassifier(max_depth=1,\n",
       "                                                     n_estimators=10, n_jobs=2,\n",
       "                                                     random_state=39))"
      ]
     },
     "execution_count": 66,
     "metadata": {},
     "output_type": "execute_result"
    }
   ],
   "source": [
    "# max_depth is set to 1 as we are trying to get a simple model\n",
    "\n",
    "rf = OneVsRestClassifier(\n",
    "    RandomForestClassifier(\n",
    "        n_estimators=10, random_state=39, max_depth=1,n_jobs=2)\n",
    "    )\n",
    "\n",
    "rf.fit(X_train, y_train)"
   ]
  },
  {
   "cell_type": "code",
   "execution_count": 67,
   "id": "2fbb8201",
   "metadata": {},
   "outputs": [
    {
     "data": {
      "text/plain": [
       "array([[0.65585892, 0.30751478, 0.0366263 ],\n",
       "       [0.05518233, 0.25215179, 0.69266589],\n",
       "       [0.34795739, 0.5812701 , 0.07077251],\n",
       "       [0.63193034, 0.32889668, 0.03917297],\n",
       "       [0.30310868, 0.49998879, 0.19690253],\n",
       "       [0.37648223, 0.53413382, 0.08938395],\n",
       "       [0.59288054, 0.31292709, 0.09419236],\n",
       "       [0.05019807, 0.22826575, 0.72153618],\n",
       "       [0.18841092, 0.71865205, 0.09293703],\n",
       "       [0.13170475, 0.67533883, 0.19295642]])"
      ]
     },
     "execution_count": 67,
     "metadata": {},
     "output_type": "execute_result"
    }
   ],
   "source": [
    "# note that the predictions (here probabilities) are an array of 3 columns\n",
    "\n",
    "# first column: the probability of an observation of being of class 0\n",
    "# second column: the probability of an observation of being of class 1\n",
    "# third column: the probability of an observation of being of class 2\n",
    "\n",
    "rf_probs = rf.predict_proba(X_test)\n",
    "rf_probs[:10,:]"
   ]
  },
  {
   "cell_type": "code",
   "execution_count": 68,
   "id": "b62f00fb",
   "metadata": {},
   "outputs": [
    {
     "data": {
      "text/plain": [
       "array([1., 1., 1., 1., 1., 1., 1., 1., 1., 1.])"
      ]
     },
     "execution_count": 68,
     "metadata": {},
     "output_type": "execute_result"
    }
   ],
   "source": [
    "# these probability vectors sum to 1\n",
    "rf_probs[:10,:].sum(axis = 1)"
   ]
  },
  {
   "cell_type": "code",
   "execution_count": 70,
   "id": "aa410933",
   "metadata": {},
   "outputs": [],
   "source": [
    "# get the class predictions for rf\n",
    "# which is the one with the highest probability\n",
    "rf_preds = rf.predict(X_test)"
   ]
  },
  {
   "cell_type": "code",
   "execution_count": 71,
   "id": "7a4860dd",
   "metadata": {},
   "outputs": [
    {
     "data": {
      "text/plain": [
       "array([0, 2, 1, 0, 1, 1, 0, 2, 1, 1])"
      ]
     },
     "execution_count": 71,
     "metadata": {},
     "output_type": "execute_result"
    }
   ],
   "source": [
    "rf_preds[:10]"
   ]
  },
  {
   "cell_type": "markdown",
   "id": "69c61861",
   "metadata": {},
   "source": [
    "## Logistic Regression Model"
   ]
  },
  {
   "cell_type": "code",
   "execution_count": 27,
   "id": "aa249709",
   "metadata": {},
   "outputs": [
    {
     "name": "stderr",
     "output_type": "stream",
     "text": [
      "C:\\Users\\budha\\AppData\\Local\\Programs\\Python\\Python39\\lib\\site-packages\\sklearn\\linear_model\\_logistic.py:814: ConvergenceWarning: lbfgs failed to converge (status=1):\n",
      "STOP: TOTAL NO. of ITERATIONS REACHED LIMIT.\n",
      "\n",
      "Increase the number of iterations (max_iter) or scale the data as shown in:\n",
      "    https://scikit-learn.org/stable/modules/preprocessing.html\n",
      "Please also refer to the documentation for alternative solver options:\n",
      "    https://scikit-learn.org/stable/modules/linear_model.html#logistic-regression\n",
      "  n_iter_i = _check_optimize_result(\n",
      "C:\\Users\\budha\\AppData\\Local\\Programs\\Python\\Python39\\lib\\site-packages\\sklearn\\linear_model\\_logistic.py:814: ConvergenceWarning: lbfgs failed to converge (status=1):\n",
      "STOP: TOTAL NO. of ITERATIONS REACHED LIMIT.\n",
      "\n",
      "Increase the number of iterations (max_iter) or scale the data as shown in:\n",
      "    https://scikit-learn.org/stable/modules/preprocessing.html\n",
      "Please also refer to the documentation for alternative solver options:\n",
      "    https://scikit-learn.org/stable/modules/linear_model.html#logistic-regression\n",
      "  n_iter_i = _check_optimize_result(\n",
      "C:\\Users\\budha\\AppData\\Local\\Programs\\Python\\Python39\\lib\\site-packages\\sklearn\\linear_model\\_logistic.py:814: ConvergenceWarning: lbfgs failed to converge (status=1):\n",
      "STOP: TOTAL NO. of ITERATIONS REACHED LIMIT.\n",
      "\n",
      "Increase the number of iterations (max_iter) or scale the data as shown in:\n",
      "    https://scikit-learn.org/stable/modules/preprocessing.html\n",
      "Please also refer to the documentation for alternative solver options:\n",
      "    https://scikit-learn.org/stable/modules/linear_model.html#logistic-regression\n",
      "  n_iter_i = _check_optimize_result(\n"
     ]
    },
    {
     "data": {
      "text/plain": [
       "LogisticRegression(max_iter=10, multi_class='ovr', random_state=0)"
      ]
     },
     "execution_count": 27,
     "metadata": {},
     "output_type": "execute_result"
    }
   ],
   "source": [
    "# Logistic Regression has hyper parameter to set for One Vs Rest\n",
    "log = LogisticRegression(max_iter=10,\n",
    "                         multi_class='ovr',\n",
    "                         random_state=0)\n",
    "\n",
    "log.fit(X_train, y_train)"
   ]
  },
  {
   "cell_type": "code",
   "execution_count": 28,
   "id": "21523ed4",
   "metadata": {},
   "outputs": [
    {
     "data": {
      "text/plain": [
       "array([[8.03835946e-01, 6.55703628e-02, 1.30593691e-01],\n",
       "       [1.12186161e-04, 6.18682106e-01, 3.81205708e-01],\n",
       "       [1.89065726e-03, 5.97109910e-01, 4.00999433e-01],\n",
       "       [8.38327387e-01, 4.50373337e-02, 1.16635279e-01],\n",
       "       [5.29907169e-04, 6.02840121e-01, 3.96629972e-01],\n",
       "       [1.44386555e-05, 6.27677859e-01, 3.72307703e-01],\n",
       "       [8.98500309e-01, 1.82105291e-02, 8.32891616e-02],\n",
       "       [8.63968121e-03, 5.62918752e-01, 4.28441566e-01],\n",
       "       [3.51523966e-02, 5.31592415e-01, 4.33255189e-01],\n",
       "       [1.77044639e-02, 5.57176456e-01, 4.25119080e-01]])"
      ]
     },
     "execution_count": 28,
     "metadata": {},
     "output_type": "execute_result"
    }
   ],
   "source": [
    "log_probs = log.predict_proba(X_test)\n",
    "log_probs[:10, :]"
   ]
  },
  {
   "cell_type": "code",
   "execution_count": 29,
   "id": "a087b89c",
   "metadata": {},
   "outputs": [
    {
     "data": {
      "text/plain": [
       "array([0, 1, 1, 0, 1, 1, 0, 1, 1, 1])"
      ]
     },
     "execution_count": 29,
     "metadata": {},
     "output_type": "execute_result"
    }
   ],
   "source": [
    "# class predictions\n",
    "log_preds = log.predict(X_test)\n",
    "log_preds[:10]"
   ]
  },
  {
   "cell_type": "markdown",
   "id": "d1b09673",
   "metadata": {},
   "source": [
    "## Precision Recall Curve"
   ]
  },
  {
   "cell_type": "markdown",
   "id": "cb63ada2",
   "metadata": {},
   "source": [
    "### Per Class - sklearn"
   ]
  },
  {
   "cell_type": "code",
   "execution_count": 31,
   "id": "9ac61bed",
   "metadata": {},
   "outputs": [
    {
     "data": {
      "text/plain": [
       "54     0\n",
       "151    2\n",
       "63     1\n",
       "55     0\n",
       "123    1\n",
       "121    1\n",
       "7      0\n",
       "160    2\n",
       "106    1\n",
       "90     1\n",
       "Name: target, dtype: int32"
      ]
     },
     "execution_count": 31,
     "metadata": {},
     "output_type": "execute_result"
    }
   ],
   "source": [
    "# first we need to binarize our target labels into multi index matrix\n",
    "y_test[:10]"
   ]
  },
  {
   "cell_type": "code",
   "execution_count": 33,
   "id": "daf04844",
   "metadata": {},
   "outputs": [
    {
     "data": {
      "text/plain": [
       "array([[1, 0, 0],\n",
       "       [0, 0, 1],\n",
       "       [0, 1, 0],\n",
       "       [1, 0, 0],\n",
       "       [0, 1, 0],\n",
       "       [0, 1, 0],\n",
       "       [1, 0, 0],\n",
       "       [0, 0, 1],\n",
       "       [0, 1, 0],\n",
       "       [0, 1, 0]])"
      ]
     },
     "execution_count": 33,
     "metadata": {},
     "output_type": "execute_result"
    }
   ],
   "source": [
    "# we have 3 classes so specify the class values\n",
    "# so now we have one class per column\n",
    "y_test = label_binarize(y_test, classes=[0,1,2])\n",
    "y_test[:10,:]"
   ]
  },
  {
   "cell_type": "code",
   "execution_count": 34,
   "id": "d714971b",
   "metadata": {},
   "outputs": [
    {
     "data": {
      "text/plain": [
       "array([0, 1, 0, 0, 0, 0, 0, 1, 0, 0, 1, 1, 0, 0, 1, 0, 0, 0, 0, 0, 0, 0,\n",
       "       0, 0, 0, 0, 0, 0, 0, 1, 0, 0, 0, 0, 0, 0, 1, 0, 0, 1, 0, 0, 0, 0,\n",
       "       0, 0, 1, 0, 1, 0, 1, 1, 0, 1])"
      ]
     },
     "execution_count": 34,
     "metadata": {},
     "output_type": "execute_result"
    }
   ],
   "source": [
    "y_test[:,2]"
   ]
  },
  {
   "cell_type": "code",
   "execution_count": 72,
   "id": "defad7f9",
   "metadata": {},
   "outputs": [
    {
     "data": {
      "text/plain": [
       "array([0.92857143, 0.92307692, 0.91666667, 1.        , 1.        ,\n",
       "       1.        , 1.        , 1.        , 1.        , 1.        ,\n",
       "       1.        , 1.        , 1.        , 1.        , 1.        ])"
      ]
     },
     "execution_count": 72,
     "metadata": {},
     "output_type": "execute_result"
    }
   ],
   "source": [
    "# get the precision, recall and thresholds values\n",
    "# this we are considering for class 2\n",
    "# here we are treating the problem as class 2 vs Rest\n",
    "p,r,threshold = precision_recall_curve(y_test[:,2], rf_probs[:,2])\n",
    "# precision values\n",
    "p"
   ]
  },
  {
   "cell_type": "code",
   "execution_count": 73,
   "id": "8f2451e4",
   "metadata": {},
   "outputs": [
    {
     "data": {
      "text/plain": [
       "array([1.        , 0.92307692, 0.84615385, 0.84615385, 0.76923077,\n",
       "       0.69230769, 0.61538462, 0.53846154, 0.46153846, 0.38461538,\n",
       "       0.30769231, 0.23076923, 0.15384615, 0.07692308, 0.        ])"
      ]
     },
     "execution_count": 73,
     "metadata": {},
     "output_type": "execute_result"
    }
   ],
   "source": [
    "# recall values\n",
    "r"
   ]
  },
  {
   "cell_type": "code",
   "execution_count": 74,
   "id": "e9aafb0b",
   "metadata": {},
   "outputs": [
    {
     "data": {
      "text/plain": [
       "array([0.52316703, 0.54415106, 0.54937457, 0.56716779, 0.5910435 ,\n",
       "       0.61409803, 0.6341882 , 0.67254717, 0.69266589, 0.7084845 ,\n",
       "       0.72153618, 0.75113934, 0.7669628 , 0.7853098 ])"
      ]
     },
     "execution_count": 74,
     "metadata": {},
     "output_type": "execute_result"
    }
   ],
   "source": [
    "# thresholds examined\n",
    "threshold"
   ]
  },
  {
   "cell_type": "code",
   "execution_count": 75,
   "id": "7232a834",
   "metadata": {},
   "outputs": [
    {
     "data": {
      "text/plain": [
       "array([1, 0, 0, 1, 0, 0, 1, 0, 0, 0, 0, 0, 1, 0, 0, 0, 1, 1, 0, 1, 0, 1,\n",
       "       1, 0, 0, 0, 0, 0, 0, 0, 1, 1, 0, 1, 1, 1, 0, 0, 0, 0, 1, 1, 0, 0,\n",
       "       0, 1, 0, 0, 0, 1, 0, 0, 1, 0])"
      ]
     },
     "execution_count": 75,
     "metadata": {},
     "output_type": "execute_result"
    }
   ],
   "source": [
    "y_test[:,0]"
   ]
  },
  {
   "cell_type": "code",
   "execution_count": 76,
   "id": "58ce0db0",
   "metadata": {},
   "outputs": [
    {
     "data": {
      "text/plain": [
       "array([0.95      , 0.94736842, 1.        , 1.        , 1.        ,\n",
       "       1.        , 1.        , 1.        , 1.        , 1.        ,\n",
       "       1.        , 1.        , 1.        , 1.        , 1.        ,\n",
       "       1.        , 1.        , 1.        , 1.        ])"
      ]
     },
     "execution_count": 76,
     "metadata": {},
     "output_type": "execute_result"
    }
   ],
   "source": [
    "# for class 0\n",
    "p,r,threshold = precision_recall_curve(y_test[:,0], rf_probs[:,0])\n",
    "p"
   ]
  },
  {
   "cell_type": "code",
   "execution_count": 77,
   "id": "0e6a819b",
   "metadata": {},
   "outputs": [
    {
     "data": {
      "text/plain": [
       "array([1.        , 0.94736842, 0.94736842, 0.89473684, 0.84210526,\n",
       "       0.78947368, 0.73684211, 0.68421053, 0.63157895, 0.57894737,\n",
       "       0.52631579, 0.47368421, 0.42105263, 0.36842105, 0.31578947,\n",
       "       0.21052632, 0.15789474, 0.05263158, 0.        ])"
      ]
     },
     "execution_count": 77,
     "metadata": {},
     "output_type": "execute_result"
    }
   ],
   "source": [
    "r"
   ]
  },
  {
   "cell_type": "code",
   "execution_count": 78,
   "id": "9f32a154",
   "metadata": {},
   "outputs": [
    {
     "data": {
      "text/plain": [
       "array([0.41642178, 0.42327198, 0.44236274, 0.54042436, 0.55023138,\n",
       "       0.56460202, 0.58034038, 0.58488937, 0.5857439 , 0.59288054,\n",
       "       0.5992422 , 0.60886483, 0.60962758, 0.62403154, 0.63193034,\n",
       "       0.65216469, 0.65585892, 0.67049232])"
      ]
     },
     "execution_count": 78,
     "metadata": {},
     "output_type": "execute_result"
    }
   ],
   "source": [
    "threshold"
   ]
  },
  {
   "cell_type": "code",
   "execution_count": 79,
   "id": "5927a135",
   "metadata": {},
   "outputs": [
    {
     "data": {
      "text/plain": [
       "array([0.52380952, 0.51219512, 0.53846154, 0.55263158, 0.56756757,\n",
       "       0.58333333, 0.6       , 0.63636364, 0.65625   , 0.67741935,\n",
       "       0.7       , 0.72413793, 0.75      , 0.77777778, 0.80769231,\n",
       "       0.84      , 0.875     , 0.91304348, 0.90909091, 0.95238095,\n",
       "       0.95      , 1.        , 1.        , 1.        , 1.        ,\n",
       "       1.        , 1.        , 1.        , 1.        , 1.        ,\n",
       "       1.        , 1.        , 1.        , 1.        , 1.        ,\n",
       "       1.        , 1.        , 1.        , 1.        , 1.        ,\n",
       "       1.        ])"
      ]
     },
     "execution_count": 79,
     "metadata": {},
     "output_type": "execute_result"
    }
   ],
   "source": [
    "# for class 1\n",
    "p,r,threshold = precision_recall_curve(y_test[:,1], rf_probs[:,1])\n",
    "p"
   ]
  },
  {
   "cell_type": "code",
   "execution_count": 80,
   "id": "c946a29f",
   "metadata": {},
   "outputs": [
    {
     "data": {
      "text/plain": [
       "array([1.        , 0.95454545, 0.95454545, 0.95454545, 0.95454545,\n",
       "       0.95454545, 0.95454545, 0.95454545, 0.95454545, 0.95454545,\n",
       "       0.95454545, 0.95454545, 0.95454545, 0.95454545, 0.95454545,\n",
       "       0.95454545, 0.95454545, 0.95454545, 0.90909091, 0.90909091,\n",
       "       0.86363636, 0.86363636, 0.81818182, 0.77272727, 0.72727273,\n",
       "       0.68181818, 0.63636364, 0.59090909, 0.54545455, 0.5       ,\n",
       "       0.45454545, 0.40909091, 0.36363636, 0.31818182, 0.27272727,\n",
       "       0.22727273, 0.18181818, 0.13636364, 0.09090909, 0.04545455,\n",
       "       0.        ])"
      ]
     },
     "execution_count": 80,
     "metadata": {},
     "output_type": "execute_result"
    }
   ],
   "source": [
    "r"
   ]
  },
  {
   "cell_type": "code",
   "execution_count": 81,
   "id": "d8037e42",
   "metadata": {},
   "outputs": [
    {
     "data": {
      "text/plain": [
       "array([0.30677854, 0.30751478, 0.31081584, 0.31292709, 0.31834415,\n",
       "       0.32611392, 0.32889668, 0.33623524, 0.34111956, 0.34255433,\n",
       "       0.34950738, 0.35339526, 0.35479745, 0.35848695, 0.36361114,\n",
       "       0.38076094, 0.40190058, 0.42117747, 0.45261204, 0.48169245,\n",
       "       0.4926667 , 0.49998879, 0.50031035, 0.52592483, 0.53413382,\n",
       "       0.55479235, 0.5812701 , 0.59164533, 0.61596739, 0.65099676,\n",
       "       0.67533883, 0.67853808, 0.68938168, 0.70225678, 0.71865205,\n",
       "       0.734811  , 0.7700388 , 0.77041466, 0.80683544, 0.83800877])"
      ]
     },
     "execution_count": 81,
     "metadata": {},
     "output_type": "execute_result"
    }
   ],
   "source": [
    "threshold"
   ]
  },
  {
   "cell_type": "code",
   "execution_count": 44,
   "id": "d1b7c35e",
   "metadata": {},
   "outputs": [
    {
     "data": {
      "text/plain": [
       "(54, 3)"
      ]
     },
     "execution_count": 44,
     "metadata": {},
     "output_type": "execute_result"
    }
   ],
   "source": [
    "y_test.shape"
   ]
  },
  {
   "cell_type": "markdown",
   "id": "093cf7a3",
   "metadata": {},
   "source": [
    "## Precision recall for all classes"
   ]
  },
  {
   "cell_type": "code",
   "execution_count": 82,
   "id": "2f75d161",
   "metadata": {},
   "outputs": [
    {
     "data": {
      "text/plain": [
       "{0: array([0.95      , 0.94736842, 1.        , 1.        , 1.        ,\n",
       "        1.        , 1.        , 1.        , 1.        , 1.        ,\n",
       "        1.        , 1.        , 1.        , 1.        , 1.        ,\n",
       "        1.        , 1.        , 1.        , 1.        ]),\n",
       " 1: array([0.52380952, 0.51219512, 0.53846154, 0.55263158, 0.56756757,\n",
       "        0.58333333, 0.6       , 0.63636364, 0.65625   , 0.67741935,\n",
       "        0.7       , 0.72413793, 0.75      , 0.77777778, 0.80769231,\n",
       "        0.84      , 0.875     , 0.91304348, 0.90909091, 0.95238095,\n",
       "        0.95      , 1.        , 1.        , 1.        , 1.        ,\n",
       "        1.        , 1.        , 1.        , 1.        , 1.        ,\n",
       "        1.        , 1.        , 1.        , 1.        , 1.        ,\n",
       "        1.        , 1.        , 1.        , 1.        , 1.        ,\n",
       "        1.        ]),\n",
       " 2: array([0.92857143, 0.92307692, 0.91666667, 1.        , 1.        ,\n",
       "        1.        , 1.        , 1.        , 1.        , 1.        ,\n",
       "        1.        , 1.        , 1.        , 1.        , 1.        ])}"
      ]
     },
     "execution_count": 82,
     "metadata": {},
     "output_type": "execute_result"
    }
   ],
   "source": [
    "# Now lets get the above precision and recall values for all classes into a dicationary \n",
    "# this will help in plotting the graph\n",
    "\n",
    "precision_rf = dict()\n",
    "recall_rf = dict()\n",
    "\n",
    "for i in range(3):\n",
    "    precision_rf[i], recall_rf[i], _ = precision_recall_curve(y_test[:,i], rf_probs[:,i])\n",
    "    \n",
    "precision_rf"
   ]
  },
  {
   "cell_type": "code",
   "execution_count": 84,
   "id": "69b37205",
   "metadata": {},
   "outputs": [
    {
     "data": {
      "text/plain": [
       "{0: array([1.        , 0.94736842, 0.94736842, 0.89473684, 0.84210526,\n",
       "        0.78947368, 0.73684211, 0.68421053, 0.63157895, 0.57894737,\n",
       "        0.52631579, 0.47368421, 0.42105263, 0.36842105, 0.31578947,\n",
       "        0.21052632, 0.15789474, 0.05263158, 0.        ]),\n",
       " 1: array([1.        , 0.95454545, 0.95454545, 0.95454545, 0.95454545,\n",
       "        0.95454545, 0.95454545, 0.95454545, 0.95454545, 0.95454545,\n",
       "        0.95454545, 0.95454545, 0.95454545, 0.95454545, 0.95454545,\n",
       "        0.95454545, 0.95454545, 0.95454545, 0.90909091, 0.90909091,\n",
       "        0.86363636, 0.86363636, 0.81818182, 0.77272727, 0.72727273,\n",
       "        0.68181818, 0.63636364, 0.59090909, 0.54545455, 0.5       ,\n",
       "        0.45454545, 0.40909091, 0.36363636, 0.31818182, 0.27272727,\n",
       "        0.22727273, 0.18181818, 0.13636364, 0.09090909, 0.04545455,\n",
       "        0.        ]),\n",
       " 2: array([1.        , 0.92307692, 0.84615385, 0.84615385, 0.76923077,\n",
       "        0.69230769, 0.61538462, 0.53846154, 0.46153846, 0.38461538,\n",
       "        0.30769231, 0.23076923, 0.15384615, 0.07692308, 0.        ])}"
      ]
     },
     "execution_count": 84,
     "metadata": {},
     "output_type": "execute_result"
    }
   ],
   "source": [
    "recall_rf"
   ]
  },
  {
   "cell_type": "code",
   "execution_count": 83,
   "id": "0cebda5e",
   "metadata": {},
   "outputs": [
    {
     "data": {
      "image/png": "[encoded data removed]",
      "text/plain": [
       "<Figure size 576x396 with 1 Axes>"
      ]
     },
     "metadata": {},
     "output_type": "display_data"
    }
   ],
   "source": [
    "# plot the curves for each class\n",
    "\n",
    "for i in range(3):\n",
    "    plt.plot(recall_rf[i], precision_rf[i], label = 'class {}'.format(i))\n",
    "    \n",
    "plt.xlabel('Recall')\n",
    "plt.ylabel('Precision')\n",
    "plt.title('PR curve - RF')\n",
    "plt.legend(loc='best')\n",
    "plt.show()"
   ]
  },
  {
   "cell_type": "code",
   "execution_count": 62,
   "id": "ee312a72",
   "metadata": {},
   "outputs": [
    {
     "data": {
      "text/plain": [
       "{0: array([0.54285714, 0.52941176, 0.54545455, 0.5625    , 0.58064516,\n",
       "        0.6       , 0.62068966, 0.64285714, 0.66666667, 0.69230769,\n",
       "        0.72      , 0.75      , 0.73913043, 0.77272727, 0.80952381,\n",
       "        0.85      , 0.84210526, 0.88888889, 0.94117647, 0.9375    ,\n",
       "        0.93333333, 1.        , 1.        , 1.        , 1.        ,\n",
       "        1.        , 1.        , 1.        , 1.        , 1.        ,\n",
       "        1.        , 1.        , 1.        , 1.        , 1.        ,\n",
       "        1.        ]),\n",
       " 1: array([0.55      , 0.53846154, 0.55263158, 0.56756757, 0.58333333,\n",
       "        0.6       , 0.61764706, 0.60606061, 0.59375   , 0.61290323,\n",
       "        0.63333333, 0.65517241, 0.64285714, 0.62962963, 0.65384615,\n",
       "        0.64      , 0.66666667, 0.69565217, 0.72727273, 0.71428571,\n",
       "        0.7       , 0.73684211, 0.72222222, 0.70588235, 0.75      ,\n",
       "        0.8       , 0.78571429, 0.84615385, 0.83333333, 0.81818182,\n",
       "        0.8       , 0.77777778, 0.875     , 0.85714286, 0.83333333,\n",
       "        0.8       , 0.75      , 0.66666667, 0.5       , 1.        ,\n",
       "        1.        ]),\n",
       " 2: array([0.35135135, 0.33333333, 0.34285714, 0.32352941, 0.33333333,\n",
       "        0.34375   , 0.35483871, 0.36666667, 0.34482759, 0.35714286,\n",
       "        0.33333333, 0.34615385, 0.36      , 0.375     , 0.39130435,\n",
       "        0.36363636, 0.38095238, 0.4       , 0.42105263, 0.44444444,\n",
       "        0.47058824, 0.5       , 0.53333333, 0.57142857, 0.53846154,\n",
       "        0.58333333, 0.54545455, 0.6       , 0.66666667, 0.625     ,\n",
       "        0.57142857, 0.66666667, 0.8       , 0.75      , 1.        ,\n",
       "        1.        , 1.        , 1.        ])}"
      ]
     },
     "execution_count": 62,
     "metadata": {},
     "output_type": "execute_result"
    }
   ],
   "source": [
    "# lets do the same for Logistic Regression\n",
    "# Now lets get the above precision and recall values for all classes into a dicationary \n",
    "# this will help in plotting the graph\n",
    "\n",
    "precision_log = dict()\n",
    "recall_log = dict()\n",
    "\n",
    "for i in range(3):\n",
    "    precision_log[i], recall_log[i], _ = precision_recall_curve(y_test[:,i], log_probs[:,i])\n",
    "    \n",
    "precision_log"
   ]
  },
  {
   "cell_type": "code",
   "execution_count": 63,
   "id": "c9d62f00",
   "metadata": {},
   "outputs": [
    {
     "data": {
      "text/plain": [
       "{0: array([1.        , 0.94736842, 0.94736842, 0.94736842, 0.94736842,\n",
       "        0.94736842, 0.94736842, 0.94736842, 0.94736842, 0.94736842,\n",
       "        0.94736842, 0.94736842, 0.89473684, 0.89473684, 0.89473684,\n",
       "        0.89473684, 0.84210526, 0.84210526, 0.84210526, 0.78947368,\n",
       "        0.73684211, 0.73684211, 0.68421053, 0.63157895, 0.57894737,\n",
       "        0.52631579, 0.47368421, 0.42105263, 0.36842105, 0.31578947,\n",
       "        0.26315789, 0.21052632, 0.15789474, 0.10526316, 0.05263158,\n",
       "        0.        ]),\n",
       " 1: array([1.        , 0.95454545, 0.95454545, 0.95454545, 0.95454545,\n",
       "        0.95454545, 0.95454545, 0.90909091, 0.86363636, 0.86363636,\n",
       "        0.86363636, 0.86363636, 0.81818182, 0.77272727, 0.77272727,\n",
       "        0.72727273, 0.72727273, 0.72727273, 0.72727273, 0.68181818,\n",
       "        0.63636364, 0.63636364, 0.59090909, 0.54545455, 0.54545455,\n",
       "        0.54545455, 0.5       , 0.5       , 0.45454545, 0.40909091,\n",
       "        0.36363636, 0.31818182, 0.31818182, 0.27272727, 0.22727273,\n",
       "        0.18181818, 0.13636364, 0.09090909, 0.04545455, 0.04545455,\n",
       "        0.        ]),\n",
       " 2: array([1.        , 0.92307692, 0.92307692, 0.84615385, 0.84615385,\n",
       "        0.84615385, 0.84615385, 0.84615385, 0.76923077, 0.76923077,\n",
       "        0.69230769, 0.69230769, 0.69230769, 0.69230769, 0.69230769,\n",
       "        0.61538462, 0.61538462, 0.61538462, 0.61538462, 0.61538462,\n",
       "        0.61538462, 0.61538462, 0.61538462, 0.61538462, 0.53846154,\n",
       "        0.53846154, 0.46153846, 0.46153846, 0.46153846, 0.38461538,\n",
       "        0.30769231, 0.30769231, 0.30769231, 0.23076923, 0.23076923,\n",
       "        0.15384615, 0.07692308, 0.        ])}"
      ]
     },
     "execution_count": 63,
     "metadata": {},
     "output_type": "execute_result"
    }
   ],
   "source": [
    "recall_log"
   ]
  },
  {
   "cell_type": "code",
   "execution_count": 65,
   "id": "6040320b",
   "metadata": {},
   "outputs": [
    {
     "data": {
      "image/png": "[encoded data removed]",
      "text/plain": [
       "<Figure size 576x396 with 1 Axes>"
      ]
     },
     "metadata": {},
     "output_type": "display_data"
    }
   ],
   "source": [
    "# plotting\n",
    "\n",
    "for i in range(3):\n",
    "    plt.plot(recall_log[i], precision_log[i], label = 'class {}'.format(i))\n",
    "    \n",
    "plt.xlabel('Recall')\n",
    "plt.ylabel('Precision')\n",
    "plt.title('Precision Vs Recall - Logistic Regression')\n",
    "plt.legend(loc='best')\n",
    "plt.show()"
   ]
  },
  {
   "cell_type": "code",
   "execution_count": null,
   "id": "6ca582c2",
   "metadata": {},
   "outputs": [],
   "source": []
  }
 ],
 "metadata": {
  "kernelspec": {
   "display_name": "Python 3 (ipykernel)",
   "language": "python",
   "name": "python3"
  },
  "language_info": {
   "codemirror_mode": {
    "name": "ipython",
    "version": 3
   },
   "file_extension": ".py",
   "mimetype": "text/x-python",
   "name": "python",
   "nbconvert_exporter": "python",
   "pygments_lexer": "ipython3",
   "version": "3.9.5"
  }
 },
 "nbformat": 4,
 "nbformat_minor": 5
}
