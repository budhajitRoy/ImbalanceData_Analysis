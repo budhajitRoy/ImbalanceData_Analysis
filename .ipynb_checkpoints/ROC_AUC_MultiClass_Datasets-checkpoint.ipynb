{
 "cells": [
  {
   "cell_type": "markdown",
   "id": "ea85612e",
   "metadata": {},
   "source": [
    "## ROC AUC for MultiClass Target Labels Datasets"
   ]
  },
  {
   "cell_type": "code",
   "execution_count": 9,
   "id": "783b52a0",
   "metadata": {},
   "outputs": [],
   "source": [
    "# import libraries\n",
    "\n",
    "import numpy as np\n",
    "import pandas as pd\n",
    "\n",
    "# for plotting\n",
    "import matplotlib.pyplot as plt\n",
    "\n",
    "# from sklearn\n",
    "from sklearn.datasets import load_wine\n",
    "from sklearn.model_selection import train_test_split\n",
    "from sklearn.ensemble import RandomForestClassifier\n",
    "from sklearn.linear_model import LogisticRegression\n",
    "from sklearn.preprocessing import label_binarize\n",
    "from sklearn.multiclass import OneVsRestClassifier\n",
    "\n",
    "# for metrics\n",
    "from sklearn.metrics import roc_auc_score, roc_curve\n",
    "\n",
    "# from yellowbricks\n",
    "from yellowbrick.classifier import ROCAUC"
   ]
  },
  {
   "cell_type": "code",
   "execution_count": 3,
   "id": "9e895c0c",
   "metadata": {},
   "outputs": [
    {
     "data": {
      "text/plain": [
       "{'data': array([[1.423e+01, 1.710e+00, 2.430e+00, ..., 1.040e+00, 3.920e+00,\n",
       "         1.065e+03],\n",
       "        [1.320e+01, 1.780e+00, 2.140e+00, ..., 1.050e+00, 3.400e+00,\n",
       "         1.050e+03],\n",
       "        [1.316e+01, 2.360e+00, 2.670e+00, ..., 1.030e+00, 3.170e+00,\n",
       "         1.185e+03],\n",
       "        ...,\n",
       "        [1.327e+01, 4.280e+00, 2.260e+00, ..., 5.900e-01, 1.560e+00,\n",
       "         8.350e+02],\n",
       "        [1.317e+01, 2.590e+00, 2.370e+00, ..., 6.000e-01, 1.620e+00,\n",
       "         8.400e+02],\n",
       "        [1.413e+01, 4.100e+00, 2.740e+00, ..., 6.100e-01, 1.600e+00,\n",
       "         5.600e+02]]),\n",
       " 'target': array([0, 0, 0, 0, 0, 0, 0, 0, 0, 0, 0, 0, 0, 0, 0, 0, 0, 0, 0, 0, 0, 0,\n",
       "        0, 0, 0, 0, 0, 0, 0, 0, 0, 0, 0, 0, 0, 0, 0, 0, 0, 0, 0, 0, 0, 0,\n",
       "        0, 0, 0, 0, 0, 0, 0, 0, 0, 0, 0, 0, 0, 0, 0, 1, 1, 1, 1, 1, 1, 1,\n",
       "        1, 1, 1, 1, 1, 1, 1, 1, 1, 1, 1, 1, 1, 1, 1, 1, 1, 1, 1, 1, 1, 1,\n",
       "        1, 1, 1, 1, 1, 1, 1, 1, 1, 1, 1, 1, 1, 1, 1, 1, 1, 1, 1, 1, 1, 1,\n",
       "        1, 1, 1, 1, 1, 1, 1, 1, 1, 1, 1, 1, 1, 1, 1, 1, 1, 1, 1, 1, 2, 2,\n",
       "        2, 2, 2, 2, 2, 2, 2, 2, 2, 2, 2, 2, 2, 2, 2, 2, 2, 2, 2, 2, 2, 2,\n",
       "        2, 2, 2, 2, 2, 2, 2, 2, 2, 2, 2, 2, 2, 2, 2, 2, 2, 2, 2, 2, 2, 2,\n",
       "        2, 2]),\n",
       " 'frame': None,\n",
       " 'target_names': array(['class_0', 'class_1', 'class_2'], dtype='<U7'),\n",
       " 'DESCR': '.. _wine_dataset:\\n\\nWine recognition dataset\\n------------------------\\n\\n**Data Set Characteristics:**\\n\\n    :Number of Instances: 178 (50 in each of three classes)\\n    :Number of Attributes: 13 numeric, predictive attributes and the class\\n    :Attribute Information:\\n \\t\\t- Alcohol\\n \\t\\t- Malic acid\\n \\t\\t- Ash\\n\\t\\t- Alcalinity of ash  \\n \\t\\t- Magnesium\\n\\t\\t- Total phenols\\n \\t\\t- Flavanoids\\n \\t\\t- Nonflavanoid phenols\\n \\t\\t- Proanthocyanins\\n\\t\\t- Color intensity\\n \\t\\t- Hue\\n \\t\\t- OD280/OD315 of diluted wines\\n \\t\\t- Proline\\n\\n    - class:\\n            - class_0\\n            - class_1\\n            - class_2\\n\\t\\t\\n    :Summary Statistics:\\n    \\n    ============================= ==== ===== ======= =====\\n                                   Min   Max   Mean     SD\\n    ============================= ==== ===== ======= =====\\n    Alcohol:                      11.0  14.8    13.0   0.8\\n    Malic Acid:                   0.74  5.80    2.34  1.12\\n    Ash:                          1.36  3.23    2.36  0.27\\n    Alcalinity of Ash:            10.6  30.0    19.5   3.3\\n    Magnesium:                    70.0 162.0    99.7  14.3\\n    Total Phenols:                0.98  3.88    2.29  0.63\\n    Flavanoids:                   0.34  5.08    2.03  1.00\\n    Nonflavanoid Phenols:         0.13  0.66    0.36  0.12\\n    Proanthocyanins:              0.41  3.58    1.59  0.57\\n    Colour Intensity:              1.3  13.0     5.1   2.3\\n    Hue:                          0.48  1.71    0.96  0.23\\n    OD280/OD315 of diluted wines: 1.27  4.00    2.61  0.71\\n    Proline:                       278  1680     746   315\\n    ============================= ==== ===== ======= =====\\n\\n    :Missing Attribute Values: None\\n    :Class Distribution: class_0 (59), class_1 (71), class_2 (48)\\n    :Creator: R.A. Fisher\\n    :Donor: Michael Marshall (MARSHALL%PLU@io.arc.nasa.gov)\\n    :Date: July, 1988\\n\\nThis is a copy of UCI ML Wine recognition datasets.\\nhttps://archive.ics.uci.edu/ml/machine-learning-databases/wine/wine.data\\n\\nThe data is the results of a chemical analysis of wines grown in the same\\nregion in Italy by three different cultivators. There are thirteen different\\nmeasurements taken for different constituents found in the three types of\\nwine.\\n\\nOriginal Owners: \\n\\nForina, M. et al, PARVUS - \\nAn Extendible Package for Data Exploration, Classification and Correlation. \\nInstitute of Pharmaceutical and Food Analysis and Technologies,\\nVia Brigata Salerno, 16147 Genoa, Italy.\\n\\nCitation:\\n\\nLichman, M. (2013). UCI Machine Learning Repository\\n[https://archive.ics.uci.edu/ml]. Irvine, CA: University of California,\\nSchool of Information and Computer Science. \\n\\n.. topic:: References\\n\\n  (1) S. Aeberhard, D. Coomans and O. de Vel, \\n  Comparison of Classifiers in High Dimensional Settings, \\n  Tech. Rep. no. 92-02, (1992), Dept. of Computer Science and Dept. of  \\n  Mathematics and Statistics, James Cook University of North Queensland. \\n  (Also submitted to Technometrics). \\n\\n  The data was used with many others for comparing various \\n  classifiers. The classes are separable, though only RDA \\n  has achieved 100% correct classification. \\n  (RDA : 100%, QDA 99.4%, LDA 98.9%, 1NN 96.1% (z-transformed data)) \\n  (All results using the leave-one-out technique) \\n\\n  (2) S. Aeberhard, D. Coomans and O. de Vel, \\n  \"THE CLASSIFICATION PERFORMANCE OF RDA\" \\n  Tech. Rep. no. 92-01, (1992), Dept. of Computer Science and Dept. of \\n  Mathematics and Statistics, James Cook University of North Queensland. \\n  (Also submitted to Journal of Chemometrics).\\n',\n",
       " 'feature_names': ['alcohol',\n",
       "  'malic_acid',\n",
       "  'ash',\n",
       "  'alcalinity_of_ash',\n",
       "  'magnesium',\n",
       "  'total_phenols',\n",
       "  'flavanoids',\n",
       "  'nonflavanoid_phenols',\n",
       "  'proanthocyanins',\n",
       "  'color_intensity',\n",
       "  'hue',\n",
       "  'od280/od315_of_diluted_wines',\n",
       "  'proline']}"
      ]
     },
     "execution_count": 3,
     "metadata": {},
     "output_type": "execute_result"
    }
   ],
   "source": [
    "# load data\n",
    "data = load_wine()\n",
    "data"
   ]
  },
  {
   "cell_type": "code",
   "execution_count": 5,
   "id": "2b5a2945",
   "metadata": {},
   "outputs": [
    {
     "data": {
      "text/html": [
       "<div>\n",
       "<style scoped>\n",
       "    .dataframe tbody tr th:only-of-type {\n",
       "        vertical-align: middle;\n",
       "    }\n",
       "\n",
       "    .dataframe tbody tr th {\n",
       "        vertical-align: top;\n",
       "    }\n",
       "\n",
       "    .dataframe thead th {\n",
       "        text-align: right;\n",
       "    }\n",
       "</style>\n",
       "<table border=\"1\" class=\"dataframe\">\n",
       "  <thead>\n",
       "    <tr style=\"text-align: right;\">\n",
       "      <th></th>\n",
       "      <th>alcohol</th>\n",
       "      <th>malic_acid</th>\n",
       "      <th>ash</th>\n",
       "      <th>alcalinity_of_ash</th>\n",
       "      <th>magnesium</th>\n",
       "      <th>total_phenols</th>\n",
       "      <th>flavanoids</th>\n",
       "      <th>nonflavanoid_phenols</th>\n",
       "      <th>proanthocyanins</th>\n",
       "      <th>color_intensity</th>\n",
       "      <th>hue</th>\n",
       "      <th>od280/od315_of_diluted_wines</th>\n",
       "      <th>proline</th>\n",
       "      <th>target</th>\n",
       "    </tr>\n",
       "  </thead>\n",
       "  <tbody>\n",
       "    <tr>\n",
       "      <th>0</th>\n",
       "      <td>14.23</td>\n",
       "      <td>1.71</td>\n",
       "      <td>2.43</td>\n",
       "      <td>15.6</td>\n",
       "      <td>127.0</td>\n",
       "      <td>2.80</td>\n",
       "      <td>3.06</td>\n",
       "      <td>0.28</td>\n",
       "      <td>2.29</td>\n",
       "      <td>5.64</td>\n",
       "      <td>1.04</td>\n",
       "      <td>3.92</td>\n",
       "      <td>1065.0</td>\n",
       "      <td>0</td>\n",
       "    </tr>\n",
       "    <tr>\n",
       "      <th>1</th>\n",
       "      <td>13.20</td>\n",
       "      <td>1.78</td>\n",
       "      <td>2.14</td>\n",
       "      <td>11.2</td>\n",
       "      <td>100.0</td>\n",
       "      <td>2.65</td>\n",
       "      <td>2.76</td>\n",
       "      <td>0.26</td>\n",
       "      <td>1.28</td>\n",
       "      <td>4.38</td>\n",
       "      <td>1.05</td>\n",
       "      <td>3.40</td>\n",
       "      <td>1050.0</td>\n",
       "      <td>0</td>\n",
       "    </tr>\n",
       "    <tr>\n",
       "      <th>2</th>\n",
       "      <td>13.16</td>\n",
       "      <td>2.36</td>\n",
       "      <td>2.67</td>\n",
       "      <td>18.6</td>\n",
       "      <td>101.0</td>\n",
       "      <td>2.80</td>\n",
       "      <td>3.24</td>\n",
       "      <td>0.30</td>\n",
       "      <td>2.81</td>\n",
       "      <td>5.68</td>\n",
       "      <td>1.03</td>\n",
       "      <td>3.17</td>\n",
       "      <td>1185.0</td>\n",
       "      <td>0</td>\n",
       "    </tr>\n",
       "    <tr>\n",
       "      <th>3</th>\n",
       "      <td>14.37</td>\n",
       "      <td>1.95</td>\n",
       "      <td>2.50</td>\n",
       "      <td>16.8</td>\n",
       "      <td>113.0</td>\n",
       "      <td>3.85</td>\n",
       "      <td>3.49</td>\n",
       "      <td>0.24</td>\n",
       "      <td>2.18</td>\n",
       "      <td>7.80</td>\n",
       "      <td>0.86</td>\n",
       "      <td>3.45</td>\n",
       "      <td>1480.0</td>\n",
       "      <td>0</td>\n",
       "    </tr>\n",
       "    <tr>\n",
       "      <th>4</th>\n",
       "      <td>13.24</td>\n",
       "      <td>2.59</td>\n",
       "      <td>2.87</td>\n",
       "      <td>21.0</td>\n",
       "      <td>118.0</td>\n",
       "      <td>2.80</td>\n",
       "      <td>2.69</td>\n",
       "      <td>0.39</td>\n",
       "      <td>1.82</td>\n",
       "      <td>4.32</td>\n",
       "      <td>1.04</td>\n",
       "      <td>2.93</td>\n",
       "      <td>735.0</td>\n",
       "      <td>0</td>\n",
       "    </tr>\n",
       "  </tbody>\n",
       "</table>\n",
       "</div>"
      ],
      "text/plain": [
       "   alcohol  malic_acid   ash  alcalinity_of_ash  magnesium  total_phenols  \\\n",
       "0    14.23        1.71  2.43               15.6      127.0           2.80   \n",
       "1    13.20        1.78  2.14               11.2      100.0           2.65   \n",
       "2    13.16        2.36  2.67               18.6      101.0           2.80   \n",
       "3    14.37        1.95  2.50               16.8      113.0           3.85   \n",
       "4    13.24        2.59  2.87               21.0      118.0           2.80   \n",
       "\n",
       "   flavanoids  nonflavanoid_phenols  proanthocyanins  color_intensity   hue  \\\n",
       "0        3.06                  0.28             2.29             5.64  1.04   \n",
       "1        2.76                  0.26             1.28             4.38  1.05   \n",
       "2        3.24                  0.30             2.81             5.68  1.03   \n",
       "3        3.49                  0.24             2.18             7.80  0.86   \n",
       "4        2.69                  0.39             1.82             4.32  1.04   \n",
       "\n",
       "   od280/od315_of_diluted_wines  proline  target  \n",
       "0                          3.92   1065.0       0  \n",
       "1                          3.40   1050.0       0  \n",
       "2                          3.17   1185.0       0  \n",
       "3                          3.45   1480.0       0  \n",
       "4                          2.93    735.0       0  "
      ]
     },
     "execution_count": 5,
     "metadata": {},
     "output_type": "execute_result"
    }
   ],
   "source": [
    "# prepare data\n",
    "df = pd.concat([\n",
    "    pd.DataFrame(data.data, columns= data.feature_names),\n",
    "    pd.DataFrame(data.target, columns=['target'])\n",
    "], axis = 1)\n",
    "\n",
    "df.head()"
   ]
  },
  {
   "cell_type": "code",
   "execution_count": 6,
   "id": "c46081a1",
   "metadata": {},
   "outputs": [
    {
     "name": "stdout",
     "output_type": "stream",
     "text": [
      "<class 'pandas.core.frame.DataFrame'>\n",
      "RangeIndex: 178 entries, 0 to 177\n",
      "Data columns (total 14 columns):\n",
      " #   Column                        Non-Null Count  Dtype  \n",
      "---  ------                        --------------  -----  \n",
      " 0   alcohol                       178 non-null    float64\n",
      " 1   malic_acid                    178 non-null    float64\n",
      " 2   ash                           178 non-null    float64\n",
      " 3   alcalinity_of_ash             178 non-null    float64\n",
      " 4   magnesium                     178 non-null    float64\n",
      " 5   total_phenols                 178 non-null    float64\n",
      " 6   flavanoids                    178 non-null    float64\n",
      " 7   nonflavanoid_phenols          178 non-null    float64\n",
      " 8   proanthocyanins               178 non-null    float64\n",
      " 9   color_intensity               178 non-null    float64\n",
      " 10  hue                           178 non-null    float64\n",
      " 11  od280/od315_of_diluted_wines  178 non-null    float64\n",
      " 12  proline                       178 non-null    float64\n",
      " 13  target                        178 non-null    int32  \n",
      "dtypes: float64(13), int32(1)\n",
      "memory usage: 18.9 KB\n"
     ]
    }
   ],
   "source": [
    "# check info and balance\n",
    "df.info()"
   ]
  },
  {
   "cell_type": "code",
   "execution_count": 7,
   "id": "4b50d94f",
   "metadata": {},
   "outputs": [
    {
     "data": {
      "text/plain": [
       "1    0.398876\n",
       "0    0.331461\n",
       "2    0.269663\n",
       "Name: target, dtype: float64"
      ]
     },
     "execution_count": 7,
     "metadata": {},
     "output_type": "execute_result"
    }
   ],
   "source": [
    "df.target.value_counts()/len(df)"
   ]
  },
  {
   "cell_type": "code",
   "execution_count": 8,
   "id": "0a22cf92",
   "metadata": {},
   "outputs": [
    {
     "data": {
      "text/plain": [
       "((124, 13), (54, 13))"
      ]
     },
     "execution_count": 8,
     "metadata": {},
     "output_type": "execute_result"
    }
   ],
   "source": [
    "# split data into train and test\n",
    "\n",
    "X_train, X_test, y_train, y_test = train_test_split(df.drop('target', axis = 1),\n",
    "                                                   df['target'],\n",
    "                                                   test_size=0.3,\n",
    "                                                   random_state=0)\n",
    "X_train.shape, X_test.shape"
   ]
  },
  {
   "cell_type": "markdown",
   "id": "a87192d8",
   "metadata": {},
   "source": [
    "## Train Models"
   ]
  },
  {
   "cell_type": "code",
   "execution_count": 36,
   "id": "563c69c9",
   "metadata": {},
   "outputs": [
    {
     "data": {
      "text/plain": [
       "OneVsRestClassifier(estimator=RandomForestClassifier(max_depth=1,\n",
       "                                                     n_estimators=10, n_jobs=2,\n",
       "                                                     random_state=39))"
      ]
     },
     "execution_count": 36,
     "metadata": {},
     "output_type": "execute_result"
    }
   ],
   "source": [
    "# Random Forest\n",
    "rf = OneVsRestClassifier(\n",
    "        RandomForestClassifier(n_estimators=10, max_depth=1, n_jobs=2, random_state=39)\n",
    ")\n",
    "\n",
    "rf.fit(X_train, y_train)"
   ]
  },
  {
   "cell_type": "code",
   "execution_count": 37,
   "id": "4a4c33ea",
   "metadata": {},
   "outputs": [
    {
     "data": {
      "text/plain": [
       "array([[0.65585892, 0.30751478, 0.0366263 ],\n",
       "       [0.05518233, 0.25215179, 0.69266589],\n",
       "       [0.34795739, 0.5812701 , 0.07077251],\n",
       "       [0.63193034, 0.32889668, 0.03917297],\n",
       "       [0.30310868, 0.49998879, 0.19690253],\n",
       "       [0.37648223, 0.53413382, 0.08938395],\n",
       "       [0.59288054, 0.31292709, 0.09419236],\n",
       "       [0.05019807, 0.22826575, 0.72153618],\n",
       "       [0.18841092, 0.71865205, 0.09293703],\n",
       "       [0.13170475, 0.67533883, 0.19295642]])"
      ]
     },
     "execution_count": 37,
     "metadata": {},
     "output_type": "execute_result"
    }
   ],
   "source": [
    "# get the probability predictions\n",
    "\n",
    "rf_probs = rf.predict_proba(X_test)\n",
    "rf_probs[:10, :]"
   ]
  },
  {
   "cell_type": "code",
   "execution_count": 38,
   "id": "c7d47194",
   "metadata": {},
   "outputs": [
    {
     "data": {
      "text/plain": [
       "array([1., 1., 1., 1., 1., 1., 1., 1., 1., 1.])"
      ]
     },
     "execution_count": 38,
     "metadata": {},
     "output_type": "execute_result"
    }
   ],
   "source": [
    "# sum of these probabilities across the each vector is always 1\n",
    "rf_probs.sum(axis = 1)[:10]"
   ]
  },
  {
   "cell_type": "code",
   "execution_count": 50,
   "id": "27f5c3c8",
   "metadata": {},
   "outputs": [
    {
     "name": "stderr",
     "output_type": "stream",
     "text": [
      "C:\\Users\\budha\\AppData\\Local\\Programs\\Python\\Python39\\lib\\site-packages\\sklearn\\linear_model\\_logistic.py:814: ConvergenceWarning: lbfgs failed to converge (status=1):\n",
      "STOP: TOTAL NO. of ITERATIONS REACHED LIMIT.\n",
      "\n",
      "Increase the number of iterations (max_iter) or scale the data as shown in:\n",
      "    https://scikit-learn.org/stable/modules/preprocessing.html\n",
      "Please also refer to the documentation for alternative solver options:\n",
      "    https://scikit-learn.org/stable/modules/linear_model.html#logistic-regression\n",
      "  n_iter_i = _check_optimize_result(\n",
      "C:\\Users\\budha\\AppData\\Local\\Programs\\Python\\Python39\\lib\\site-packages\\sklearn\\linear_model\\_logistic.py:814: ConvergenceWarning: lbfgs failed to converge (status=1):\n",
      "STOP: TOTAL NO. of ITERATIONS REACHED LIMIT.\n",
      "\n",
      "Increase the number of iterations (max_iter) or scale the data as shown in:\n",
      "    https://scikit-learn.org/stable/modules/preprocessing.html\n",
      "Please also refer to the documentation for alternative solver options:\n",
      "    https://scikit-learn.org/stable/modules/linear_model.html#logistic-regression\n",
      "  n_iter_i = _check_optimize_result(\n",
      "C:\\Users\\budha\\AppData\\Local\\Programs\\Python\\Python39\\lib\\site-packages\\sklearn\\linear_model\\_logistic.py:814: ConvergenceWarning: lbfgs failed to converge (status=1):\n",
      "STOP: TOTAL NO. of ITERATIONS REACHED LIMIT.\n",
      "\n",
      "Increase the number of iterations (max_iter) or scale the data as shown in:\n",
      "    https://scikit-learn.org/stable/modules/preprocessing.html\n",
      "Please also refer to the documentation for alternative solver options:\n",
      "    https://scikit-learn.org/stable/modules/linear_model.html#logistic-regression\n",
      "  n_iter_i = _check_optimize_result(\n"
     ]
    },
    {
     "data": {
      "text/plain": [
       "LogisticRegression(max_iter=10, multi_class='ovr', random_state=0)"
      ]
     },
     "execution_count": 50,
     "metadata": {},
     "output_type": "execute_result"
    }
   ],
   "source": [
    "# Logistic Model\n",
    "log = LogisticRegression(max_iter=10, multi_class='ovr', random_state=0)\n",
    "\n",
    "log.fit(X_train, y_train)"
   ]
  },
  {
   "cell_type": "code",
   "execution_count": 51,
   "id": "d6fa049c",
   "metadata": {},
   "outputs": [
    {
     "data": {
      "text/plain": [
       "array([[8.03835946e-01, 6.55703628e-02, 1.30593691e-01],\n",
       "       [1.12186161e-04, 6.18682106e-01, 3.81205708e-01],\n",
       "       [1.89065726e-03, 5.97109910e-01, 4.00999433e-01],\n",
       "       [8.38327387e-01, 4.50373337e-02, 1.16635279e-01],\n",
       "       [5.29907169e-04, 6.02840121e-01, 3.96629972e-01],\n",
       "       [1.44386555e-05, 6.27677859e-01, 3.72307703e-01],\n",
       "       [8.98500309e-01, 1.82105291e-02, 8.32891616e-02],\n",
       "       [8.63968121e-03, 5.62918752e-01, 4.28441566e-01],\n",
       "       [3.51523966e-02, 5.31592415e-01, 4.33255189e-01],\n",
       "       [1.77044639e-02, 5.57176456e-01, 4.25119080e-01]])"
      ]
     },
     "execution_count": 51,
     "metadata": {},
     "output_type": "execute_result"
    }
   ],
   "source": [
    "log_probs = log.predict_proba(X_test)\n",
    "log_probs[:10,:]"
   ]
  },
  {
   "cell_type": "markdown",
   "id": "9f5d355f",
   "metadata": {},
   "source": [
    "## ROC curve SKLEARN for each class"
   ]
  },
  {
   "cell_type": "markdown",
   "id": "49c32aa1",
   "metadata": {},
   "source": [
    "- To do this, we will need to label binarize our target classes"
   ]
  },
  {
   "cell_type": "code",
   "execution_count": 19,
   "id": "1ab7db8b",
   "metadata": {},
   "outputs": [],
   "source": [
    "y_test = label_binarize(y_test, classes=[0,1,2])"
   ]
  },
  {
   "cell_type": "code",
   "execution_count": 20,
   "id": "fb19b18a",
   "metadata": {},
   "outputs": [
    {
     "data": {
      "text/plain": [
       "array([[1, 0, 0],\n",
       "       [0, 0, 1],\n",
       "       [0, 1, 0],\n",
       "       [1, 0, 0],\n",
       "       [0, 1, 0],\n",
       "       [0, 1, 0],\n",
       "       [1, 0, 0],\n",
       "       [0, 0, 1],\n",
       "       [0, 1, 0],\n",
       "       [0, 1, 0]])"
      ]
     },
     "execution_count": 20,
     "metadata": {},
     "output_type": "execute_result"
    }
   ],
   "source": [
    "y_test[:10,:]"
   ]
  },
  {
   "cell_type": "markdown",
   "id": "ed56fa3f",
   "metadata": {},
   "source": [
    "## Get the ROC parameter values"
   ]
  },
  {
   "cell_type": "code",
   "execution_count": 39,
   "id": "4e98cafd",
   "metadata": {},
   "outputs": [
    {
     "data": {
      "text/plain": [
       "array([0.        , 0.        , 0.        , 0.        , 0.        ,\n",
       "       0.        , 0.02857143, 0.02857143, 1.        ])"
      ]
     },
     "execution_count": 39,
     "metadata": {},
     "output_type": "execute_result"
    }
   ],
   "source": [
    "# lets get for class 0 first for Random Forest\n",
    "fpr, tpr, threshold = roc_curve(y_test[:,0], rf_probs[:,0])\n",
    "\n",
    "fpr"
   ]
  },
  {
   "cell_type": "code",
   "execution_count": 40,
   "id": "61532c61",
   "metadata": {},
   "outputs": [
    {
     "data": {
      "text/plain": [
       "array([0.        , 0.05263158, 0.15789474, 0.21052632, 0.31578947,\n",
       "       0.94736842, 0.94736842, 1.        , 1.        ])"
      ]
     },
     "execution_count": 40,
     "metadata": {},
     "output_type": "execute_result"
    }
   ],
   "source": [
    "tpr"
   ]
  },
  {
   "cell_type": "code",
   "execution_count": 41,
   "id": "37f48086",
   "metadata": {},
   "outputs": [
    {
     "data": {
      "text/plain": [
       "array([1.67049232, 0.67049232, 0.65585892, 0.65216469, 0.63193034,\n",
       "       0.44236274, 0.42327198, 0.41642178, 0.03969788])"
      ]
     },
     "execution_count": 41,
     "metadata": {},
     "output_type": "execute_result"
    }
   ],
   "source": [
    "threshold"
   ]
  },
  {
   "cell_type": "code",
   "execution_count": 42,
   "id": "04866bc4",
   "metadata": {},
   "outputs": [
    {
     "data": {
      "text/plain": [
       "array([0.        , 0.        , 0.        , 0.02857143, 0.02857143,\n",
       "       0.08571429, 0.08571429, 1.        ])"
      ]
     },
     "execution_count": 42,
     "metadata": {},
     "output_type": "execute_result"
    }
   ],
   "source": [
    "# lets get for class 0 first for Logistic Regression\n",
    "fpr, tpr, threshold = roc_curve(y_test[:,0], log_probs[:,0])\n",
    "\n",
    "fpr"
   ]
  },
  {
   "cell_type": "code",
   "execution_count": 43,
   "id": "5b18f638",
   "metadata": {},
   "outputs": [
    {
     "data": {
      "text/plain": [
       "array([0.        , 0.05263158, 0.89473684, 0.89473684, 0.94736842,\n",
       "       0.94736842, 1.        , 1.        ])"
      ]
     },
     "execution_count": 43,
     "metadata": {},
     "output_type": "execute_result"
    }
   ],
   "source": [
    "tpr"
   ]
  },
  {
   "cell_type": "code",
   "execution_count": 44,
   "id": "8b6d680f",
   "metadata": {},
   "outputs": [
    {
     "data": {
      "text/plain": [
       "array([1.99827338e+00, 9.98273381e-01, 9.44300828e-01, 5.40805116e-01,\n",
       "       5.08933299e-01, 3.22452786e-01, 1.87074060e-01, 5.62508033e-05])"
      ]
     },
     "execution_count": 44,
     "metadata": {},
     "output_type": "execute_result"
    }
   ],
   "source": [
    "threshold"
   ]
  },
  {
   "cell_type": "code",
   "execution_count": 45,
   "id": "15c66a98",
   "metadata": {},
   "outputs": [],
   "source": [
    "# lets get these roc parameter values for all classes into a dictionary\n",
    "\n",
    "rf_fpr = dict()\n",
    "rf_tpr = dict()\n",
    "\n",
    "for i in range(3):\n",
    "    \n",
    "    rf_fpr[i], rf_tpr[i], _ = roc_curve(y_test[:,i], rf_probs[:,i])"
   ]
  },
  {
   "cell_type": "code",
   "execution_count": 46,
   "id": "4c4a673a",
   "metadata": {},
   "outputs": [
    {
     "data": {
      "text/plain": [
       "{0: array([0.        , 0.        , 0.        , 0.        , 0.        ,\n",
       "        0.        , 0.02857143, 0.02857143, 1.        ]),\n",
       " 1: array([0.     , 0.     , 0.     , 0.03125, 0.03125, 0.0625 , 0.0625 ,\n",
       "        0.375  , 0.4375 , 0.5625 , 0.625  , 0.625  , 1.     ]),\n",
       " 2: array([0.        , 0.        , 0.        , 0.02439024, 0.02439024,\n",
       "        0.75609756, 0.80487805, 0.87804878, 0.92682927, 1.        ])}"
      ]
     },
     "execution_count": 46,
     "metadata": {},
     "output_type": "execute_result"
    }
   ],
   "source": [
    "rf_fpr"
   ]
  },
  {
   "cell_type": "code",
   "execution_count": 58,
   "id": "97b1ff0f",
   "metadata": {},
   "outputs": [
    {
     "data": {
      "image/png": "[encoded data removed]",
      "text/plain": [
       "<Figure size 576x396 with 1 Axes>"
      ]
     },
     "metadata": {},
     "output_type": "display_data"
    }
   ],
   "source": [
    "# plot these roc values\n",
    "\n",
    "for i in range(3):\n",
    "    plt.plot(rf_fpr[i], rf_tpr[i], label='Class {}'.format(i))\n",
    "    \n",
    "plt.title('ROC : Random Forest')\n",
    "plt.legend(loc='best')\n",
    "plt.ylabel('TPR')\n",
    "plt.xlabel('FPR')\n",
    "plt.show()"
   ]
  },
  {
   "cell_type": "code",
   "execution_count": 52,
   "id": "5d64dcba",
   "metadata": {},
   "outputs": [],
   "source": [
    "# lets get these roc parameter values for all classes into a dictionary for Logistic model\n",
    "\n",
    "log_fpr = dict()\n",
    "log_tpr = dict()\n",
    "\n",
    "for i in range(3):\n",
    "    \n",
    "    log_fpr[i], log_tpr[i], _ = roc_curve(y_test[:,i], log_probs[:,i])"
   ]
  },
  {
   "cell_type": "code",
   "execution_count": 57,
   "id": "90456055",
   "metadata": {},
   "outputs": [
    {
     "data": {
      "image/png": "[encoded data removed]",
      "text/plain": [
       "<Figure size 576x396 with 1 Axes>"
      ]
     },
     "metadata": {},
     "output_type": "display_data"
    }
   ],
   "source": [
    "# plot these roc values for Logistic model\n",
    "\n",
    "for i in range(3):\n",
    "    plt.plot(log_fpr[i], log_tpr[i], label='Class {}'.format(i))\n",
    "    \n",
    "plt.title('ROC : Logistic Model')\n",
    "plt.legend(loc='best')\n",
    "plt.ylabel('TPR')\n",
    "plt.xlabel('FPR')\n",
    "plt.show()"
   ]
  },
  {
   "cell_type": "code",
   "execution_count": 56,
   "id": "2e6c4b28",
   "metadata": {},
   "outputs": [
    {
     "data": {
      "image/png": "[encoded data removed]",
      "text/plain": [
       "<Figure size 576x396 with 1 Axes>"
      ]
     },
     "metadata": {},
     "output_type": "display_data"
    },
    {
     "data": {
      "image/png": "[encoded data removed]",
      "text/plain": [
       "<Figure size 576x396 with 1 Axes>"
      ]
     },
     "metadata": {},
     "output_type": "display_data"
    },
    {
     "data": {
      "image/png": "[encoded data removed]",
      "text/plain": [
       "<Figure size 576x396 with 1 Axes>"
      ]
     },
     "metadata": {},
     "output_type": "display_data"
    }
   ],
   "source": [
    "# lets plot and compare for each class between the two models\n",
    "\n",
    "for i in range(3):\n",
    "    fpr_rf, tpr_rf, _ = roc_curve(y_test[:,i], rf_probs[:,i])\n",
    "    fpr_log, tpr_log, _ = roc_curve(y_test[:,i], log_probs[:,i])\n",
    "    \n",
    "    plt.plot(fpr_rf, tpr_rf, label = 'RF ROC')\n",
    "    plt.plot(fpr_log, tpr_log, label = 'Log ROC')\n",
    "    plt.title('ROC - RF Vs Log for Class {}'.format(i))\n",
    "    plt.legend(loc = 'lower right')\n",
    "    plt.xlabel('FPR')\n",
    "    plt.ylabel('TPR')\n",
    "    plt.show()\n",
    "    "
   ]
  },
  {
   "cell_type": "markdown",
   "id": "969c4e33",
   "metadata": {},
   "source": [
    "- We can see the RF does a better performance than the Log for all classes"
   ]
  },
  {
   "cell_type": "markdown",
   "id": "9dcbd078",
   "metadata": {},
   "source": [
    "## Micro Average"
   ]
  },
  {
   "cell_type": "markdown",
   "id": "2358b6c2",
   "metadata": {},
   "source": [
    "- To find the micro average, we will need to stack up probabilities of all the classes, which can be done using ravel function\n",
    "- Micro average is to find the metrics for the overall model in terms of all classes and not specific to a single class"
   ]
  },
  {
   "cell_type": "code",
   "execution_count": 60,
   "id": "a1bc51c1",
   "metadata": {},
   "outputs": [
    {
     "data": {
      "text/plain": [
       "array([0.65585892, 0.30751478, 0.0366263 , 0.05518233, 0.25215179,\n",
       "       0.69266589, 0.34795739, 0.5812701 , 0.07077251, 0.63193034,\n",
       "       0.32889668, 0.03917297, 0.30310868, 0.49998879, 0.19690253,\n",
       "       0.37648223, 0.53413382, 0.08938395, 0.59288054, 0.31292709,\n",
       "       0.09419236, 0.05019807, 0.22826575, 0.72153618, 0.18841092,\n",
       "       0.71865205, 0.09293703, 0.13170475, 0.67533883, 0.19295642,\n",
       "       0.14215091, 0.29068131, 0.56716779, 0.03969788, 0.32611392,\n",
       "       0.6341882 , 0.67049232, 0.29443878, 0.03506889, 0.42327198,\n",
       "       0.50031035, 0.07641767, 0.0591323 , 0.26832053, 0.67254717,\n",
       "       0.15374694, 0.77041466, 0.07583841, 0.58034038, 0.38076094,\n",
       "       0.03889868, 0.62403154, 0.34111956, 0.0348489 , 0.1354814 ,\n",
       "       0.42117747, 0.44334113, 0.65216469, 0.31081584, 0.03701947,\n",
       "       0.40973074, 0.52592483, 0.06434443, 0.55023138, 0.40190058,\n",
       "       0.04786804, 0.44236274, 0.45261204, 0.10502522, 0.13095529,\n",
       "       0.7700388 , 0.09900591, 0.14384689, 0.30677854, 0.54937457,\n",
       "       0.11290956, 0.734811  , 0.15227945, 0.29692267, 0.48169245,\n",
       "       0.22138488, 0.07664904, 0.80683544, 0.11651551, 0.08368516,\n",
       "       0.68938168, 0.22693316, 0.05335845, 0.17967875, 0.7669628 ,\n",
       "       0.65585892, 0.30751478, 0.0366263 , 0.60886483, 0.34950738,\n",
       "       0.04162779, 0.13194245, 0.55479235, 0.3132652 , 0.58488937,\n",
       "       0.25709906, 0.15801157, 0.60962758, 0.35848695, 0.03188547,\n",
       "       0.54042436, 0.31834415, 0.14123148, 0.05415905, 0.35479745,\n",
       "       0.5910435 , 0.05261858, 0.61596739, 0.33141403, 0.25712406,\n",
       "       0.65099676, 0.09187918, 0.05698154, 0.19187912, 0.75113934,\n",
       "       0.41642178, 0.4926667 , 0.09091152, 0.5992422 , 0.36361114,\n",
       "       0.03714665, 0.2161622 , 0.70225678, 0.08158101, 0.16197861,\n",
       "       0.67853808, 0.15948331, 0.06427925, 0.83800877, 0.09771198,\n",
       "       0.56460202, 0.35339526, 0.08200272, 0.09184881, 0.19966669,\n",
       "       0.7084845 , 0.31190045, 0.59164533, 0.09645422, 0.16472028,\n",
       "       0.29112865, 0.54415106, 0.63193034, 0.32889668, 0.03917297,\n",
       "       0.04915754, 0.16553266, 0.7853098 , 0.04334764, 0.34255433,\n",
       "       0.61409803, 0.5857439 , 0.33623524, 0.07802086, 0.17079335,\n",
       "       0.30603962, 0.52316703])"
      ]
     },
     "execution_count": 60,
     "metadata": {},
     "output_type": "execute_result"
    }
   ],
   "source": [
    "rf_probs.ravel()"
   ]
  },
  {
   "cell_type": "code",
   "execution_count": 65,
   "id": "618cfaf4",
   "metadata": {},
   "outputs": [
    {
     "data": {
      "image/png": "[encoded data removed]",
      "text/plain": [
       "<Figure size 576x396 with 1 Axes>"
      ]
     },
     "metadata": {},
     "output_type": "display_data"
    }
   ],
   "source": [
    " # lets plot and compare between the two models\n",
    "    \n",
    "fpr_rf_micro, tpr_rf_micro, _ = roc_curve(y_test.ravel(), rf_probs.ravel())\n",
    "fpr_log_micro, tpr_log_micro, _ = roc_curve(y_test.ravel(), log_probs.ravel())\n",
    "\n",
    "# plot with these values\n",
    "plt.plot(fpr_rf_micro, tpr_rf_micro, label = 'ROC-micro-RF')\n",
    "plt.plot(fpr_log_micro, tpr_log_micro, label = 'ROC-micro-Logistic')\n",
    "plt.xlabel('True Positive Rate')\n",
    "plt.ylabel('False Positive Rate')\n",
    "plt.legend(loc = 'lower right')\n",
    "plt.title('POC - Micro')\n",
    "plt.show()"
   ]
  },
  {
   "cell_type": "markdown",
   "id": "04bd4721",
   "metadata": {},
   "source": [
    "## ROC AUC score - with sklearn"
   ]
  },
  {
   "cell_type": "code",
   "execution_count": 69,
   "id": "37376c10",
   "metadata": {},
   "outputs": [
    {
     "name": "stdout",
     "output_type": "stream",
     "text": [
      "Macro and Weighted roc_auc for RF for 'ovo': 0.987358 and 0.985257\n",
      "Macro and Weighted roc_auc for RF for 'ovr': 0.987358 and 0.985257\n"
     ]
    }
   ],
   "source": [
    "macro_roc_auc_ovo_rf = roc_auc_score(y_test, rf_probs, average='macro', multi_class='ovo', labels=[0,1,2])\n",
    "\n",
    "micro_roc_auc_ovo_rf = roc_auc_score(y_test, rf_probs, average='weighted', multi_class='ovo', labels=[0,1,2])\n",
    "\n",
    "macro_roc_auc_ovr_rf = roc_auc_score(y_test, rf_probs, average='macro', multi_class='ovr', labels=[0,1,2])\n",
    "\n",
    "micro_roc_auc_ovr_rf = roc_auc_score(y_test, rf_probs, average='weighted', multi_class='ovr', labels=[0,1,2])\n",
    "\n",
    "print(\"Macro and Weighted roc_auc for RF for 'ovo': {:.6f} and {:.6f}\".format(macro_roc_auc_ovo_rf, micro_roc_auc_ovo_rf))\n",
    "print(\"Macro and Weighted roc_auc for RF for 'ovr': {:.6f} and {:.6f}\".format(macro_roc_auc_ovr_rf, micro_roc_auc_ovr_rf))"
   ]
  },
  {
   "cell_type": "code",
   "execution_count": 71,
   "id": "ffe80109",
   "metadata": {},
   "outputs": [
    {
     "name": "stdout",
     "output_type": "stream",
     "text": [
      "Macro and Weighted roc_auc for Logistic for 'ovo': 0.860891 and 0.868506\n",
      "Macro and Weighted roc_auc for Logistic for 'ovr': 0.860891 and 0.868506\n"
     ]
    }
   ],
   "source": [
    "macro_roc_auc_ovo_log = roc_auc_score(y_test, log_probs, average='macro', multi_class='ovo', labels=[0,1,2])\n",
    "\n",
    "micro_roc_auc_ovo_log = roc_auc_score(y_test, log_probs, average='weighted', multi_class='ovo', labels=[0,1,2])\n",
    "\n",
    "macro_roc_auc_ovr_log = roc_auc_score(y_test, log_probs, average='macro', multi_class='ovr', labels=[0,1,2])\n",
    "\n",
    "micro_roc_auc_ovr_log = roc_auc_score(y_test, log_probs, average='weighted', multi_class='ovr', labels=[0,1,2])\n",
    "\n",
    "print(\"Macro and Weighted roc_auc for Logistic for 'ovo': {:.6f} and {:.6f}\".format(macro_roc_auc_ovo_log, micro_roc_auc_ovo_log))\n",
    "print(\"Macro and Weighted roc_auc for Logistic for 'ovr': {:.6f} and {:.6f}\".format(macro_roc_auc_ovr_log, micro_roc_auc_ovr_log))"
   ]
  },
  {
   "cell_type": "markdown",
   "id": "68393ea2",
   "metadata": {},
   "source": [
    "# ROC and ROC-AUC with YellowBrick"
   ]
  },
  {
   "cell_type": "code",
   "execution_count": 74,
   "id": "cc4b9718",
   "metadata": {},
   "outputs": [
    {
     "data": {
      "text/plain": [
       "array([[1, 0, 0],\n",
       "       [0, 0, 1],\n",
       "       [0, 1, 0],\n",
       "       [1, 0, 0],\n",
       "       [0, 1, 0],\n",
       "       [0, 1, 0],\n",
       "       [1, 0, 0],\n",
       "       [0, 0, 1],\n",
       "       [0, 1, 0],\n",
       "       [0, 1, 0]])"
      ]
     },
     "execution_count": 74,
     "metadata": {},
     "output_type": "execute_result"
    }
   ],
   "source": [
    "# we will need to re-format our y_test vector that we have binary labelized\n",
    "y_test[:10,:]"
   ]
  },
  {
   "cell_type": "code",
   "execution_count": 76,
   "id": "d792f8c2",
   "metadata": {},
   "outputs": [
    {
     "data": {
      "text/plain": [
       "array([0, 2, 1, 0, 1, 1, 0, 2, 1, 1, 2, 2, 0, 1, 2, 1, 0, 0, 1, 0, 1, 0,\n",
       "       0, 1, 1, 1, 1, 1, 1, 2, 0, 0, 1, 0, 0, 0, 2, 1, 1, 2, 0, 0, 1, 1,\n",
       "       1, 0, 2, 1, 2, 0, 2, 2, 0, 2], dtype=int64)"
      ]
     },
     "execution_count": 76,
     "metadata": {},
     "output_type": "execute_result"
    }
   ],
   "source": [
    "y_test = np.argmax(y_test, axis=1)\n",
    "y_test"
   ]
  },
  {
   "cell_type": "code",
   "execution_count": 77,
   "id": "30096d8f",
   "metadata": {},
   "outputs": [
    {
     "name": "stderr",
     "output_type": "stream",
     "text": [
      "C:\\Users\\budha\\AppData\\Local\\Programs\\Python\\Python39\\lib\\site-packages\\sklearn\\base.py:450: UserWarning: X does not have valid feature names, but RandomForestClassifier was fitted with feature names\n",
      "  warnings.warn(\n"
     ]
    },
    {
     "data": {
      "image/png": "[encoded data removed]",
      "text/plain": [
       "<Figure size 576x396 with 1 Axes>"
      ]
     },
     "metadata": {},
     "output_type": "display_data"
    },
    {
     "data": {
      "text/plain": [
       "<AxesSubplot:title={'center':'ROC Curves for OneVsRestClassifier'}, xlabel='False Positive Rate', ylabel='True Positive Rate'>"
      ]
     },
     "execution_count": 77,
     "metadata": {},
     "output_type": "execute_result"
    }
   ],
   "source": [
    "# for Random Forest Micro\n",
    "viz_rf = ROCAUC(rf, micro=True, per_class=False)\n",
    "\n",
    "viz_rf.fit(X_train, y_train)\n",
    "viz_rf.score(X_test, y_test)\n",
    "viz_rf.show()"
   ]
  },
  {
   "cell_type": "code",
   "execution_count": 78,
   "id": "80a1c947",
   "metadata": {},
   "outputs": [
    {
     "name": "stderr",
     "output_type": "stream",
     "text": [
      "C:\\Users\\budha\\AppData\\Local\\Programs\\Python\\Python39\\lib\\site-packages\\sklearn\\base.py:450: UserWarning: X does not have valid feature names, but LogisticRegression was fitted with feature names\n",
      "  warnings.warn(\n"
     ]
    },
    {
     "data": {
      "image/png": "[encoded data removed]",
      "text/plain": [
       "<Figure size 576x396 with 1 Axes>"
      ]
     },
     "metadata": {},
     "output_type": "display_data"
    },
    {
     "data": {
      "text/plain": [
       "<AxesSubplot:title={'center':'ROC Curves for LogisticRegression'}, xlabel='False Positive Rate', ylabel='True Positive Rate'>"
      ]
     },
     "execution_count": 78,
     "metadata": {},
     "output_type": "execute_result"
    }
   ],
   "source": [
    "# for Logistic Model Micro\n",
    "viz_log = ROCAUC(log, micro=True, per_class=False)\n",
    "\n",
    "viz_log.fit(X_train, y_train)\n",
    "viz_log.score(X_test, y_test)\n",
    "viz_log.show()"
   ]
  },
  {
   "cell_type": "markdown",
   "id": "d83d7553",
   "metadata": {},
   "source": [
    "## Per Class"
   ]
  },
  {
   "cell_type": "code",
   "execution_count": 81,
   "id": "607b1704",
   "metadata": {},
   "outputs": [
    {
     "name": "stderr",
     "output_type": "stream",
     "text": [
      "C:\\Users\\budha\\AppData\\Local\\Programs\\Python\\Python39\\lib\\site-packages\\sklearn\\base.py:450: UserWarning: X does not have valid feature names, but RandomForestClassifier was fitted with feature names\n",
      "  warnings.warn(\n"
     ]
    },
    {
     "data": {
      "image/png": "[encoded data removed]",
      "text/plain": [
       "<Figure size 576x396 with 1 Axes>"
      ]
     },
     "metadata": {},
     "output_type": "display_data"
    },
    {
     "data": {
      "text/plain": [
       "<AxesSubplot:title={'center':'ROC Curves for OneVsRestClassifier'}, xlabel='False Positive Rate', ylabel='True Positive Rate'>"
      ]
     },
     "execution_count": 81,
     "metadata": {},
     "output_type": "execute_result"
    }
   ],
   "source": [
    "# for random forest per class\n",
    "viz_rf_ = ROCAUC(rf, per_class=True, macro=False, micro=False)\n",
    "\n",
    "viz_rf_.fit(X_train, y_train)\n",
    "viz_rf_.score(X_test, y_test)\n",
    "viz_rf_.show()"
   ]
  },
  {
   "cell_type": "code",
   "execution_count": 82,
   "id": "822d46ea",
   "metadata": {},
   "outputs": [
    {
     "name": "stderr",
     "output_type": "stream",
     "text": [
      "C:\\Users\\budha\\AppData\\Local\\Programs\\Python\\Python39\\lib\\site-packages\\sklearn\\base.py:450: UserWarning: X does not have valid feature names, but LogisticRegression was fitted with feature names\n",
      "  warnings.warn(\n"
     ]
    },
    {
     "data": {
      "image/png": "[encoded data removed]",
      "text/plain": [
       "<Figure size 576x396 with 1 Axes>"
      ]
     },
     "metadata": {},
     "output_type": "display_data"
    },
    {
     "data": {
      "text/plain": [
       "<AxesSubplot:title={'center':'ROC Curves for LogisticRegression'}, xlabel='False Positive Rate', ylabel='True Positive Rate'>"
      ]
     },
     "execution_count": 82,
     "metadata": {},
     "output_type": "execute_result"
    }
   ],
   "source": [
    "# for logistic model per class\n",
    "viz_log_ = ROCAUC(log, per_class=True, macro=False, micro=False)\n",
    "\n",
    "viz_log_.fit(X_train, y_train)\n",
    "viz_log_.score(X_test, y_test)\n",
    "viz_log_.show()"
   ]
  },
  {
   "cell_type": "code",
   "execution_count": null,
   "id": "b7430a94",
   "metadata": {},
   "outputs": [],
   "source": []
  }
 ],
 "metadata": {
  "kernelspec": {
   "display_name": "Python 3 (ipykernel)",
   "language": "python",
   "name": "python3"
  },
  "language_info": {
   "codemirror_mode": {
    "name": "ipython",
    "version": 3
   },
   "file_extension": ".py",
   "mimetype": "text/x-python",
   "name": "python",
   "nbconvert_exporter": "python",
   "pygments_lexer": "ipython3",
   "version": "3.9.5"
  }
 },
 "nbformat": 4,
 "nbformat_minor": 5
}
