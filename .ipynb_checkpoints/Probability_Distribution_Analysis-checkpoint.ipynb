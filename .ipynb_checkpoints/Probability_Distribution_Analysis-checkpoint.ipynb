{
 "cells": [
  {
   "cell_type": "markdown",
   "id": "4daba437",
   "metadata": {},
   "source": [
    "- We will try to find the optimial threshold based on the probability of the minority target class and comparing the Threshold graph for both balanced and imbalanced datasets for a binary classification use case.\n",
    "- This is reference from SoleGali's Analysis on Probability Distribution in Udemy\n",
    "- https://github.com/solegalli/machine-learning-imbalanced-data/blob/master/Section-03-Metrics/03-09-Probability.ipynb"
   ]
  },
  {
   "cell_type": "code",
   "execution_count": 1,
   "id": "013333dd",
   "metadata": {},
   "outputs": [],
   "source": [
    "# import libraries\n",
    "\n",
    "import numpy as np\n",
    "import pandas as pd\n",
    "import matplotlib.pyplot as plt\n",
    "import seaborn as sns\n",
    "\n",
    "# from sklearn\n",
    "from sklearn.datasets import load_breast_cancer\n",
    "from sklearn.linear_model import LogisticRegression\n",
    "from sklearn.model_selection import train_test_split\n",
    "\n",
    "# metrics\n",
    "from sklearn.metrics import roc_auc_score\n",
    "\n",
    "# for visulization \n",
    "from yellowbrick.classifier import DiscriminationThreshold\n",
    "\n",
    "# for warnings\n",
    "import warnings\n",
    "warnings.filterwarnings(\"ignore\")"
   ]
  },
  {
   "cell_type": "markdown",
   "id": "24226f84",
   "metadata": {},
   "source": [
    "## Create balanced Dataset"
   ]
  },
  {
   "cell_type": "code",
   "execution_count": 23,
   "id": "8f782f91",
   "metadata": {},
   "outputs": [],
   "source": [
    "# load datasets\n",
    "X,y = load_breast_cancer(return_X_y=True)\n",
    "X = pd.DataFrame(X)\n",
    "X['target'] = y"
   ]
  },
  {
   "cell_type": "code",
   "execution_count": 25,
   "id": "8eda0841",
   "metadata": {},
   "outputs": [
    {
     "data": {
      "text/plain": [
       "((569, 31), (569,), pandas.core.frame.DataFrame)"
      ]
     },
     "execution_count": 25,
     "metadata": {},
     "output_type": "execute_result"
    }
   ],
   "source": [
    "X.shape, y.shape, type(X)"
   ]
  },
  {
   "cell_type": "code",
   "execution_count": 26,
   "id": "c7e31e9f",
   "metadata": {},
   "outputs": [],
   "source": [
    "X_bal = pd.concat([\n",
    "    X[y==1].sample(100, random_state=10),\n",
    "    X[y==0].sample(100, random_state=10)\n",
    "], axis = 0)\n",
    "\n",
    "y = X_bal['target']"
   ]
  },
  {
   "cell_type": "code",
   "execution_count": 27,
   "id": "641cccd6",
   "metadata": {},
   "outputs": [],
   "source": [
    "y = y.map({0:1, 1:0})\n",
    "X_bal.drop('target', axis = 1, inplace = True)\n",
    "X = X_bal.reset_index(drop = True)\n",
    "y = y.reset_index(drop= True)"
   ]
  },
  {
   "cell_type": "code",
   "execution_count": 29,
   "id": "856a2ed7",
   "metadata": {},
   "outputs": [
    {
     "data": {
      "text/html": [
       "<div>\n",
       "<style scoped>\n",
       "    .dataframe tbody tr th:only-of-type {\n",
       "        vertical-align: middle;\n",
       "    }\n",
       "\n",
       "    .dataframe tbody tr th {\n",
       "        vertical-align: top;\n",
       "    }\n",
       "\n",
       "    .dataframe thead th {\n",
       "        text-align: right;\n",
       "    }\n",
       "</style>\n",
       "<table border=\"1\" class=\"dataframe\">\n",
       "  <thead>\n",
       "    <tr style=\"text-align: right;\">\n",
       "      <th></th>\n",
       "      <th>0</th>\n",
       "      <th>1</th>\n",
       "      <th>2</th>\n",
       "      <th>3</th>\n",
       "      <th>4</th>\n",
       "      <th>5</th>\n",
       "      <th>6</th>\n",
       "      <th>7</th>\n",
       "      <th>8</th>\n",
       "      <th>9</th>\n",
       "      <th>...</th>\n",
       "      <th>20</th>\n",
       "      <th>21</th>\n",
       "      <th>22</th>\n",
       "      <th>23</th>\n",
       "      <th>24</th>\n",
       "      <th>25</th>\n",
       "      <th>26</th>\n",
       "      <th>27</th>\n",
       "      <th>28</th>\n",
       "      <th>29</th>\n",
       "    </tr>\n",
       "  </thead>\n",
       "  <tbody>\n",
       "    <tr>\n",
       "      <th>0</th>\n",
       "      <td>10.570</td>\n",
       "      <td>20.22</td>\n",
       "      <td>70.15</td>\n",
       "      <td>338.3</td>\n",
       "      <td>0.09073</td>\n",
       "      <td>0.16600</td>\n",
       "      <td>0.22800</td>\n",
       "      <td>0.05941</td>\n",
       "      <td>0.2188</td>\n",
       "      <td>0.08450</td>\n",
       "      <td>...</td>\n",
       "      <td>10.85</td>\n",
       "      <td>22.82</td>\n",
       "      <td>76.51</td>\n",
       "      <td>351.9</td>\n",
       "      <td>0.1143</td>\n",
       "      <td>0.36190</td>\n",
       "      <td>0.60300</td>\n",
       "      <td>0.14650</td>\n",
       "      <td>0.2597</td>\n",
       "      <td>0.12000</td>\n",
       "    </tr>\n",
       "    <tr>\n",
       "      <th>1</th>\n",
       "      <td>12.470</td>\n",
       "      <td>18.60</td>\n",
       "      <td>81.09</td>\n",
       "      <td>481.9</td>\n",
       "      <td>0.09965</td>\n",
       "      <td>0.10580</td>\n",
       "      <td>0.08005</td>\n",
       "      <td>0.03821</td>\n",
       "      <td>0.1925</td>\n",
       "      <td>0.06373</td>\n",
       "      <td>...</td>\n",
       "      <td>14.97</td>\n",
       "      <td>24.64</td>\n",
       "      <td>96.05</td>\n",
       "      <td>677.9</td>\n",
       "      <td>0.1426</td>\n",
       "      <td>0.23780</td>\n",
       "      <td>0.26710</td>\n",
       "      <td>0.10150</td>\n",
       "      <td>0.3014</td>\n",
       "      <td>0.08750</td>\n",
       "    </tr>\n",
       "    <tr>\n",
       "      <th>2</th>\n",
       "      <td>9.567</td>\n",
       "      <td>15.91</td>\n",
       "      <td>60.21</td>\n",
       "      <td>279.6</td>\n",
       "      <td>0.08464</td>\n",
       "      <td>0.04087</td>\n",
       "      <td>0.01652</td>\n",
       "      <td>0.01667</td>\n",
       "      <td>0.1551</td>\n",
       "      <td>0.06403</td>\n",
       "      <td>...</td>\n",
       "      <td>10.51</td>\n",
       "      <td>19.16</td>\n",
       "      <td>65.74</td>\n",
       "      <td>335.9</td>\n",
       "      <td>0.1504</td>\n",
       "      <td>0.09515</td>\n",
       "      <td>0.07161</td>\n",
       "      <td>0.07222</td>\n",
       "      <td>0.2757</td>\n",
       "      <td>0.08178</td>\n",
       "    </tr>\n",
       "    <tr>\n",
       "      <th>3</th>\n",
       "      <td>13.490</td>\n",
       "      <td>22.30</td>\n",
       "      <td>86.91</td>\n",
       "      <td>561.0</td>\n",
       "      <td>0.08752</td>\n",
       "      <td>0.07698</td>\n",
       "      <td>0.04751</td>\n",
       "      <td>0.03384</td>\n",
       "      <td>0.1809</td>\n",
       "      <td>0.05718</td>\n",
       "      <td>...</td>\n",
       "      <td>15.15</td>\n",
       "      <td>31.82</td>\n",
       "      <td>99.00</td>\n",
       "      <td>698.8</td>\n",
       "      <td>0.1162</td>\n",
       "      <td>0.17110</td>\n",
       "      <td>0.22820</td>\n",
       "      <td>0.12820</td>\n",
       "      <td>0.2871</td>\n",
       "      <td>0.06917</td>\n",
       "    </tr>\n",
       "    <tr>\n",
       "      <th>4</th>\n",
       "      <td>11.500</td>\n",
       "      <td>18.45</td>\n",
       "      <td>73.28</td>\n",
       "      <td>407.4</td>\n",
       "      <td>0.09345</td>\n",
       "      <td>0.05991</td>\n",
       "      <td>0.02638</td>\n",
       "      <td>0.02069</td>\n",
       "      <td>0.1834</td>\n",
       "      <td>0.05934</td>\n",
       "      <td>...</td>\n",
       "      <td>12.97</td>\n",
       "      <td>22.46</td>\n",
       "      <td>83.12</td>\n",
       "      <td>508.9</td>\n",
       "      <td>0.1183</td>\n",
       "      <td>0.10490</td>\n",
       "      <td>0.08105</td>\n",
       "      <td>0.06544</td>\n",
       "      <td>0.2740</td>\n",
       "      <td>0.06487</td>\n",
       "    </tr>\n",
       "  </tbody>\n",
       "</table>\n",
       "<p>5 rows × 30 columns</p>\n",
       "</div>"
      ],
      "text/plain": [
       "       0      1      2      3        4        5        6        7       8   \\\n",
       "0  10.570  20.22  70.15  338.3  0.09073  0.16600  0.22800  0.05941  0.2188   \n",
       "1  12.470  18.60  81.09  481.9  0.09965  0.10580  0.08005  0.03821  0.1925   \n",
       "2   9.567  15.91  60.21  279.6  0.08464  0.04087  0.01652  0.01667  0.1551   \n",
       "3  13.490  22.30  86.91  561.0  0.08752  0.07698  0.04751  0.03384  0.1809   \n",
       "4  11.500  18.45  73.28  407.4  0.09345  0.05991  0.02638  0.02069  0.1834   \n",
       "\n",
       "        9   ...     20     21     22     23      24       25       26  \\\n",
       "0  0.08450  ...  10.85  22.82  76.51  351.9  0.1143  0.36190  0.60300   \n",
       "1  0.06373  ...  14.97  24.64  96.05  677.9  0.1426  0.23780  0.26710   \n",
       "2  0.06403  ...  10.51  19.16  65.74  335.9  0.1504  0.09515  0.07161   \n",
       "3  0.05718  ...  15.15  31.82  99.00  698.8  0.1162  0.17110  0.22820   \n",
       "4  0.05934  ...  12.97  22.46  83.12  508.9  0.1183  0.10490  0.08105   \n",
       "\n",
       "        27      28       29  \n",
       "0  0.14650  0.2597  0.12000  \n",
       "1  0.10150  0.3014  0.08750  \n",
       "2  0.07222  0.2757  0.08178  \n",
       "3  0.12820  0.2871  0.06917  \n",
       "4  0.06544  0.2740  0.06487  \n",
       "\n",
       "[5 rows x 30 columns]"
      ]
     },
     "execution_count": 29,
     "metadata": {},
     "output_type": "execute_result"
    }
   ],
   "source": [
    "X.head()"
   ]
  },
  {
   "cell_type": "code",
   "execution_count": 30,
   "id": "be02efb0",
   "metadata": {},
   "outputs": [
    {
     "data": {
      "text/plain": [
       "0    0.5\n",
       "1    0.5\n",
       "Name: target, dtype: float64"
      ]
     },
     "execution_count": 30,
     "metadata": {},
     "output_type": "execute_result"
    }
   ],
   "source": [
    "# balance ratio\n",
    "y.value_counts()/len(y)"
   ]
  },
  {
   "cell_type": "code",
   "execution_count": 32,
   "id": "ab2856e9",
   "metadata": {},
   "outputs": [
    {
     "data": {
      "text/plain": [
       "0    100\n",
       "1    100\n",
       "Name: target, dtype: int64"
      ]
     },
     "execution_count": 32,
     "metadata": {},
     "output_type": "execute_result"
    }
   ],
   "source": [
    "# number of observations per class\n",
    "y.value_counts()"
   ]
  },
  {
   "cell_type": "code",
   "execution_count": 33,
   "id": "1e375034",
   "metadata": {},
   "outputs": [
    {
     "data": {
      "text/plain": [
       "((140, 30), (60, 30))"
      ]
     },
     "execution_count": 33,
     "metadata": {},
     "output_type": "execute_result"
    }
   ],
   "source": [
    "# split into train and test set\n",
    "X_train, X_test, y_train, y_test = train_test_split(X,y, \n",
    "                                                    test_size=0.3, \n",
    "                                                    random_state=0)\n",
    "\n",
    "X_train.shape, X_test.shape"
   ]
  },
  {
   "cell_type": "markdown",
   "id": "12d7670a",
   "metadata": {},
   "source": [
    "## Create Imbalanced DataSet"
   ]
  },
  {
   "cell_type": "code",
   "execution_count": 37,
   "id": "427a3c38",
   "metadata": {},
   "outputs": [],
   "source": [
    "# similarly create an imbalanced dataset\n",
    "\n",
    "def create_imbalanced():\n",
    "    X, y = load_breast_cancer(return_X_y=True)    \n",
    "    X = pd.DataFrame(X)\n",
    "    X['target'] = y\n",
    "    \n",
    "    X_im = pd.concat([\n",
    "        X[y==0].sample(100, random_state=1),\n",
    "        X[y==1].sample(10000, random_state=1, replace=True), \n",
    "    ], axis = 0)\n",
    "    \n",
    "    y = X_im['target']\n",
    "    X_im.drop('target', axis = 1, inplace = True)\n",
    "    y = y.map({0:1, 1:0})\n",
    "    \n",
    "    return X_im.reset_index(drop=True), y.reset_index(drop=True)"
   ]
  },
  {
   "cell_type": "code",
   "execution_count": 38,
   "id": "75673791",
   "metadata": {},
   "outputs": [],
   "source": [
    "# preparing the data\n",
    "\n",
    "X_im, y_im = create_imbalanced()"
   ]
  },
  {
   "cell_type": "code",
   "execution_count": 43,
   "id": "65b68b1e",
   "metadata": {},
   "outputs": [
    {
     "data": {
      "text/html": [
       "<div>\n",
       "<style scoped>\n",
       "    .dataframe tbody tr th:only-of-type {\n",
       "        vertical-align: middle;\n",
       "    }\n",
       "\n",
       "    .dataframe tbody tr th {\n",
       "        vertical-align: top;\n",
       "    }\n",
       "\n",
       "    .dataframe thead th {\n",
       "        text-align: right;\n",
       "    }\n",
       "</style>\n",
       "<table border=\"1\" class=\"dataframe\">\n",
       "  <thead>\n",
       "    <tr style=\"text-align: right;\">\n",
       "      <th></th>\n",
       "      <th>0</th>\n",
       "      <th>1</th>\n",
       "      <th>2</th>\n",
       "      <th>3</th>\n",
       "      <th>4</th>\n",
       "      <th>5</th>\n",
       "      <th>6</th>\n",
       "      <th>7</th>\n",
       "      <th>8</th>\n",
       "      <th>9</th>\n",
       "      <th>...</th>\n",
       "      <th>20</th>\n",
       "      <th>21</th>\n",
       "      <th>22</th>\n",
       "      <th>23</th>\n",
       "      <th>24</th>\n",
       "      <th>25</th>\n",
       "      <th>26</th>\n",
       "      <th>27</th>\n",
       "      <th>28</th>\n",
       "      <th>29</th>\n",
       "    </tr>\n",
       "  </thead>\n",
       "  <tbody>\n",
       "    <tr>\n",
       "      <th>0</th>\n",
       "      <td>15.10</td>\n",
       "      <td>22.02</td>\n",
       "      <td>97.26</td>\n",
       "      <td>712.8</td>\n",
       "      <td>0.09056</td>\n",
       "      <td>0.07081</td>\n",
       "      <td>0.05253</td>\n",
       "      <td>0.03334</td>\n",
       "      <td>0.1616</td>\n",
       "      <td>0.05684</td>\n",
       "      <td>...</td>\n",
       "      <td>18.10</td>\n",
       "      <td>31.69</td>\n",
       "      <td>117.7</td>\n",
       "      <td>1030.0</td>\n",
       "      <td>0.1389</td>\n",
       "      <td>0.2057</td>\n",
       "      <td>0.2712</td>\n",
       "      <td>0.1530</td>\n",
       "      <td>0.2675</td>\n",
       "      <td>0.07873</td>\n",
       "    </tr>\n",
       "    <tr>\n",
       "      <th>1</th>\n",
       "      <td>19.44</td>\n",
       "      <td>18.82</td>\n",
       "      <td>128.10</td>\n",
       "      <td>1167.0</td>\n",
       "      <td>0.10890</td>\n",
       "      <td>0.14480</td>\n",
       "      <td>0.22560</td>\n",
       "      <td>0.11940</td>\n",
       "      <td>0.1823</td>\n",
       "      <td>0.06115</td>\n",
       "      <td>...</td>\n",
       "      <td>23.96</td>\n",
       "      <td>30.39</td>\n",
       "      <td>153.9</td>\n",
       "      <td>1740.0</td>\n",
       "      <td>0.1514</td>\n",
       "      <td>0.3725</td>\n",
       "      <td>0.5936</td>\n",
       "      <td>0.2060</td>\n",
       "      <td>0.3266</td>\n",
       "      <td>0.09009</td>\n",
       "    </tr>\n",
       "    <tr>\n",
       "      <th>2</th>\n",
       "      <td>17.20</td>\n",
       "      <td>24.52</td>\n",
       "      <td>114.20</td>\n",
       "      <td>929.4</td>\n",
       "      <td>0.10710</td>\n",
       "      <td>0.18300</td>\n",
       "      <td>0.16920</td>\n",
       "      <td>0.07944</td>\n",
       "      <td>0.1927</td>\n",
       "      <td>0.06487</td>\n",
       "      <td>...</td>\n",
       "      <td>23.32</td>\n",
       "      <td>33.82</td>\n",
       "      <td>151.6</td>\n",
       "      <td>1681.0</td>\n",
       "      <td>0.1585</td>\n",
       "      <td>0.7394</td>\n",
       "      <td>0.6566</td>\n",
       "      <td>0.1899</td>\n",
       "      <td>0.3313</td>\n",
       "      <td>0.13390</td>\n",
       "    </tr>\n",
       "    <tr>\n",
       "      <th>3</th>\n",
       "      <td>21.09</td>\n",
       "      <td>26.57</td>\n",
       "      <td>142.70</td>\n",
       "      <td>1311.0</td>\n",
       "      <td>0.11410</td>\n",
       "      <td>0.28320</td>\n",
       "      <td>0.24870</td>\n",
       "      <td>0.14960</td>\n",
       "      <td>0.2395</td>\n",
       "      <td>0.07398</td>\n",
       "      <td>...</td>\n",
       "      <td>26.68</td>\n",
       "      <td>33.48</td>\n",
       "      <td>176.5</td>\n",
       "      <td>2089.0</td>\n",
       "      <td>0.1491</td>\n",
       "      <td>0.7584</td>\n",
       "      <td>0.6780</td>\n",
       "      <td>0.2903</td>\n",
       "      <td>0.4098</td>\n",
       "      <td>0.12840</td>\n",
       "    </tr>\n",
       "    <tr>\n",
       "      <th>4</th>\n",
       "      <td>13.48</td>\n",
       "      <td>20.82</td>\n",
       "      <td>88.40</td>\n",
       "      <td>559.2</td>\n",
       "      <td>0.10160</td>\n",
       "      <td>0.12550</td>\n",
       "      <td>0.10630</td>\n",
       "      <td>0.05439</td>\n",
       "      <td>0.1720</td>\n",
       "      <td>0.06419</td>\n",
       "      <td>...</td>\n",
       "      <td>15.53</td>\n",
       "      <td>26.02</td>\n",
       "      <td>107.3</td>\n",
       "      <td>740.4</td>\n",
       "      <td>0.1610</td>\n",
       "      <td>0.4225</td>\n",
       "      <td>0.5030</td>\n",
       "      <td>0.2258</td>\n",
       "      <td>0.2807</td>\n",
       "      <td>0.10710</td>\n",
       "    </tr>\n",
       "  </tbody>\n",
       "</table>\n",
       "<p>5 rows × 30 columns</p>\n",
       "</div>"
      ],
      "text/plain": [
       "      0      1       2       3        4        5        6        7       8   \\\n",
       "0  15.10  22.02   97.26   712.8  0.09056  0.07081  0.05253  0.03334  0.1616   \n",
       "1  19.44  18.82  128.10  1167.0  0.10890  0.14480  0.22560  0.11940  0.1823   \n",
       "2  17.20  24.52  114.20   929.4  0.10710  0.18300  0.16920  0.07944  0.1927   \n",
       "3  21.09  26.57  142.70  1311.0  0.11410  0.28320  0.24870  0.14960  0.2395   \n",
       "4  13.48  20.82   88.40   559.2  0.10160  0.12550  0.10630  0.05439  0.1720   \n",
       "\n",
       "        9   ...     20     21     22      23      24      25      26      27  \\\n",
       "0  0.05684  ...  18.10  31.69  117.7  1030.0  0.1389  0.2057  0.2712  0.1530   \n",
       "1  0.06115  ...  23.96  30.39  153.9  1740.0  0.1514  0.3725  0.5936  0.2060   \n",
       "2  0.06487  ...  23.32  33.82  151.6  1681.0  0.1585  0.7394  0.6566  0.1899   \n",
       "3  0.07398  ...  26.68  33.48  176.5  2089.0  0.1491  0.7584  0.6780  0.2903   \n",
       "4  0.06419  ...  15.53  26.02  107.3   740.4  0.1610  0.4225  0.5030  0.2258   \n",
       "\n",
       "       28       29  \n",
       "0  0.2675  0.07873  \n",
       "1  0.3266  0.09009  \n",
       "2  0.3313  0.13390  \n",
       "3  0.4098  0.12840  \n",
       "4  0.2807  0.10710  \n",
       "\n",
       "[5 rows x 30 columns]"
      ]
     },
     "execution_count": 43,
     "metadata": {},
     "output_type": "execute_result"
    }
   ],
   "source": [
    "X_im.head()"
   ]
  },
  {
   "cell_type": "code",
   "execution_count": 40,
   "id": "35240420",
   "metadata": {},
   "outputs": [
    {
     "data": {
      "text/plain": [
       "0    0.990099\n",
       "1    0.009901\n",
       "Name: target, dtype: float64"
      ]
     },
     "execution_count": 40,
     "metadata": {},
     "output_type": "execute_result"
    }
   ],
   "source": [
    "# check ratio\n",
    "y_im.value_counts()/len(y_im)"
   ]
  },
  {
   "cell_type": "code",
   "execution_count": 41,
   "id": "6f7458d7",
   "metadata": {},
   "outputs": [
    {
     "data": {
      "text/plain": [
       "0    10000\n",
       "1      100\n",
       "Name: target, dtype: int64"
      ]
     },
     "execution_count": 41,
     "metadata": {},
     "output_type": "execute_result"
    }
   ],
   "source": [
    "# num of obs per class\n",
    "y_im.value_counts()"
   ]
  },
  {
   "cell_type": "code",
   "execution_count": 42,
   "id": "7af43bbe",
   "metadata": {},
   "outputs": [
    {
     "data": {
      "text/plain": [
       "((7070, 30), (3030, 30))"
      ]
     },
     "execution_count": 42,
     "metadata": {},
     "output_type": "execute_result"
    }
   ],
   "source": [
    "# split into train and test\n",
    "X_train_im, X_test_im, y_train_im, y_test_im = train_test_split(X_im,y_im,\n",
    "                                                               test_size=0.3, random_state=0)\n",
    "\n",
    "X_train_im.shape, X_test_im.shape"
   ]
  },
  {
   "cell_type": "markdown",
   "id": "d02dbff5",
   "metadata": {},
   "source": [
    "## Baseline Probability"
   ]
  },
  {
   "cell_type": "code",
   "execution_count": 48,
   "id": "97f73c97",
   "metadata": {},
   "outputs": [
    {
     "name": "stdout",
     "output_type": "stream",
     "text": [
      "Likelihood of a patient being positive for test in Balanced Data : 0.517\n"
     ]
    }
   ],
   "source": [
    "print('Likelihood of a patient being positive for test in Balanced Data : {}'.format(np.round(np.mean(y_test),3)))"
   ]
  },
  {
   "cell_type": "code",
   "execution_count": 49,
   "id": "86b22a0f",
   "metadata": {},
   "outputs": [
    {
     "name": "stdout",
     "output_type": "stream",
     "text": [
      "Likelihood of a patient being positive for test in ImBalanced Data : 0.008\n"
     ]
    }
   ],
   "source": [
    "print('Likelihood of a patient being positive for test in ImBalanced Data : {}'.format(np.round(np.mean(y_test_im),3)))"
   ]
  },
  {
   "cell_type": "markdown",
   "id": "d084c906",
   "metadata": {},
   "source": [
    "## Train Logistic Regression on both Datasets"
   ]
  },
  {
   "cell_type": "code",
   "execution_count": 50,
   "id": "598d2829",
   "metadata": {},
   "outputs": [
    {
     "data": {
      "text/plain": [
       "LogisticRegression(max_iter=200, n_jobs=2, random_state=0)"
      ]
     },
     "execution_count": 50,
     "metadata": {},
     "output_type": "execute_result"
    }
   ],
   "source": [
    "# on balanced Dataset\n",
    "logit = LogisticRegression(max_iter=200, random_state=0, n_jobs=2)\n",
    "logit.fit(X_train, y_train)"
   ]
  },
  {
   "cell_type": "code",
   "execution_count": 51,
   "id": "0bba70ff",
   "metadata": {},
   "outputs": [],
   "source": [
    "# score the test set\n",
    "probs = logit.predict_proba(X_test)[:,1]"
   ]
  },
  {
   "cell_type": "code",
   "execution_count": 54,
   "id": "322a6d21",
   "metadata": {},
   "outputs": [
    {
     "data": {
      "text/plain": [
       "0.9988876529477198"
      ]
     },
     "execution_count": 54,
     "metadata": {},
     "output_type": "execute_result"
    }
   ],
   "source": [
    "# roc score \n",
    "roc_auc_score(y_test, probs)"
   ]
  },
  {
   "cell_type": "code",
   "execution_count": 52,
   "id": "f599e4fe",
   "metadata": {},
   "outputs": [
    {
     "data": {
      "text/plain": [
       "LogisticRegression(max_iter=200, n_jobs=2, random_state=0)"
      ]
     },
     "execution_count": 52,
     "metadata": {},
     "output_type": "execute_result"
    }
   ],
   "source": [
    "# on imbalanced Dataset\n",
    "logit_im = LogisticRegression(max_iter=200, random_state=0, n_jobs=2)\n",
    "logit_im.fit(X_train_im, y_train_im)"
   ]
  },
  {
   "cell_type": "code",
   "execution_count": 53,
   "id": "928c044b",
   "metadata": {},
   "outputs": [],
   "source": [
    "# score the test set\n",
    "probs_im = logit_im.predict_proba(X_test_im)[:,1]"
   ]
  },
  {
   "cell_type": "code",
   "execution_count": 55,
   "id": "d2c2e94e",
   "metadata": {},
   "outputs": [
    {
     "data": {
      "text/plain": [
       "0.9978745246598517"
      ]
     },
     "execution_count": 55,
     "metadata": {},
     "output_type": "execute_result"
    }
   ],
   "source": [
    "# roc score\n",
    "roc_auc_score(y_test_im, probs_im)"
   ]
  },
  {
   "cell_type": "markdown",
   "id": "b27063b9",
   "metadata": {},
   "source": [
    "## Comparing our probability scores with the baseline probability"
   ]
  },
  {
   "cell_type": "code",
   "execution_count": 61,
   "id": "addf573c",
   "metadata": {},
   "outputs": [
    {
     "data": {
      "text/plain": [
       "0.9117647058823529"
      ]
     },
     "execution_count": 61,
     "metadata": {},
     "output_type": "execute_result"
    }
   ],
   "source": [
    "# probability of a patient having cancer\n",
    "y_test[probs>0.5].mean()"
   ]
  },
  {
   "cell_type": "code",
   "execution_count": 70,
   "id": "fb6f5b88",
   "metadata": {},
   "outputs": [
    {
     "data": {
      "text/plain": [
       "0.0"
      ]
     },
     "execution_count": 70,
     "metadata": {},
     "output_type": "execute_result"
    }
   ],
   "source": [
    "y_test[probs<0.5].mean()"
   ]
  },
  {
   "cell_type": "code",
   "execution_count": 72,
   "id": "40866624",
   "metadata": {},
   "outputs": [
    {
     "data": {
      "text/plain": [
       "0.6666666666666666"
      ]
     },
     "execution_count": 72,
     "metadata": {},
     "output_type": "execute_result"
    }
   ],
   "source": [
    "# probability of a patient having cancer\n",
    "y_test_im[probs_im>0.1].mean()"
   ]
  },
  {
   "cell_type": "code",
   "execution_count": 73,
   "id": "a3fb5117",
   "metadata": {},
   "outputs": [
    {
     "data": {
      "text/plain": [
       "0.000333667000333667"
      ]
     },
     "execution_count": 73,
     "metadata": {},
     "output_type": "execute_result"
    }
   ],
   "source": [
    "y_test_im[probs_im<0.1].mean()"
   ]
  },
  {
   "cell_type": "markdown",
   "id": "9bbda328",
   "metadata": {},
   "source": [
    "## Optimal Threshold"
   ]
  },
  {
   "cell_type": "markdown",
   "id": "f6dddfc1",
   "metadata": {},
   "source": [
    "### Balanced Dataset"
   ]
  },
  {
   "cell_type": "code",
   "execution_count": 74,
   "id": "7ba168f2",
   "metadata": {},
   "outputs": [
    {
     "data": {
      "image/png": "[encoded data removed]",
      "text/plain": [
       "<Figure size 576x396 with 1 Axes>"
      ]
     },
     "metadata": {},
     "output_type": "display_data"
    },
    {
     "data": {
      "text/plain": [
       "<AxesSubplot:title={'center':'Threshold Plot for LogisticRegression'}, xlabel='discrimination threshold', ylabel='score'>"
      ]
     },
     "execution_count": 74,
     "metadata": {},
     "output_type": "execute_result"
    }
   ],
   "source": [
    "visualizer = DiscriminationThreshold(logit,\n",
    "                                    n_trials=1,\n",
    "                                     cv=0.5,\n",
    "                                    is_fitted='auto',\n",
    "                                    argmax='fscore',\n",
    "                                    random_state=0,\n",
    "                                    exclude=\"queue_rate\")\n",
    "visualizer.fit(X_train,y_train) # Fit the visualizer and the model\n",
    "visualizer.score(X_test,y_test) # Evaluate the model on the test data\n",
    "visualizer.show()"
   ]
  },
  {
   "cell_type": "markdown",
   "id": "ee6df6e8",
   "metadata": {},
   "source": [
    "### ImBalanced Dataset"
   ]
  },
  {
   "cell_type": "code",
   "execution_count": 75,
   "id": "fd6eda05",
   "metadata": {},
   "outputs": [
    {
     "data": {
      "image/png": "[encoded data removed]",
      "text/plain": [
       "<Figure size 576x396 with 1 Axes>"
      ]
     },
     "metadata": {},
     "output_type": "display_data"
    },
    {
     "data": {
      "text/plain": [
       "<AxesSubplot:title={'center':'Threshold Plot for LogisticRegression'}, xlabel='discrimination threshold', ylabel='score'>"
      ]
     },
     "execution_count": 75,
     "metadata": {},
     "output_type": "execute_result"
    }
   ],
   "source": [
    "visualizer = DiscriminationThreshold(logit_im,\n",
    "                                    n_trials=1,\n",
    "                                     cv=0.5,\n",
    "                                    is_fitted='auto',\n",
    "                                    argmax='fscore',\n",
    "                                    random_state=0,\n",
    "                                    exclude=\"queue_rate\")\n",
    "visualizer.fit(X_train_im,y_train_im) # Fit the visualizer and the model\n",
    "visualizer.score(X_test_im,y_test_im) # Evaluate the model on the test data\n",
    "visualizer.show()"
   ]
  },
  {
   "cell_type": "markdown",
   "id": "810e6657",
   "metadata": {},
   "source": [
    "## With Random Forest"
   ]
  },
  {
   "cell_type": "code",
   "execution_count": 76,
   "id": "8492bb31",
   "metadata": {},
   "outputs": [],
   "source": [
    "from sklearn.ensemble import RandomForestClassifier"
   ]
  },
  {
   "cell_type": "code",
   "execution_count": 78,
   "id": "5f88fb67",
   "metadata": {},
   "outputs": [],
   "source": [
    "rf = RandomForestClassifier(n_estimators=100, max_depth=3, random_state=0, n_jobs=2)\n",
    "rf.fit(X_train, y_train)\n",
    "\n",
    "prob_rf = rf.predict_proba(X_test)[:,1]"
   ]
  },
  {
   "cell_type": "code",
   "execution_count": 79,
   "id": "75c730ed",
   "metadata": {},
   "outputs": [
    {
     "data": {
      "text/plain": [
       "1.0"
      ]
     },
     "execution_count": 79,
     "metadata": {},
     "output_type": "execute_result"
    }
   ],
   "source": [
    "# roc score\n",
    "roc_auc_score(y_test, prob_rf)"
   ]
  },
  {
   "cell_type": "code",
   "execution_count": 80,
   "id": "1c530dd4",
   "metadata": {},
   "outputs": [],
   "source": [
    "rf_im = RandomForestClassifier(n_estimators=100, max_depth=3, random_state=0, n_jobs=2)\n",
    "rf_im.fit(X_train_im, y_train_im)\n",
    "\n",
    "prob_rf_im = rf_im.predict_proba(X_test_im)[:,1]"
   ]
  },
  {
   "cell_type": "code",
   "execution_count": 81,
   "id": "afc6c3b9",
   "metadata": {},
   "outputs": [
    {
     "data": {
      "text/plain": [
       "0.9953297378580414"
      ]
     },
     "execution_count": 81,
     "metadata": {},
     "output_type": "execute_result"
    }
   ],
   "source": [
    "# roc score\n",
    "roc_auc_score(y_test_im, prob_rf_im)"
   ]
  },
  {
   "cell_type": "markdown",
   "id": "775bb9a7",
   "metadata": {},
   "source": [
    "## Optimal Threshold"
   ]
  },
  {
   "cell_type": "markdown",
   "id": "120a5530",
   "metadata": {},
   "source": [
    "### Balanced DataSet"
   ]
  },
  {
   "cell_type": "code",
   "execution_count": 85,
   "id": "c82ed740",
   "metadata": {},
   "outputs": [
    {
     "data": {
      "image/png": "[encoded data removed]",
      "text/plain": [
       "<Figure size 576x396 with 1 Axes>"
      ]
     },
     "metadata": {},
     "output_type": "display_data"
    },
    {
     "data": {
      "text/plain": [
       "<AxesSubplot:title={'center':'Threshold Plot for RandomForestClassifier'}, xlabel='discrimination threshold', ylabel='score'>"
      ]
     },
     "execution_count": 85,
     "metadata": {},
     "output_type": "execute_result"
    }
   ],
   "source": [
    "viz = DiscriminationThreshold(rf,\n",
    "                             n_trials=5,\n",
    "                             cv=0.5,\n",
    "                             is_fitted='auto',\n",
    "                             argmax='fscore',\n",
    "                              random_state=0,\n",
    "                             exclude='queue_rate')\n",
    "\n",
    "viz.fit(X_train, y_train)\n",
    "viz.score(X_test, y_test)\n",
    "viz.show()"
   ]
  },
  {
   "cell_type": "markdown",
   "id": "70e4919a",
   "metadata": {},
   "source": [
    "### ImBalanced DataSet"
   ]
  },
  {
   "cell_type": "code",
   "execution_count": 86,
   "id": "955e442c",
   "metadata": {},
   "outputs": [
    {
     "data": {
      "image/png": "[encoded data removed]",
      "text/plain": [
       "<Figure size 576x396 with 1 Axes>"
      ]
     },
     "metadata": {},
     "output_type": "display_data"
    },
    {
     "data": {
      "text/plain": [
       "<AxesSubplot:title={'center':'Threshold Plot for RandomForestClassifier'}, xlabel='discrimination threshold', ylabel='score'>"
      ]
     },
     "execution_count": 86,
     "metadata": {},
     "output_type": "execute_result"
    }
   ],
   "source": [
    "viz = DiscriminationThreshold(rf_im,\n",
    "                             n_trials=5,\n",
    "                             cv=0.5,\n",
    "                             is_fitted='auto',\n",
    "                             argmax='fscore',\n",
    "                              random_state=0,\n",
    "                             exclude='queue_rate')\n",
    "\n",
    "viz.fit(X_train_im, y_train_im)\n",
    "viz.score(X_test_im, y_test_im)\n",
    "viz.show()"
   ]
  }
 ],
 "metadata": {
  "kernelspec": {
   "display_name": "Python 3 (ipykernel)",
   "language": "python",
   "name": "python3"
  },
  "language_info": {
   "codemirror_mode": {
    "name": "ipython",
    "version": 3
   },
   "file_extension": ".py",
   "mimetype": "text/x-python",
   "name": "python",
   "nbconvert_exporter": "python",
   "pygments_lexer": "ipython3",
   "version": "3.9.5"
  }
 },
 "nbformat": 4,
 "nbformat_minor": 5
}
