{
 "cells": [
  {
   "cell_type": "markdown",
   "id": "fa77822c",
   "metadata": {},
   "source": [
    "## Calibrating a Classifier using Toy Data"
   ]
  },
  {
   "cell_type": "code",
   "execution_count": 1,
   "id": "9c910503",
   "metadata": {},
   "outputs": [],
   "source": [
    "# import libraries\n",
    "\n",
    "import numpy as np \n",
    "import pandas as pd\n",
    "\n",
    "import matplotlib.pyplot as plt\n",
    "\n",
    "# models\n",
    "from sklearn.ensemble import RandomForestClassifier\n",
    "# for preparation\n",
    "from sklearn.model_selection import train_test_split\n",
    "from sklearn.datasets import make_classification\n",
    "\n",
    "# evaluation\n",
    "from sklearn.metrics import(\n",
    "    roc_auc_score,\n",
    "    brier_score_loss,\n",
    "    roc_curve,\n",
    ")\n",
    "\n",
    "# to get the calibrated points\n",
    "from sklearn.calibration import calibration_curve, CalibratedClassifierCV"
   ]
  },
  {
   "cell_type": "code",
   "execution_count": 2,
   "id": "aeb95ca2",
   "metadata": {},
   "outputs": [],
   "source": [
    "# define a function to prepare toy dataset\n",
    "\n",
    "def create_data(weights):\n",
    "    \n",
    "    X, y = make_classification(n_samples=100000,\n",
    "                               n_features=20,\n",
    "                               n_classes=2,\n",
    "                               n_redundant=10,\n",
    "                               class_sep=0.8, # how separated the classes are\n",
    "                               \n",
    "                               n_informative=2,\n",
    "                               n_clusters_per_class=1,\n",
    "                               weights=[weights],  # to balance or not to balance\n",
    "                               random_state=42)  \n",
    "    \n",
    "    X = pd.DataFrame(X)\n",
    "    y = pd.Series(y)\n",
    "    \n",
    "    return X,y"
   ]
  },
  {
   "cell_type": "code",
   "execution_count": 3,
   "id": "1fee8dc9",
   "metadata": {},
   "outputs": [
    {
     "data": {
      "text/plain": [
       "((100000, 20), (100000,))"
      ]
     },
     "execution_count": 3,
     "metadata": {},
     "output_type": "execute_result"
    }
   ],
   "source": [
    "# create a balance dataset\n",
    "\n",
    "X,y  = create_data(0.5)\n",
    "\n",
    "X.shape, y.shape"
   ]
  },
  {
   "cell_type": "code",
   "execution_count": 4,
   "id": "5a5c98a7",
   "metadata": {},
   "outputs": [
    {
     "data": {
      "text/html": [
       "<div>\n",
       "<style scoped>\n",
       "    .dataframe tbody tr th:only-of-type {\n",
       "        vertical-align: middle;\n",
       "    }\n",
       "\n",
       "    .dataframe tbody tr th {\n",
       "        vertical-align: top;\n",
       "    }\n",
       "\n",
       "    .dataframe thead th {\n",
       "        text-align: right;\n",
       "    }\n",
       "</style>\n",
       "<table border=\"1\" class=\"dataframe\">\n",
       "  <thead>\n",
       "    <tr style=\"text-align: right;\">\n",
       "      <th></th>\n",
       "      <th>0</th>\n",
       "      <th>1</th>\n",
       "      <th>2</th>\n",
       "      <th>3</th>\n",
       "      <th>4</th>\n",
       "      <th>5</th>\n",
       "      <th>6</th>\n",
       "      <th>7</th>\n",
       "      <th>8</th>\n",
       "      <th>9</th>\n",
       "      <th>10</th>\n",
       "      <th>11</th>\n",
       "      <th>12</th>\n",
       "      <th>13</th>\n",
       "      <th>14</th>\n",
       "      <th>15</th>\n",
       "      <th>16</th>\n",
       "      <th>17</th>\n",
       "      <th>18</th>\n",
       "      <th>19</th>\n",
       "    </tr>\n",
       "  </thead>\n",
       "  <tbody>\n",
       "    <tr>\n",
       "      <th>0</th>\n",
       "      <td>0.429199</td>\n",
       "      <td>-0.238767</td>\n",
       "      <td>-0.897015</td>\n",
       "      <td>0.549742</td>\n",
       "      <td>1.229739</td>\n",
       "      <td>0.337556</td>\n",
       "      <td>1.183870</td>\n",
       "      <td>-0.670483</td>\n",
       "      <td>1.633881</td>\n",
       "      <td>1.432858</td>\n",
       "      <td>-1.081785</td>\n",
       "      <td>1.385574</td>\n",
       "      <td>-0.004041</td>\n",
       "      <td>-0.894039</td>\n",
       "      <td>-1.500062</td>\n",
       "      <td>0.128965</td>\n",
       "      <td>-2.393856</td>\n",
       "      <td>1.910585</td>\n",
       "      <td>-1.397027</td>\n",
       "      <td>-0.580130</td>\n",
       "    </tr>\n",
       "    <tr>\n",
       "      <th>1</th>\n",
       "      <td>0.609187</td>\n",
       "      <td>-0.178715</td>\n",
       "      <td>-0.131053</td>\n",
       "      <td>-0.299957</td>\n",
       "      <td>-0.212216</td>\n",
       "      <td>-0.382546</td>\n",
       "      <td>0.476964</td>\n",
       "      <td>-0.799630</td>\n",
       "      <td>0.788183</td>\n",
       "      <td>1.088158</td>\n",
       "      <td>0.272802</td>\n",
       "      <td>-0.087315</td>\n",
       "      <td>0.527358</td>\n",
       "      <td>1.153215</td>\n",
       "      <td>-0.978695</td>\n",
       "      <td>-0.815755</td>\n",
       "      <td>-1.642886</td>\n",
       "      <td>1.800363</td>\n",
       "      <td>-1.324990</td>\n",
       "      <td>-0.271232</td>\n",
       "    </tr>\n",
       "    <tr>\n",
       "      <th>2</th>\n",
       "      <td>-0.179468</td>\n",
       "      <td>-0.076630</td>\n",
       "      <td>-0.973556</td>\n",
       "      <td>0.960215</td>\n",
       "      <td>1.642520</td>\n",
       "      <td>0.045832</td>\n",
       "      <td>0.466935</td>\n",
       "      <td>0.112875</td>\n",
       "      <td>1.003353</td>\n",
       "      <td>0.442593</td>\n",
       "      <td>-1.539779</td>\n",
       "      <td>1.683433</td>\n",
       "      <td>0.509415</td>\n",
       "      <td>0.760956</td>\n",
       "      <td>-0.640172</td>\n",
       "      <td>1.046444</td>\n",
       "      <td>0.726876</td>\n",
       "      <td>1.183733</td>\n",
       "      <td>-0.140631</td>\n",
       "      <td>-1.005396</td>\n",
       "    </tr>\n",
       "    <tr>\n",
       "      <th>3</th>\n",
       "      <td>0.498523</td>\n",
       "      <td>-0.216547</td>\n",
       "      <td>0.867658</td>\n",
       "      <td>0.228607</td>\n",
       "      <td>0.685475</td>\n",
       "      <td>-0.498019</td>\n",
       "      <td>-0.516469</td>\n",
       "      <td>-0.721088</td>\n",
       "      <td>1.316846</td>\n",
       "      <td>1.305463</td>\n",
       "      <td>-0.570323</td>\n",
       "      <td>0.829942</td>\n",
       "      <td>1.905509</td>\n",
       "      <td>-1.431049</td>\n",
       "      <td>-1.305786</td>\n",
       "      <td>-0.229230</td>\n",
       "      <td>-1.419213</td>\n",
       "      <td>2.422524</td>\n",
       "      <td>-1.373017</td>\n",
       "      <td>0.038911</td>\n",
       "    </tr>\n",
       "    <tr>\n",
       "      <th>4</th>\n",
       "      <td>0.182355</td>\n",
       "      <td>-0.336852</td>\n",
       "      <td>-1.176204</td>\n",
       "      <td>1.821124</td>\n",
       "      <td>3.399519</td>\n",
       "      <td>1.686020</td>\n",
       "      <td>-0.927525</td>\n",
       "      <td>-0.508292</td>\n",
       "      <td>2.944022</td>\n",
       "      <td>1.998439</td>\n",
       "      <td>-3.117074</td>\n",
       "      <td>3.607232</td>\n",
       "      <td>0.698347</td>\n",
       "      <td>-0.903148</td>\n",
       "      <td>-2.328045</td>\n",
       "      <td>1.522666</td>\n",
       "      <td>-1.672095</td>\n",
       "      <td>-0.458659</td>\n",
       "      <td>-1.560419</td>\n",
       "      <td>0.949903</td>\n",
       "    </tr>\n",
       "  </tbody>\n",
       "</table>\n",
       "</div>"
      ],
      "text/plain": [
       "         0         1         2         3         4         5         6   \\\n",
       "0  0.429199 -0.238767 -0.897015  0.549742  1.229739  0.337556  1.183870   \n",
       "1  0.609187 -0.178715 -0.131053 -0.299957 -0.212216 -0.382546  0.476964   \n",
       "2 -0.179468 -0.076630 -0.973556  0.960215  1.642520  0.045832  0.466935   \n",
       "3  0.498523 -0.216547  0.867658  0.228607  0.685475 -0.498019 -0.516469   \n",
       "4  0.182355 -0.336852 -1.176204  1.821124  3.399519  1.686020 -0.927525   \n",
       "\n",
       "         7         8         9         10        11        12        13  \\\n",
       "0 -0.670483  1.633881  1.432858 -1.081785  1.385574 -0.004041 -0.894039   \n",
       "1 -0.799630  0.788183  1.088158  0.272802 -0.087315  0.527358  1.153215   \n",
       "2  0.112875  1.003353  0.442593 -1.539779  1.683433  0.509415  0.760956   \n",
       "3 -0.721088  1.316846  1.305463 -0.570323  0.829942  1.905509 -1.431049   \n",
       "4 -0.508292  2.944022  1.998439 -3.117074  3.607232  0.698347 -0.903148   \n",
       "\n",
       "         14        15        16        17        18        19  \n",
       "0 -1.500062  0.128965 -2.393856  1.910585 -1.397027 -0.580130  \n",
       "1 -0.978695 -0.815755 -1.642886  1.800363 -1.324990 -0.271232  \n",
       "2 -0.640172  1.046444  0.726876  1.183733 -0.140631 -1.005396  \n",
       "3 -1.305786 -0.229230 -1.419213  2.422524 -1.373017  0.038911  \n",
       "4 -2.328045  1.522666 -1.672095 -0.458659 -1.560419  0.949903  "
      ]
     },
     "execution_count": 4,
     "metadata": {},
     "output_type": "execute_result"
    }
   ],
   "source": [
    "X.head()"
   ]
  },
  {
   "cell_type": "code",
   "execution_count": 5,
   "id": "78dd0863",
   "metadata": {},
   "outputs": [
    {
     "data": {
      "text/plain": [
       "1    50029\n",
       "0    49971\n",
       "dtype: int64"
      ]
     },
     "execution_count": 5,
     "metadata": {},
     "output_type": "execute_result"
    }
   ],
   "source": [
    "y.value_counts()"
   ]
  },
  {
   "cell_type": "code",
   "execution_count": 6,
   "id": "9e3133b0",
   "metadata": {},
   "outputs": [
    {
     "data": {
      "text/plain": [
       "((70000, 20), (30000, 20))"
      ]
     },
     "execution_count": 6,
     "metadata": {},
     "output_type": "execute_result"
    }
   ],
   "source": [
    "# split the data into train and test\n",
    "\n",
    "X_train, X_test, y_train, y_test = train_test_split(X,y,\n",
    "                                                    test_size=0.3,\n",
    "                                                    random_state=0)\n",
    "\n",
    "X_train.shape, X_test.shape"
   ]
  },
  {
   "cell_type": "code",
   "execution_count": 7,
   "id": "fa94bc30",
   "metadata": {},
   "outputs": [
    {
     "data": {
      "text/plain": [
       "0    35109\n",
       "1    34891\n",
       "dtype: int64"
      ]
     },
     "execution_count": 7,
     "metadata": {},
     "output_type": "execute_result"
    }
   ],
   "source": [
    "y_train.value_counts()"
   ]
  },
  {
   "cell_type": "code",
   "execution_count": 8,
   "id": "42413ff6",
   "metadata": {},
   "outputs": [
    {
     "data": {
      "text/plain": [
       "0    0.501557\n",
       "1    0.498443\n",
       "dtype: float64"
      ]
     },
     "execution_count": 8,
     "metadata": {},
     "output_type": "execute_result"
    }
   ],
   "source": [
    "y_train.value_counts()/len(y_train)"
   ]
  },
  {
   "cell_type": "code",
   "execution_count": 9,
   "id": "bdc9b43d",
   "metadata": {},
   "outputs": [
    {
     "data": {
      "text/plain": [
       "RandomForestClassifier(max_depth=2, n_jobs=2, random_state=0)"
      ]
     },
     "execution_count": 9,
     "metadata": {},
     "output_type": "execute_result"
    }
   ],
   "source": [
    "# lets initialize RF model object\n",
    "\n",
    "rf = RandomForestClassifier(n_estimators=100,\n",
    "                            max_depth=2,\n",
    "                            random_state=0,\n",
    "                            n_jobs=2)\n",
    "\n",
    "rf.fit(X_train,y_train)"
   ]
  },
  {
   "cell_type": "code",
   "execution_count": 11,
   "id": "b8284641",
   "metadata": {},
   "outputs": [
    {
     "name": "stdout",
     "output_type": "stream",
     "text": [
      "ROC score for train data : 0.9853218527419859\n",
      "ROC score for test data : 0.9853796114191993\n"
     ]
    }
   ],
   "source": [
    "# get the ROC scores\n",
    "\n",
    "preds_train = rf.predict_proba(X_train)[:,1]\n",
    "print('ROC score for train data : {}'.format(roc_auc_score(y_train,preds_train)))\n",
    "\n",
    "preds_test = rf.predict_proba(X_test)[:,1]\n",
    "print('ROC score for test data : {}'.format(roc_auc_score(y_test,preds_test)))"
   ]
  },
  {
   "cell_type": "markdown",
   "id": "b3bc3606",
   "metadata": {},
   "source": [
    "- We can see that the model performs quite well with both the training and test datasets as given by the roc_auc_score"
   ]
  },
  {
   "cell_type": "markdown",
   "id": "d4e4f2be",
   "metadata": {},
   "source": [
    "## Brier Score\n",
    "\n",
    "https://scikit-learn.org/stable/modules/generated/sklearn.metrics.brier_score_loss.html"
   ]
  },
  {
   "cell_type": "code",
   "execution_count": 12,
   "id": "2ea7e2f3",
   "metadata": {},
   "outputs": [
    {
     "name": "stdout",
     "output_type": "stream",
     "text": [
      "Brier score for train data : 0.06484877350806174\n",
      "Brier score for test data : 0.06450635974290052\n"
     ]
    }
   ],
   "source": [
    "# get the Brier scores for all models\n",
    "\n",
    "bs_train = brier_score_loss(y_train,preds_train)\n",
    "print('Brier score for train data : {}'.format(bs_train))\n",
    "\n",
    "bs_test = brier_score_loss(y_test,preds_test)\n",
    "print('Brier score for test data : {}'.format(bs_test))"
   ]
  },
  {
   "cell_type": "markdown",
   "id": "418a8dd9",
   "metadata": {},
   "source": [
    "The brier score also seems to be doing fair. Lets check by plotting the calibration curve"
   ]
  },
  {
   "cell_type": "code",
   "execution_count": 22,
   "id": "c1e26596",
   "metadata": {},
   "outputs": [
    {
     "data": {
      "text/plain": [
       "array([0.07999133, 0.12825792, 0.28723052, 0.32675008, 0.4351248 ,\n",
       "       0.55896979, 0.63467672, 0.76413762, 0.85250514, 0.95812022])"
      ]
     },
     "execution_count": 22,
     "metadata": {},
     "output_type": "execute_result"
    }
   ],
   "source": [
    "mean_predicted_value"
   ]
  },
  {
   "cell_type": "code",
   "execution_count": 24,
   "id": "cfdf4712",
   "metadata": {},
   "outputs": [],
   "source": [
    "# lets write a function to plot the calibration curve\n",
    "\n",
    "def plot_calibration_curve(y_test,preds_test,bins):\n",
    "    \n",
    "    plt.figure(figsize=(10,14))\n",
    "    plt.subplot(2,1,1)\n",
    "    fraction_of_positives, mean_predicted_value = calibration_curve(y_test, preds_test, n_bins=bins,strategy='uniform')\n",
    "    plt.plot(mean_predicted_value, fraction_of_positives,label='Random Forest')\n",
    "\n",
    "\n",
    "    # draw the perfect calibrated line\n",
    "    plt.plot(np.linspace(0,1,10),np.linspace(0,1,10),linestyle='--',c='red',label='Perfect Calibration')\n",
    "    plt.legend(loc='best');\n",
    "    plt.title('Calibration Curve')\n",
    "    plt.xlabel('Probability Predictions')\n",
    "    plt.ylabel('Fraction of positive examples')\n",
    "\n",
    "    # lets plot the distribution of the predicted probabilities as well\n",
    "    plt.subplot(2,1,2)\n",
    "    plt.hist(preds_test,range=(0,1),bins=bins,density=True,alpha = 0.5)\n",
    "    plt.title('Density')\n",
    "    plt.xlabel('')\n",
    "\n",
    "    plt.show()"
   ]
  },
  {
   "cell_type": "code",
   "execution_count": 25,
   "id": "ec570e3f",
   "metadata": {},
   "outputs": [
    {
     "data": {
      "image/png": "[encoded data removed]",
      "text/plain": [
       "<Figure size 720x1008 with 2 Axes>"
      ]
     },
     "metadata": {
      "needs_background": "light"
     },
     "output_type": "display_data"
    }
   ],
   "source": [
    "plot_calibration_curve(y_test,preds_test,bins=10)"
   ]
  },
  {
   "cell_type": "markdown",
   "id": "a7f1b0af",
   "metadata": {},
   "source": [
    "The probability of the random forests is uncalibrated\n",
    "\n",
    "## Probability Re-calibration\n",
    "- Now we'll try to calibrate our rf model predictions"
   ]
  },
  {
   "cell_type": "code",
   "execution_count": 26,
   "id": "67090506",
   "metadata": {},
   "outputs": [],
   "source": [
    "# create a calibrated classifier cv \n",
    "\n",
    "# for isotonic method\n",
    "clf_iso = CalibratedClassifierCV(base_estimator=rf, n_jobs=2, cv=5, method='isotonic')\n",
    "\n",
    "# fitting the clf to our test data\n",
    "# its best to keep some hold sample data, but for less data, we can do this method of cv\n",
    "clf_iso.fit(X_test,y_test) \n",
    "# get the predictions\n",
    "preds_iso = clf_iso.predict_proba(X_test)[:,1]\n",
    "\n",
    "\n",
    "# for sigmoid method - or platt method\n",
    "clf_sigmoid = CalibratedClassifierCV(base_estimator=rf, n_jobs=2, cv=5, method='sigmoid')\n",
    "clf_sigmoid.fit(X_test,y_test) \n",
    "# get the predictions\n",
    "preds_sigmoid = clf_sigmoid.predict_proba(X_test)[:,1]"
   ]
  },
  {
   "cell_type": "code",
   "execution_count": 27,
   "id": "4fab83ed",
   "metadata": {},
   "outputs": [
    {
     "data": {
      "image/png": "[encoded data removed]",
      "text/plain": [
       "<Figure size 720x1008 with 2 Axes>"
      ]
     },
     "metadata": {
      "needs_background": "light"
     },
     "output_type": "display_data"
    }
   ],
   "source": [
    "plot_calibration_curve(y_test,preds_iso,bins=10)"
   ]
  },
  {
   "cell_type": "code",
   "execution_count": 28,
   "id": "62530521",
   "metadata": {},
   "outputs": [
    {
     "data": {
      "image/png": "[encoded data removed]",
      "text/plain": [
       "<Figure size 720x1008 with 2 Axes>"
      ]
     },
     "metadata": {
      "needs_background": "light"
     },
     "output_type": "display_data"
    }
   ],
   "source": [
    "plot_calibration_curve(y_test,preds_sigmoid,bins=10)"
   ]
  },
  {
   "cell_type": "markdown",
   "id": "6b88049f",
   "metadata": {},
   "source": [
    "For this particular dataset, the Isotonic Calibration worked better than Plat Scaling"
   ]
  },
  {
   "cell_type": "code",
   "execution_count": 29,
   "id": "dd27cd4c",
   "metadata": {},
   "outputs": [
    {
     "name": "stdout",
     "output_type": "stream",
     "text": [
      "ROC score for test data ISOTONIC: 0.9875928209674779\n"
     ]
    }
   ],
   "source": [
    "# checking the roc score for this classifiers\n",
    "\n",
    "print('ROC score for test data ISOTONIC: {}'.format(roc_auc_score(y_test,preds_iso)))"
   ]
  },
  {
   "cell_type": "code",
   "execution_count": 30,
   "id": "2d8bad1c",
   "metadata": {},
   "outputs": [
    {
     "name": "stdout",
     "output_type": "stream",
     "text": [
      "ROC score for test data SIGMOID: 0.9866626555716121\n"
     ]
    }
   ],
   "source": [
    "# checking the roc score for this classifiers\n",
    "\n",
    "print('ROC score for test data SIGMOID: {}'.format(roc_auc_score(y_test,preds_sigmoid)))"
   ]
  },
  {
   "cell_type": "code",
   "execution_count": 31,
   "id": "37352560",
   "metadata": {},
   "outputs": [
    {
     "name": "stdout",
     "output_type": "stream",
     "text": [
      "ROC score for train data : 0.9853218527419859\n",
      "ROC score for test data : 0.9853796114191993\n"
     ]
    }
   ],
   "source": [
    "# the original score before calibrating\n",
    "# get the ROC scores\n",
    "\n",
    "preds_train = rf.predict_proba(X_train)[:,1]\n",
    "print('ROC score for train data : {}'.format(roc_auc_score(y_train,preds_train)))\n",
    "\n",
    "preds_test = rf.predict_proba(X_test)[:,1]\n",
    "print('ROC score for test data : {}'.format(roc_auc_score(y_test,preds_test)))"
   ]
  },
  {
   "cell_type": "markdown",
   "id": "28ab4c0c",
   "metadata": {},
   "source": [
    "- Seems the model performance also seems to be better with the calibrated classifier"
   ]
  },
  {
   "cell_type": "code",
   "execution_count": 32,
   "id": "41668ed5",
   "metadata": {},
   "outputs": [
    {
     "name": "stdout",
     "output_type": "stream",
     "text": [
      "Brier score for test data ISOTONIC: 0.02739498834500589\n"
     ]
    }
   ],
   "source": [
    "# checking the brier scores - expecting to be much better\n",
    "\n",
    "bs_test = brier_score_loss(y_test,preds_iso)\n",
    "print('Brier score for test data ISOTONIC: {}'.format(bs_test))"
   ]
  },
  {
   "cell_type": "code",
   "execution_count": 33,
   "id": "f52d3ecf",
   "metadata": {},
   "outputs": [
    {
     "name": "stdout",
     "output_type": "stream",
     "text": [
      "Brier score for test data SIGMOID: 0.03640891960831679\n"
     ]
    }
   ],
   "source": [
    "bs_test = brier_score_loss(y_test,preds_sigmoid)\n",
    "print('Brier score for test data SIGMOID: {}'.format(bs_test))"
   ]
  },
  {
   "cell_type": "code",
   "execution_count": 34,
   "id": "9fe9a879",
   "metadata": {},
   "outputs": [
    {
     "name": "stdout",
     "output_type": "stream",
     "text": [
      "Brier score for train data : 0.06484877350806174\n",
      "Brier score for test data : 0.06450635974290052\n"
     ]
    }
   ],
   "source": [
    "# BEFORE calibration scores\n",
    "bs_train = brier_score_loss(y_train,preds_train)\n",
    "print('Brier score for train data : {}'.format(bs_train))\n",
    "\n",
    "bs_test = brier_score_loss(y_test,preds_test)\n",
    "print('Brier score for test data : {}'.format(bs_test))"
   ]
  },
  {
   "cell_type": "markdown",
   "id": "90b15cdc",
   "metadata": {},
   "source": [
    "- As expected, the brier scores for both the methods are pretty much better and improved."
   ]
  },
  {
   "cell_type": "code",
   "execution_count": null,
   "id": "f1d74ebf",
   "metadata": {},
   "outputs": [],
   "source": []
  }
 ],
 "metadata": {
  "kernelspec": {
   "display_name": "Python 3 (ipykernel)",
   "language": "python",
   "name": "python3"
  },
  "language_info": {
   "codemirror_mode": {
    "name": "ipython",
    "version": 3
   },
   "file_extension": ".py",
   "mimetype": "text/x-python",
   "name": "python",
   "nbconvert_exporter": "python",
   "pygments_lexer": "ipython3",
   "version": "3.9.5"
  }
 },
 "nbformat": 4,
 "nbformat_minor": 5
}
