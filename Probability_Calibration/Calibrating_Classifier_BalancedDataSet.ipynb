{
 "cells": [
  {
   "cell_type": "markdown",
   "id": "fa77822c",
   "metadata": {},
   "source": [
    "## Calibrating a Classifier for a Balanced Dataset"
   ]
  },
  {
   "cell_type": "code",
   "execution_count": 1,
   "id": "9c910503",
   "metadata": {},
   "outputs": [],
   "source": [
    "# import libraries\n",
    "\n",
    "import numpy as np \n",
    "import pandas as pd\n",
    "\n",
    "import matplotlib.pyplot as plt\n",
    "\n",
    "# models\n",
    "from sklearn.naive_bayes import GaussianNB\n",
    "from sklearn.ensemble import RandomForestClassifier\n",
    "# for preparation\n",
    "from sklearn.model_selection import train_test_split\n",
    "from sklearn.datasets import load_breast_cancer\n",
    "\n",
    "# evaluation\n",
    "from sklearn.metrics import(\n",
    "    roc_auc_score,\n",
    "    brier_score_loss,\n",
    "    roc_curve,\n",
    ")\n",
    "\n",
    "# to get the calibrated points\n",
    "from sklearn.calibration import calibration_curve, CalibratedClassifierCV"
   ]
  },
  {
   "cell_type": "code",
   "execution_count": 2,
   "id": "aeb95ca2",
   "metadata": {},
   "outputs": [
    {
     "data": {
      "text/html": [
       "<div>\n",
       "<style scoped>\n",
       "    .dataframe tbody tr th:only-of-type {\n",
       "        vertical-align: middle;\n",
       "    }\n",
       "\n",
       "    .dataframe tbody tr th {\n",
       "        vertical-align: top;\n",
       "    }\n",
       "\n",
       "    .dataframe thead th {\n",
       "        text-align: right;\n",
       "    }\n",
       "</style>\n",
       "<table border=\"1\" class=\"dataframe\">\n",
       "  <thead>\n",
       "    <tr style=\"text-align: right;\">\n",
       "      <th></th>\n",
       "      <th>0</th>\n",
       "      <th>1</th>\n",
       "      <th>2</th>\n",
       "      <th>3</th>\n",
       "      <th>4</th>\n",
       "      <th>5</th>\n",
       "      <th>6</th>\n",
       "      <th>7</th>\n",
       "      <th>8</th>\n",
       "      <th>9</th>\n",
       "      <th>...</th>\n",
       "      <th>20</th>\n",
       "      <th>21</th>\n",
       "      <th>22</th>\n",
       "      <th>23</th>\n",
       "      <th>24</th>\n",
       "      <th>25</th>\n",
       "      <th>26</th>\n",
       "      <th>27</th>\n",
       "      <th>28</th>\n",
       "      <th>29</th>\n",
       "    </tr>\n",
       "  </thead>\n",
       "  <tbody>\n",
       "    <tr>\n",
       "      <th>0</th>\n",
       "      <td>17.99</td>\n",
       "      <td>10.38</td>\n",
       "      <td>122.80</td>\n",
       "      <td>1001.0</td>\n",
       "      <td>0.11840</td>\n",
       "      <td>0.27760</td>\n",
       "      <td>0.3001</td>\n",
       "      <td>0.14710</td>\n",
       "      <td>0.2419</td>\n",
       "      <td>0.07871</td>\n",
       "      <td>...</td>\n",
       "      <td>25.38</td>\n",
       "      <td>17.33</td>\n",
       "      <td>184.60</td>\n",
       "      <td>2019.0</td>\n",
       "      <td>0.1622</td>\n",
       "      <td>0.6656</td>\n",
       "      <td>0.7119</td>\n",
       "      <td>0.2654</td>\n",
       "      <td>0.4601</td>\n",
       "      <td>0.11890</td>\n",
       "    </tr>\n",
       "    <tr>\n",
       "      <th>1</th>\n",
       "      <td>20.57</td>\n",
       "      <td>17.77</td>\n",
       "      <td>132.90</td>\n",
       "      <td>1326.0</td>\n",
       "      <td>0.08474</td>\n",
       "      <td>0.07864</td>\n",
       "      <td>0.0869</td>\n",
       "      <td>0.07017</td>\n",
       "      <td>0.1812</td>\n",
       "      <td>0.05667</td>\n",
       "      <td>...</td>\n",
       "      <td>24.99</td>\n",
       "      <td>23.41</td>\n",
       "      <td>158.80</td>\n",
       "      <td>1956.0</td>\n",
       "      <td>0.1238</td>\n",
       "      <td>0.1866</td>\n",
       "      <td>0.2416</td>\n",
       "      <td>0.1860</td>\n",
       "      <td>0.2750</td>\n",
       "      <td>0.08902</td>\n",
       "    </tr>\n",
       "    <tr>\n",
       "      <th>2</th>\n",
       "      <td>19.69</td>\n",
       "      <td>21.25</td>\n",
       "      <td>130.00</td>\n",
       "      <td>1203.0</td>\n",
       "      <td>0.10960</td>\n",
       "      <td>0.15990</td>\n",
       "      <td>0.1974</td>\n",
       "      <td>0.12790</td>\n",
       "      <td>0.2069</td>\n",
       "      <td>0.05999</td>\n",
       "      <td>...</td>\n",
       "      <td>23.57</td>\n",
       "      <td>25.53</td>\n",
       "      <td>152.50</td>\n",
       "      <td>1709.0</td>\n",
       "      <td>0.1444</td>\n",
       "      <td>0.4245</td>\n",
       "      <td>0.4504</td>\n",
       "      <td>0.2430</td>\n",
       "      <td>0.3613</td>\n",
       "      <td>0.08758</td>\n",
       "    </tr>\n",
       "    <tr>\n",
       "      <th>3</th>\n",
       "      <td>11.42</td>\n",
       "      <td>20.38</td>\n",
       "      <td>77.58</td>\n",
       "      <td>386.1</td>\n",
       "      <td>0.14250</td>\n",
       "      <td>0.28390</td>\n",
       "      <td>0.2414</td>\n",
       "      <td>0.10520</td>\n",
       "      <td>0.2597</td>\n",
       "      <td>0.09744</td>\n",
       "      <td>...</td>\n",
       "      <td>14.91</td>\n",
       "      <td>26.50</td>\n",
       "      <td>98.87</td>\n",
       "      <td>567.7</td>\n",
       "      <td>0.2098</td>\n",
       "      <td>0.8663</td>\n",
       "      <td>0.6869</td>\n",
       "      <td>0.2575</td>\n",
       "      <td>0.6638</td>\n",
       "      <td>0.17300</td>\n",
       "    </tr>\n",
       "    <tr>\n",
       "      <th>4</th>\n",
       "      <td>20.29</td>\n",
       "      <td>14.34</td>\n",
       "      <td>135.10</td>\n",
       "      <td>1297.0</td>\n",
       "      <td>0.10030</td>\n",
       "      <td>0.13280</td>\n",
       "      <td>0.1980</td>\n",
       "      <td>0.10430</td>\n",
       "      <td>0.1809</td>\n",
       "      <td>0.05883</td>\n",
       "      <td>...</td>\n",
       "      <td>22.54</td>\n",
       "      <td>16.67</td>\n",
       "      <td>152.20</td>\n",
       "      <td>1575.0</td>\n",
       "      <td>0.1374</td>\n",
       "      <td>0.2050</td>\n",
       "      <td>0.4000</td>\n",
       "      <td>0.1625</td>\n",
       "      <td>0.2364</td>\n",
       "      <td>0.07678</td>\n",
       "    </tr>\n",
       "  </tbody>\n",
       "</table>\n",
       "<p>5 rows × 30 columns</p>\n",
       "</div>"
      ],
      "text/plain": [
       "      0      1       2       3        4        5       6        7       8   \\\n",
       "0  17.99  10.38  122.80  1001.0  0.11840  0.27760  0.3001  0.14710  0.2419   \n",
       "1  20.57  17.77  132.90  1326.0  0.08474  0.07864  0.0869  0.07017  0.1812   \n",
       "2  19.69  21.25  130.00  1203.0  0.10960  0.15990  0.1974  0.12790  0.2069   \n",
       "3  11.42  20.38   77.58   386.1  0.14250  0.28390  0.2414  0.10520  0.2597   \n",
       "4  20.29  14.34  135.10  1297.0  0.10030  0.13280  0.1980  0.10430  0.1809   \n",
       "\n",
       "        9   ...     20     21      22      23      24      25      26      27  \\\n",
       "0  0.07871  ...  25.38  17.33  184.60  2019.0  0.1622  0.6656  0.7119  0.2654   \n",
       "1  0.05667  ...  24.99  23.41  158.80  1956.0  0.1238  0.1866  0.2416  0.1860   \n",
       "2  0.05999  ...  23.57  25.53  152.50  1709.0  0.1444  0.4245  0.4504  0.2430   \n",
       "3  0.09744  ...  14.91  26.50   98.87   567.7  0.2098  0.8663  0.6869  0.2575   \n",
       "4  0.05883  ...  22.54  16.67  152.20  1575.0  0.1374  0.2050  0.4000  0.1625   \n",
       "\n",
       "       28       29  \n",
       "0  0.4601  0.11890  \n",
       "1  0.2750  0.08902  \n",
       "2  0.3613  0.08758  \n",
       "3  0.6638  0.17300  \n",
       "4  0.2364  0.07678  \n",
       "\n",
       "[5 rows x 30 columns]"
      ]
     },
     "execution_count": 2,
     "metadata": {},
     "output_type": "execute_result"
    }
   ],
   "source": [
    "# get data\n",
    "\n",
    "X,y = load_breast_cancer(return_X_y=True)\n",
    "X = pd.DataFrame(X)\n",
    "y = pd.Series(y)\n",
    "\n",
    "X.head()\n"
   ]
  },
  {
   "cell_type": "code",
   "execution_count": 3,
   "id": "78dd0863",
   "metadata": {},
   "outputs": [
    {
     "data": {
      "text/plain": [
       "1    357\n",
       "0    212\n",
       "dtype: int64"
      ]
     },
     "execution_count": 3,
     "metadata": {},
     "output_type": "execute_result"
    }
   ],
   "source": [
    "y.value_counts()"
   ]
  },
  {
   "cell_type": "code",
   "execution_count": 4,
   "id": "9e3133b0",
   "metadata": {},
   "outputs": [
    {
     "data": {
      "text/plain": [
       "((398, 30), (171, 30))"
      ]
     },
     "execution_count": 4,
     "metadata": {},
     "output_type": "execute_result"
    }
   ],
   "source": [
    "# split the data into train and test\n",
    "\n",
    "X_train, X_test, y_train, y_test = train_test_split(X,y,\n",
    "                                                    test_size=0.3,\n",
    "                                                    random_state=0)\n",
    "\n",
    "X_train.shape, X_test.shape"
   ]
  },
  {
   "cell_type": "code",
   "execution_count": 5,
   "id": "fa94bc30",
   "metadata": {},
   "outputs": [
    {
     "data": {
      "text/plain": [
       "1    249\n",
       "0    149\n",
       "dtype: int64"
      ]
     },
     "execution_count": 5,
     "metadata": {},
     "output_type": "execute_result"
    }
   ],
   "source": [
    "y_train.value_counts()"
   ]
  },
  {
   "cell_type": "code",
   "execution_count": 6,
   "id": "42413ff6",
   "metadata": {},
   "outputs": [
    {
     "data": {
      "text/plain": [
       "1    0.625628\n",
       "0    0.374372\n",
       "dtype: float64"
      ]
     },
     "execution_count": 6,
     "metadata": {},
     "output_type": "execute_result"
    }
   ],
   "source": [
    "y_train.value_counts()/len(y_train)"
   ]
  },
  {
   "cell_type": "markdown",
   "id": "860d50be",
   "metadata": {},
   "source": [
    "## Naive Bayes"
   ]
  },
  {
   "cell_type": "code",
   "execution_count": 7,
   "id": "bdc9b43d",
   "metadata": {},
   "outputs": [
    {
     "data": {
      "text/plain": [
       "GaussianNB()"
      ]
     },
     "execution_count": 7,
     "metadata": {},
     "output_type": "execute_result"
    }
   ],
   "source": [
    "# lets initialize a GaussianNB model object\n",
    "\n",
    "nb = GaussianNB()\n",
    "\n",
    "nb.fit(X_train,y_train)"
   ]
  },
  {
   "cell_type": "code",
   "execution_count": 8,
   "id": "b8284641",
   "metadata": {},
   "outputs": [
    {
     "name": "stdout",
     "output_type": "stream",
     "text": [
      "ROC score for train data : 0.9893803401525566\n",
      "ROC score for test data : 0.9854497354497355\n"
     ]
    }
   ],
   "source": [
    "# get the ROC scores\n",
    "\n",
    "preds_train = nb.predict_proba(X_train)[:,1]\n",
    "print('ROC score for train data : {}'.format(roc_auc_score(y_train,preds_train)))\n",
    "\n",
    "preds_test = nb.predict_proba(X_test)[:,1]\n",
    "print('ROC score for test data : {}'.format(roc_auc_score(y_test,preds_test)))"
   ]
  },
  {
   "cell_type": "markdown",
   "id": "b3bc3606",
   "metadata": {},
   "source": [
    "- We can see that the model performs quite well with both the training and test datasets as given by the roc_auc_score"
   ]
  },
  {
   "cell_type": "markdown",
   "id": "d4e4f2be",
   "metadata": {},
   "source": [
    "## Brier Score\n",
    "\n",
    "https://scikit-learn.org/stable/modules/generated/sklearn.metrics.brier_score_loss.html"
   ]
  },
  {
   "cell_type": "code",
   "execution_count": 9,
   "id": "2ea7e2f3",
   "metadata": {},
   "outputs": [
    {
     "name": "stdout",
     "output_type": "stream",
     "text": [
      "Brier score for train data : 0.051000734589839614\n",
      "Brier score for test data : 0.07586880889698372\n"
     ]
    }
   ],
   "source": [
    "# get the Brier scores for all models\n",
    "\n",
    "bs_train = brier_score_loss(y_train,preds_train)\n",
    "print('Brier score for train data : {}'.format(bs_train))\n",
    "\n",
    "bs_test = brier_score_loss(y_test,preds_test)\n",
    "print('Brier score for test data : {}'.format(bs_test))"
   ]
  },
  {
   "cell_type": "markdown",
   "id": "418a8dd9",
   "metadata": {},
   "source": [
    "The brier score also seems to be doing fair. Lets check by plotting the calibration curve"
   ]
  },
  {
   "cell_type": "code",
   "execution_count": 10,
   "id": "cfdf4712",
   "metadata": {},
   "outputs": [],
   "source": [
    "# lets write a function to plot the calibration curve\n",
    "\n",
    "def plot_calibration_curve(y_test,preds_test,bins):\n",
    "    \n",
    "    plt.figure(figsize=(10,14))\n",
    "    plt.subplot(2,1,1)\n",
    "    fraction_of_positives, mean_predicted_value = calibration_curve(y_test, preds_test, n_bins=bins,strategy='uniform')\n",
    "    plt.plot(mean_predicted_value, fraction_of_positives,label='Gaussian NB')\n",
    "\n",
    "\n",
    "    # draw the perfect calibrated line\n",
    "    plt.plot(np.linspace(0,1,10),np.linspace(0,1,10),linestyle='--',c='red',label='Perfect Calibration')\n",
    "    plt.legend(loc='best');\n",
    "    plt.title('Calibration Curve')\n",
    "    plt.xlabel('Probability Predictions')\n",
    "    plt.ylabel('Fraction of positive examples')\n",
    "\n",
    "    # lets plot the distribution of the predicted probabilities as well\n",
    "    plt.subplot(2,1,2)\n",
    "    plt.hist(preds_test,range=(0,1),bins=bins,density=True,alpha = 0.5)\n",
    "    plt.title('Density')\n",
    "    plt.xlabel('')\n",
    "\n",
    "    plt.show()"
   ]
  },
  {
   "cell_type": "code",
   "execution_count": 11,
   "id": "ec570e3f",
   "metadata": {},
   "outputs": [
    {
     "data": {
      "image/png": "[encoded data removed]",
      "text/plain": [
       "<Figure size 720x1008 with 2 Axes>"
      ]
     },
     "metadata": {
      "needs_background": "light"
     },
     "output_type": "display_data"
    }
   ],
   "source": [
    "plot_calibration_curve(y_test,preds_test,bins=10)"
   ]
  },
  {
   "cell_type": "markdown",
   "id": "a7f1b0af",
   "metadata": {},
   "source": [
    "The probability of the Gaussian NB model is uncalibrated. Prediction Distribution seems to be spreaded though\n",
    "\n",
    "## Probability Re-calibration\n",
    "- Now we'll try to calibrate our Gaussian model predictions"
   ]
  },
  {
   "cell_type": "code",
   "execution_count": 12,
   "id": "e4f20078",
   "metadata": {},
   "outputs": [],
   "source": [
    "# create a calibrated classifier cv \n",
    "\n",
    "# for isotonic method\n",
    "clf_iso = CalibratedClassifierCV(base_estimator=nb, n_jobs=2, cv=5, method='isotonic')\n",
    "\n",
    "# fitting the clf to our test data\n",
    "# its best to keep some hold sample data, but for less data, we can do this method of cv\n",
    "clf_iso.fit(X_test,y_test) \n",
    "# get the predictions\n",
    "preds_iso = clf_iso.predict_proba(X_test)[:,1]\n",
    "\n",
    "\n",
    "# for sigmoid method - or platt method\n",
    "clf_sigmoid = CalibratedClassifierCV(base_estimator=nb, n_jobs=2, cv=5, method='sigmoid')\n",
    "clf_sigmoid.fit(X_test,y_test) \n",
    "# get the predictions\n",
    "preds_sigmoid = clf_sigmoid.predict_proba(X_test)[:,1]"
   ]
  },
  {
   "cell_type": "code",
   "execution_count": 13,
   "id": "e0792c56",
   "metadata": {},
   "outputs": [
    {
     "data": {
      "image/png": "[encoded data removed]",
      "text/plain": [
       "<Figure size 720x1008 with 2 Axes>"
      ]
     },
     "metadata": {
      "needs_background": "light"
     },
     "output_type": "display_data"
    }
   ],
   "source": [
    "plot_calibration_curve(y_test,preds_iso,bins=10)"
   ]
  },
  {
   "cell_type": "code",
   "execution_count": 14,
   "id": "d0809edb",
   "metadata": {},
   "outputs": [
    {
     "data": {
      "image/png": "[encoded data removed]",
      "text/plain": [
       "<Figure size 720x1008 with 2 Axes>"
      ]
     },
     "metadata": {
      "needs_background": "light"
     },
     "output_type": "display_data"
    }
   ],
   "source": [
    "plot_calibration_curve(y_test,preds_sigmoid,bins=10)"
   ]
  },
  {
   "cell_type": "markdown",
   "id": "cba5be0e",
   "metadata": {},
   "source": [
    "For this particular dataset, the Isotonic Calibration worked better than Plat Scaling"
   ]
  },
  {
   "cell_type": "code",
   "execution_count": 15,
   "id": "6b242728",
   "metadata": {},
   "outputs": [
    {
     "name": "stdout",
     "output_type": "stream",
     "text": [
      "ROC score for test data ISOTONIC: 0.9920634920634921\n"
     ]
    }
   ],
   "source": [
    "# checking the roc score for this classifiers\n",
    "\n",
    "print('ROC score for test data ISOTONIC: {}'.format(roc_auc_score(y_test,preds_iso)))"
   ]
  },
  {
   "cell_type": "code",
   "execution_count": 16,
   "id": "affc723c",
   "metadata": {},
   "outputs": [
    {
     "name": "stdout",
     "output_type": "stream",
     "text": [
      "ROC score for test data SIGMOID: 0.9901528512639624\n"
     ]
    }
   ],
   "source": [
    "# checking the roc score for this classifiers\n",
    "\n",
    "print('ROC score for test data SIGMOID: {}'.format(roc_auc_score(y_test,preds_sigmoid)))"
   ]
  },
  {
   "cell_type": "code",
   "execution_count": 17,
   "id": "61dbdae7",
   "metadata": {},
   "outputs": [
    {
     "name": "stdout",
     "output_type": "stream",
     "text": [
      "ROC score for train data : 0.9893803401525566\n",
      "ROC score for test data : 0.9854497354497355\n"
     ]
    }
   ],
   "source": [
    "# the original score before calibrating\n",
    "# get the ROC scores\n",
    "\n",
    "preds_train = nb.predict_proba(X_train)[:,1]\n",
    "print('ROC score for train data : {}'.format(roc_auc_score(y_train,preds_train)))\n",
    "\n",
    "preds_test = nb.predict_proba(X_test)[:,1]\n",
    "print('ROC score for test data : {}'.format(roc_auc_score(y_test,preds_test)))"
   ]
  },
  {
   "cell_type": "markdown",
   "id": "55a32be2",
   "metadata": {},
   "source": [
    "- Seems the model performance also seems to be better with the calibrated classifier"
   ]
  },
  {
   "cell_type": "code",
   "execution_count": 18,
   "id": "8764eaa5",
   "metadata": {},
   "outputs": [
    {
     "name": "stdout",
     "output_type": "stream",
     "text": [
      "Brier score for test data ISOTONIC: 0.03755352664684502\n"
     ]
    }
   ],
   "source": [
    "# checking the brier scores - expecting to be much better\n",
    "\n",
    "bs_test = brier_score_loss(y_test,preds_iso)\n",
    "print('Brier score for test data ISOTONIC: {}'.format(bs_test))"
   ]
  },
  {
   "cell_type": "code",
   "execution_count": 19,
   "id": "a6a7e15c",
   "metadata": {},
   "outputs": [
    {
     "name": "stdout",
     "output_type": "stream",
     "text": [
      "Brier score for test data SIGMOID: 0.054142198229985936\n"
     ]
    }
   ],
   "source": [
    "bs_test = brier_score_loss(y_test,preds_sigmoid)\n",
    "print('Brier score for test data SIGMOID: {}'.format(bs_test))"
   ]
  },
  {
   "cell_type": "code",
   "execution_count": 20,
   "id": "2091aa5c",
   "metadata": {},
   "outputs": [
    {
     "name": "stdout",
     "output_type": "stream",
     "text": [
      "Brier score for train data : 0.051000734589839614\n",
      "Brier score for test data : 0.07586880889698372\n"
     ]
    }
   ],
   "source": [
    "# BEFORE calibration scores\n",
    "bs_train = brier_score_loss(y_train,preds_train)\n",
    "print('Brier score for train data : {}'.format(bs_train))\n",
    "\n",
    "bs_test = brier_score_loss(y_test,preds_test)\n",
    "print('Brier score for test data : {}'.format(bs_test))"
   ]
  },
  {
   "cell_type": "markdown",
   "id": "e179530a",
   "metadata": {},
   "source": [
    "- As expected, the brier scores for both the methods are pretty much better and improved."
   ]
  },
  {
   "cell_type": "code",
   "execution_count": null,
   "id": "f1a11dc7",
   "metadata": {},
   "outputs": [],
   "source": []
  }
 ],
 "metadata": {
  "kernelspec": {
   "display_name": "Python 3 (ipykernel)",
   "language": "python",
   "name": "python3"
  },
  "language_info": {
   "codemirror_mode": {
    "name": "ipython",
    "version": 3
   },
   "file_extension": ".py",
   "mimetype": "text/x-python",
   "name": "python",
   "nbconvert_exporter": "python",
   "pygments_lexer": "ipython3",
   "version": "3.9.5"
  }
 },
 "nbformat": 4,
 "nbformat_minor": 5
}
